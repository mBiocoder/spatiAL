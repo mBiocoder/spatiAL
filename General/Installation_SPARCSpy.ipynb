{
 "cells": [
  {
   "cell_type": "markdown",
   "id": "ecc0aa00",
   "metadata": {},
   "source": [
    "# II. Install SPARCSpy <a class=\"anchor\" id=\"install\"></a>"
   ]
  },
  {
   "cell_type": "code",
   "execution_count": null,
   "id": "5276b67a",
   "metadata": {},
   "outputs": [],
   "source": [
    "!pip install numpy pandas tabulate colorama matplotlib tqdm h5py pyYaml datetime pillow tabulate colorama zarr ome_zarr alphabase\n",
    "!pip install numba cellpose torch pytorch-lightning torchvision opencv scikit-image scikit-fmm scipy"
   ]
  },
  {
   "cell_type": "code",
   "execution_count": null,
   "id": "39f6313a",
   "metadata": {},
   "outputs": [],
   "source": [
    "!git clone https://github.com/MannLabs/SPARCSpy\n",
    "%cd SPARCSpy\n",
    "!ls -l\n",
    "\n",
    "!conda create -y -n \"SPARCSpy\"\n",
    "!conda activate SPARCSpy\n",
    "!conda install -y python=3.9 scipy 'scikit-image>=0.19' scikit-fmm cellpose opencv numba -c conda-forge"
   ]
  },
  {
   "cell_type": "code",
   "execution_count": null,
   "id": "54fd7fc4",
   "metadata": {},
   "outputs": [],
   "source": [
    "!conda install -c conda-forge pytorch-lightning -y"
   ]
  },
  {
   "cell_type": "code",
   "execution_count": null,
   "id": "3e9fc20f",
   "metadata": {},
   "outputs": [],
   "source": [
    "!pwd\n",
    "!git clone https://github.com/MannLabs/SPARCSpy\n",
    "%cd SPARCSpy\n",
    "!pip install git+https://github.com/MannLabs/alphabase\n",
    "!pip install -e ."
   ]
  },
  {
   "cell_type": "code",
   "execution_count": null,
   "id": "a1e07546",
   "metadata": {},
   "outputs": [],
   "source": [
    "!pip install wandb\n",
    "!pip uninstall -y torchvision\n",
    "!pip install torch torchvision torchaudio --index-url https://download.pytorch.org/whl/cpu"
   ]
  },
  {
   "cell_type": "code",
   "execution_count": null,
   "id": "2935cf7f",
   "metadata": {},
   "outputs": [],
   "source": []
  }
 ],
 "metadata": {
  "kernelspec": {
   "display_name": "Python 3 (ipykernel)",
   "language": "python",
   "name": "python3"
  },
  "language_info": {
   "codemirror_mode": {
    "name": "ipython",
    "version": 3
   },
   "file_extension": ".py",
   "mimetype": "text/x-python",
   "name": "python",
   "nbconvert_exporter": "python",
   "pygments_lexer": "ipython3",
   "version": "3.10.6"
  }
 },
 "nbformat": 4,
 "nbformat_minor": 5
}
