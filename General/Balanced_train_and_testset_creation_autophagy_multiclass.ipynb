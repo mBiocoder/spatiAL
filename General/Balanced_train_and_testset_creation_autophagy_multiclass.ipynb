{
 "cells": [
  {
   "cell_type": "code",
   "execution_count": 2,
   "id": "debfa02c",
   "metadata": {},
   "outputs": [
    {
     "name": "stdout",
     "output_type": "stream",
     "text": [
      "Looking in indexes: https://pypi.org/simple, https://pypi.ngc.nvidia.com\n",
      "Collecting torch-intermediate-layer-getter\n",
      "  Downloading torch_intermediate_layer_getter-0.1.post1.tar.gz (3.0 kB)\n",
      "Building wheels for collected packages: torch-intermediate-layer-getter\n",
      "  Building wheel for torch-intermediate-layer-getter (setup.py) ... \u001b[?25ldone\n",
      "\u001b[?25h  Created wheel for torch-intermediate-layer-getter: filename=torch_intermediate_layer_getter-0.1.post1-py3-none-any.whl size=3724 sha256=a1d4a4fd058e802f08fafcd7b36362c1394d8a6e3bbdc5b6da19a8854cbd2913\n",
      "  Stored in directory: /tmp/pip-ephem-wheel-cache-2urnypr1/wheels/6a/11/c0/30d81aa26172d10d68ffaf352b0762eb9fe0a5f5dcf3de63e0\n",
      "Successfully built torch-intermediate-layer-getter\n",
      "Installing collected packages: torch-intermediate-layer-getter\n",
      "Successfully installed torch-intermediate-layer-getter-0.1.post1\n",
      "\u001b[33mWARNING: You are using pip version 21.2.4; however, version 25.0.1 is available.\n",
      "You should consider upgrading via the '/usr/bin/python -m pip install --upgrade pip' command.\u001b[0m\n",
      "Looking in indexes: https://pypi.org/simple, https://pypi.ngc.nvidia.com\n",
      "Requirement already satisfied: umap-learn in /usr/local/lib/python3.10/dist-packages (0.5.7)\n",
      "Requirement already satisfied: scipy>=1.3.1 in /usr/local/lib/python3.10/dist-packages (from umap-learn) (1.10.1)\n",
      "Requirement already satisfied: numba>=0.51.2 in /usr/local/lib/python3.10/dist-packages (from umap-learn) (0.61.0)\n",
      "Requirement already satisfied: tqdm in /usr/local/lib/python3.10/dist-packages (from umap-learn) (4.65.0)\n",
      "Requirement already satisfied: pynndescent>=0.5 in /usr/local/lib/python3.10/dist-packages (from umap-learn) (0.5.13)\n",
      "Requirement already satisfied: numpy>=1.17 in /usr/local/lib/python3.10/dist-packages (from umap-learn) (1.26.4)\n",
      "Requirement already satisfied: scikit-learn>=0.22 in /usr/local/lib/python3.10/dist-packages (from umap-learn) (1.2.0)\n",
      "Requirement already satisfied: llvmlite<0.45,>=0.44.0dev0 in /usr/local/lib/python3.10/dist-packages (from numba>=0.51.2->umap-learn) (0.44.0)\n",
      "Requirement already satisfied: joblib>=0.11 in /usr/local/lib/python3.10/dist-packages (from pynndescent>=0.5->umap-learn) (1.2.0)\n",
      "Requirement already satisfied: threadpoolctl>=2.0.0 in /usr/local/lib/python3.10/dist-packages (from scikit-learn>=0.22->umap-learn) (3.1.0)\n",
      "\u001b[33mWARNING: You are using pip version 21.2.4; however, version 25.0.1 is available.\n",
      "You should consider upgrading via the '/usr/bin/python -m pip install --upgrade pip' command.\u001b[0m\n",
      "Looking in indexes: https://pypi.org/simple, https://pypi.ngc.nvidia.com\n",
      "Requirement already satisfied: leidenalg in /usr/local/lib/python3.10/dist-packages (0.10.2)\n",
      "Requirement already satisfied: igraph<0.12,>=0.10.0 in /usr/local/lib/python3.10/dist-packages (from leidenalg) (0.11.8)\n",
      "Requirement already satisfied: texttable>=1.6.2 in /usr/local/lib/python3.10/dist-packages (from igraph<0.12,>=0.10.0->leidenalg) (1.7.0)\n",
      "\u001b[33mWARNING: You are using pip version 21.2.4; however, version 25.0.1 is available.\n",
      "You should consider upgrading via the '/usr/bin/python -m pip install --upgrade pip' command.\u001b[0m\n",
      "Looking in indexes: https://pypi.org/simple, https://pypi.ngc.nvidia.com\n",
      "Requirement already satisfied: scanpy==1.9.6 in /usr/local/lib/python3.10/dist-packages (1.9.6)\n",
      "Requirement already satisfied: matplotlib>=3.4 in /usr/local/lib/python3.10/dist-packages (from scanpy==1.9.6) (3.7.1)\n",
      "Requirement already satisfied: anndata>=0.7.4 in /usr/local/lib/python3.10/dist-packages (from scanpy==1.9.6) (0.10.3)\n",
      "Requirement already satisfied: patsy in /usr/local/lib/python3.10/dist-packages (from scanpy==1.9.6) (1.0.1)\n",
      "Requirement already satisfied: pandas!=2.1.2,>=1.1.1 in /usr/local/lib/python3.10/dist-packages (from scanpy==1.9.6) (1.5.2)\n",
      "Requirement already satisfied: seaborn!=0.13.0 in /usr/local/lib/python3.10/dist-packages (from scanpy==1.9.6) (0.12.2)\n",
      "Requirement already satisfied: scipy>=1.4 in /usr/local/lib/python3.10/dist-packages (from scanpy==1.9.6) (1.10.1)\n",
      "Requirement already satisfied: natsort in /usr/local/lib/python3.10/dist-packages (from scanpy==1.9.6) (8.4.0)\n",
      "Requirement already satisfied: joblib in /usr/local/lib/python3.10/dist-packages (from scanpy==1.9.6) (1.2.0)\n",
      "Requirement already satisfied: packaging in /usr/local/lib/python3.10/dist-packages (from scanpy==1.9.6) (23.1)\n",
      "Requirement already satisfied: networkx>=2.3 in /usr/local/lib/python3.10/dist-packages (from scanpy==1.9.6) (3.1)\n",
      "Requirement already satisfied: scikit-learn>=0.24 in /usr/local/lib/python3.10/dist-packages (from scanpy==1.9.6) (1.2.0)\n",
      "Requirement already satisfied: statsmodels>=0.10.0rc2 in /usr/local/lib/python3.10/dist-packages (from scanpy==1.9.6) (0.14.4)\n",
      "Requirement already satisfied: tqdm in /usr/local/lib/python3.10/dist-packages (from scanpy==1.9.6) (4.65.0)\n",
      "Requirement already satisfied: h5py>=3 in /usr/local/lib/python3.10/dist-packages (from scanpy==1.9.6) (3.9.0)\n",
      "Requirement already satisfied: numba>=0.41.0 in /usr/local/lib/python3.10/dist-packages (from scanpy==1.9.6) (0.61.0)\n",
      "Requirement already satisfied: umap-learn>=0.3.10 in /usr/local/lib/python3.10/dist-packages (from scanpy==1.9.6) (0.5.7)\n",
      "Requirement already satisfied: numpy>=1.17.0 in /usr/local/lib/python3.10/dist-packages (from scanpy==1.9.6) (1.26.4)\n",
      "Requirement already satisfied: session-info in /usr/local/lib/python3.10/dist-packages (from scanpy==1.9.6) (1.0.0)\n",
      "Requirement already satisfied: array-api-compat in /usr/local/lib/python3.10/dist-packages (from anndata>=0.7.4->scanpy==1.9.6) (1.11.2)\n",
      "Requirement already satisfied: exceptiongroup in /usr/local/lib/python3.10/dist-packages (from anndata>=0.7.4->scanpy==1.9.6) (1.1.1)\n",
      "Requirement already satisfied: kiwisolver>=1.0.1 in /usr/local/lib/python3.10/dist-packages (from matplotlib>=3.4->scanpy==1.9.6) (1.4.4)\n",
      "Requirement already satisfied: contourpy>=1.0.1 in /usr/local/lib/python3.10/dist-packages (from matplotlib>=3.4->scanpy==1.9.6) (1.0.7)\n",
      "Requirement already satisfied: cycler>=0.10 in /usr/local/lib/python3.10/dist-packages (from matplotlib>=3.4->scanpy==1.9.6) (0.11.0)\n",
      "Requirement already satisfied: pillow>=6.2.0 in /usr/local/lib/python3.10/dist-packages (from matplotlib>=3.4->scanpy==1.9.6) (9.2.0)\n",
      "Requirement already satisfied: python-dateutil>=2.7 in /usr/local/lib/python3.10/dist-packages (from matplotlib>=3.4->scanpy==1.9.6) (2.8.2)\n",
      "Requirement already satisfied: fonttools>=4.22.0 in /usr/local/lib/python3.10/dist-packages (from matplotlib>=3.4->scanpy==1.9.6) (4.39.4)\n",
      "Requirement already satisfied: pyparsing>=2.3.1 in /usr/local/lib/python3.10/dist-packages (from matplotlib>=3.4->scanpy==1.9.6) (3.0.9)\n",
      "Requirement already satisfied: llvmlite<0.45,>=0.44.0dev0 in /usr/local/lib/python3.10/dist-packages (from numba>=0.41.0->scanpy==1.9.6) (0.44.0)\n",
      "Requirement already satisfied: pytz>=2020.1 in /usr/local/lib/python3.10/dist-packages (from pandas!=2.1.2,>=1.1.1->scanpy==1.9.6) (2023.3)\n",
      "Requirement already satisfied: six>=1.5 in /usr/local/lib/python3.10/dist-packages (from python-dateutil>=2.7->matplotlib>=3.4->scanpy==1.9.6) (1.16.0)\n",
      "Requirement already satisfied: threadpoolctl>=2.0.0 in /usr/local/lib/python3.10/dist-packages (from scikit-learn>=0.24->scanpy==1.9.6) (3.1.0)\n",
      "Requirement already satisfied: pynndescent>=0.5 in /usr/local/lib/python3.10/dist-packages (from umap-learn>=0.3.10->scanpy==1.9.6) (0.5.13)\n",
      "Requirement already satisfied: stdlib-list in /usr/local/lib/python3.10/dist-packages (from session-info->scanpy==1.9.6) (0.11.0)\n",
      "\u001b[33mWARNING: You are using pip version 21.2.4; however, version 25.0.1 is available.\n",
      "You should consider upgrading via the '/usr/bin/python -m pip install --upgrade pip' command.\u001b[0m\n",
      "Looking in indexes: https://pypi.org/simple, https://pypi.ngc.nvidia.com\n",
      "Requirement already satisfied: anndata in /usr/local/lib/python3.10/dist-packages (0.10.3)\n",
      "Requirement already satisfied: umap-learn in /usr/local/lib/python3.10/dist-packages (0.5.7)\n",
      "Requirement already satisfied: pandas!=2.1.0rc0,!=2.1.2,>=1.1.1 in /usr/local/lib/python3.10/dist-packages (from anndata) (1.5.2)\n",
      "Requirement already satisfied: packaging>=20 in /usr/local/lib/python3.10/dist-packages (from anndata) (23.1)\n",
      "Requirement already satisfied: exceptiongroup in /usr/local/lib/python3.10/dist-packages (from anndata) (1.1.1)\n",
      "Requirement already satisfied: natsort in /usr/local/lib/python3.10/dist-packages (from anndata) (8.4.0)\n",
      "Requirement already satisfied: array-api-compat in /usr/local/lib/python3.10/dist-packages (from anndata) (1.11.2)\n",
      "Requirement already satisfied: scipy>1.4 in /usr/local/lib/python3.10/dist-packages (from anndata) (1.10.1)\n",
      "Requirement already satisfied: numpy>=1.16.5 in /usr/local/lib/python3.10/dist-packages (from anndata) (1.26.4)\n",
      "Requirement already satisfied: h5py>=3 in /usr/local/lib/python3.10/dist-packages (from anndata) (3.9.0)\n",
      "Requirement already satisfied: tqdm in /usr/local/lib/python3.10/dist-packages (from umap-learn) (4.65.0)\n",
      "Requirement already satisfied: numba>=0.51.2 in /usr/local/lib/python3.10/dist-packages (from umap-learn) (0.61.0)\n",
      "Requirement already satisfied: scikit-learn>=0.22 in /usr/local/lib/python3.10/dist-packages (from umap-learn) (1.2.0)\n",
      "Requirement already satisfied: pynndescent>=0.5 in /usr/local/lib/python3.10/dist-packages (from umap-learn) (0.5.13)\n",
      "Requirement already satisfied: llvmlite<0.45,>=0.44.0dev0 in /usr/local/lib/python3.10/dist-packages (from numba>=0.51.2->umap-learn) (0.44.0)\n",
      "Requirement already satisfied: pytz>=2020.1 in /usr/local/lib/python3.10/dist-packages (from pandas!=2.1.0rc0,!=2.1.2,>=1.1.1->anndata) (2023.3)\n",
      "Requirement already satisfied: python-dateutil>=2.8.1 in /usr/local/lib/python3.10/dist-packages (from pandas!=2.1.0rc0,!=2.1.2,>=1.1.1->anndata) (2.8.2)\n",
      "Requirement already satisfied: joblib>=0.11 in /usr/local/lib/python3.10/dist-packages (from pynndescent>=0.5->umap-learn) (1.2.0)\n",
      "Requirement already satisfied: six>=1.5 in /usr/local/lib/python3.10/dist-packages (from python-dateutil>=2.8.1->pandas!=2.1.0rc0,!=2.1.2,>=1.1.1->anndata) (1.16.0)\n",
      "Requirement already satisfied: threadpoolctl>=2.0.0 in /usr/local/lib/python3.10/dist-packages (from scikit-learn>=0.22->umap-learn) (3.1.0)\n",
      "\u001b[33mWARNING: You are using pip version 21.2.4; however, version 25.0.1 is available.\n",
      "You should consider upgrading via the '/usr/bin/python -m pip install --upgrade pip' command.\u001b[0m\n",
      "Looking in indexes: https://pypi.org/simple, https://pypi.ngc.nvidia.com\n",
      "Collecting watermark\n",
      "  Downloading watermark-2.5.0-py2.py3-none-any.whl (7.7 kB)\n",
      "Requirement already satisfied: ipython>=6.0 in /usr/local/lib/python3.10/dist-packages (from watermark) (8.14.0)\n",
      "Requirement already satisfied: setuptools in /usr/local/lib/python3.10/dist-packages (from watermark) (65.5.1)\n",
      "Requirement already satisfied: importlib-metadata>=1.4 in /usr/local/lib/python3.10/dist-packages (from watermark) (6.6.0)\n",
      "Requirement already satisfied: zipp>=0.5 in /usr/local/lib/python3.10/dist-packages (from importlib-metadata>=1.4->watermark) (3.15.0)\n",
      "Requirement already satisfied: jedi>=0.16 in /usr/local/lib/python3.10/dist-packages (from ipython>=6.0->watermark) (0.18.2)\n",
      "Requirement already satisfied: pexpect>4.3 in /usr/local/lib/python3.10/dist-packages (from ipython>=6.0->watermark) (4.8.0)\n",
      "Requirement already satisfied: matplotlib-inline in /usr/local/lib/python3.10/dist-packages (from ipython>=6.0->watermark) (0.1.6)\n",
      "Requirement already satisfied: pickleshare in /usr/local/lib/python3.10/dist-packages (from ipython>=6.0->watermark) (0.7.5)\n",
      "Requirement already satisfied: pygments>=2.4.0 in /usr/local/lib/python3.10/dist-packages (from ipython>=6.0->watermark) (2.15.1)\n",
      "Requirement already satisfied: backcall in /usr/local/lib/python3.10/dist-packages (from ipython>=6.0->watermark) (0.2.0)\n",
      "Requirement already satisfied: stack-data in /usr/local/lib/python3.10/dist-packages (from ipython>=6.0->watermark) (0.6.2)\n",
      "Requirement already satisfied: decorator in /usr/local/lib/python3.10/dist-packages (from ipython>=6.0->watermark) (5.1.1)\n",
      "Requirement already satisfied: traitlets>=5 in /usr/local/lib/python3.10/dist-packages (from ipython>=6.0->watermark) (5.9.0)\n",
      "Requirement already satisfied: prompt-toolkit!=3.0.37,<3.1.0,>=3.0.30 in /usr/local/lib/python3.10/dist-packages (from ipython>=6.0->watermark) (3.0.38)\n",
      "Requirement already satisfied: parso<0.9.0,>=0.8.0 in /usr/local/lib/python3.10/dist-packages (from jedi>=0.16->ipython>=6.0->watermark) (0.8.3)\n",
      "Requirement already satisfied: ptyprocess>=0.5 in /usr/local/lib/python3.10/dist-packages (from pexpect>4.3->ipython>=6.0->watermark) (0.7.0)\n",
      "Requirement already satisfied: wcwidth in /usr/local/lib/python3.10/dist-packages (from prompt-toolkit!=3.0.37,<3.1.0,>=3.0.30->ipython>=6.0->watermark) (0.2.6)\n",
      "Requirement already satisfied: asttokens>=2.1.0 in /usr/local/lib/python3.10/dist-packages (from stack-data->ipython>=6.0->watermark) (2.2.1)\n",
      "Requirement already satisfied: executing>=1.2.0 in /usr/local/lib/python3.10/dist-packages (from stack-data->ipython>=6.0->watermark) (1.2.0)\n",
      "Requirement already satisfied: pure-eval in /usr/local/lib/python3.10/dist-packages (from stack-data->ipython>=6.0->watermark) (0.2.2)\n",
      "Requirement already satisfied: six in /usr/local/lib/python3.10/dist-packages (from asttokens>=2.1.0->stack-data->ipython>=6.0->watermark) (1.16.0)\n",
      "Installing collected packages: watermark\n",
      "Successfully installed watermark-2.5.0\n",
      "\u001b[33mWARNING: You are using pip version 21.2.4; however, version 25.0.1 is available.\n",
      "You should consider upgrading via the '/usr/bin/python -m pip install --upgrade pip' command.\u001b[0m\n"
     ]
    }
   ],
   "source": [
    "!pip install torch-intermediate-layer-getter\n",
    "!pip install umap-learn\n",
    "!pip install leidenalg\n",
    "!pip install scanpy==1.9.6\n",
    "!pip install anndata umap-learn\n",
    "!pip install watermark"
   ]
  },
  {
   "cell_type": "code",
   "execution_count": 3,
   "id": "494ff01a",
   "metadata": {},
   "outputs": [
    {
     "name": "stdout",
     "output_type": "stream",
     "text": [
      "Looking in indexes: https://pypi.org/simple, https://pypi.ngc.nvidia.com\n",
      "Collecting nexusformat\n",
      "  Downloading nexusformat-1.0.8-py3-none-any.whl (79 kB)\n",
      "\u001b[K     |████████████████████████████████| 79 kB 3.2 MB/s eta 0:00:01\n",
      "\u001b[?25hCollecting hdf5plugin\n",
      "  Downloading hdf5plugin-5.1.0-py3-none-manylinux_2_17_x86_64.manylinux2014_x86_64.whl (45.9 MB)\n",
      "\u001b[K     |████████████████████████████████| 45.9 MB 7.0 MB/s eta 0:00:01\n",
      "\u001b[?25hRequirement already satisfied: h5py>=2.9 in /usr/local/lib/python3.10/dist-packages (from nexusformat) (3.9.0)\n",
      "Requirement already satisfied: packaging in /usr/local/lib/python3.10/dist-packages (from nexusformat) (23.1)\n",
      "Requirement already satisfied: scipy in /usr/local/lib/python3.10/dist-packages (from nexusformat) (1.10.1)\n",
      "Requirement already satisfied: numpy in /usr/local/lib/python3.10/dist-packages (from nexusformat) (1.26.4)\n",
      "Installing collected packages: hdf5plugin, nexusformat\n",
      "Successfully installed hdf5plugin-5.1.0 nexusformat-1.0.8\n",
      "\u001b[33mWARNING: You are using pip version 21.2.4; however, version 25.0.1 is available.\n",
      "You should consider upgrading via the '/usr/bin/python -m pip install --upgrade pip' command.\u001b[0m\n"
     ]
    }
   ],
   "source": [
    "!pip install nexusformat"
   ]
  },
  {
   "cell_type": "code",
   "execution_count": 4,
   "id": "dc077cf6",
   "metadata": {},
   "outputs": [
    {
     "name": "stderr",
     "output_type": "stream",
     "text": [
      "/usr/local/lib/python3.10/dist-packages/tqdm/auto.py:21: TqdmWarning: IProgress not found. Please update jupyter and ipywidgets. See https://ipywidgets.readthedocs.io/en/stable/user_install.html\n",
      "  from .autonotebook import tqdm as notebook_tqdm\n"
     ]
    }
   ],
   "source": [
    "import os\n",
    "import wandb\n",
    "import numpy as np\n",
    "import seaborn as sns\n",
    "import matplotlib.pyplot as plt\n",
    "from matplotlib.colors import ListedColormap\n",
    "from tqdm.notebook import tqdm\n",
    "import pandas as pd\n",
    "import torch\n",
    "from torch.utils.data import DataLoader, Dataset, random_split, SubsetRandomSampler\n",
    "import torch.nn as nn\n",
    "import torch.nn.functional as F\n",
    "import torch.optim as optim\n",
    "from sklearn.metrics import precision_score, recall_score, f1_score, accuracy_score, confusion_matrix, balanced_accuracy_score\n",
    "import sys\n",
    "import seaborn as sn\n",
    "from torch.utils.tensorboard import SummaryWriter\n",
    "from torch_intermediate_layer_getter import IntermediateLayerGetter as MidGetter\n",
    "import umap\n",
    "import scanpy as sc\n",
    "import anndata as ad\n",
    "import re\n",
    "from collections import Counter\n",
    "import random\n",
    "from torch.utils.data import Subset\n",
    "import h5py\n",
    "import random\n",
    "import pickle\n",
    "import glob\n",
    "\n",
    "from sparcscore.ml.datasets import HDF5SingleCellDataset\n",
    "# from sparcscore.pipeline.project import TimecourseProject, Project\n",
    "# from sparcscore.pipeline.workflows import MultithreadedWGATimecourseSegmentation, WGATimecourseSegmentation, MultithreadedCytosolCellposeTimecourseSegmentation, ShardedWGASegmentation, ShardedDAPISegmentationCellpose, WGASegmentation, DAPISegmentationCellpose\n",
    "from sparcscore.pipeline.extraction import HDF5CellExtraction, TimecourseHDF5CellExtraction\n",
    "#from sparcscore.pipeline.classification import MLClusterClassifier\n",
    "#from sparcscore.ml.pretrained_models import autophagy_classifier2_1"
   ]
  },
  {
   "cell_type": "code",
   "execution_count": 5,
   "id": "1ca5cfe0",
   "metadata": {},
   "outputs": [
    {
     "name": "stdout",
     "output_type": "stream",
     "text": [
      "total 0\n"
     ]
    }
   ],
   "source": [
    "!rm -rf /dss/dsshome1/0F/di93quv/.cache/*\n",
    "!ls -lh /dss/dsshome1/0F/di93quv/.cache"
   ]
  },
  {
   "cell_type": "markdown",
   "id": "dd7ef32d",
   "metadata": {},
   "source": [
    "## I. Make a feasible test set <a class=\"anchor\" id=\"test-set\"></a>\n",
    "\n",
    "First, we want to look at where we have the data stored and how many slides, i.e. files, we have and then we create a test set containing instances from all biological classes. None of the instances from this test set should leak into any of our training runs. We use this same balanced test set across all emsembling runs."
   ]
  },
  {
   "cell_type": "code",
   "execution_count": 5,
   "id": "25723d6e",
   "metadata": {},
   "outputs": [
    {
     "name": "stdout",
     "output_type": "stream",
     "text": [
      "Total: 3426407\n",
      "0: 407464\n",
      "1: 209030\n",
      "2: 400000\n",
      "3: 9346\n",
      "4: 7476\n",
      "5: 2393091\n"
     ]
    }
   ],
   "source": [
    "full_hdf5_data = HDF5SingleCellDataset(\n",
    "    dir_list=['/dss/dssfs02/lwp-dss-0001/pn36po/pn36po-dss-0001/di93kux/231018_EI24_timecourse_phenix/231018_0316_EI24_fixed_tc/231018_0316_EI24_fixed_tc_EI24KO_1_14h.h5',\n",
    "              '/dss/dssfs02/lwp-dss-0001/pn36po/pn36po-dss-0001/di93kux/231018_EI24_timecourse_phenix/231018_0316_EI24_fixed_tc/231018_0316_EI24_fixed_tc_EI24KO_2_14h.h5',\n",
    "              '/dss/dssfs02/lwp-dss-0001/pn36po/pn36po-dss-0001/di93kux/231018_EI24_timecourse_phenix/231018_0317_EI24_fixed_tc/231018_0317_EI24_fixed_tc_EI24KO_1_14h.h5',\n",
    "              '/dss/dssfs02/lwp-dss-0001/pn36po/pn36po-dss-0001/di93kux/231018_EI24_timecourse_phenix/231018_0317_EI24_fixed_tc/231018_0317_EI24_fixed_tc_EI24KO_2_14h.h5',\n",
    "              '/dss/dssfs02/lwp-dss-0001/pn36po/pn36po-dss-0001/di93kux/231018_EI24_timecourse_phenix/231018_0318_EI24_fixed_tc/231018_0318_EI24_fixed_tc_EI24KO_1_14h.h5',\n",
    "              '/dss/dssfs02/lwp-dss-0001/pn36po/pn36po-dss-0001/di93kux/231018_EI24_timecourse_phenix/231018_0318_EI24_fixed_tc/231018_0318_EI24_fixed_tc_EI24KO_2_14h.h5',\n",
    "              '/dss/dssfs02/lwp-dss-0001/pn36po/pn36po-dss-0001/di93kux/231004_autophagy_screen_6slides/2.3_A002/single_cells.h5', \n",
    "              '/dss/dssfs02/lwp-dss-0001/pn36po/pn36po-dss-0001/di93kux/231004_autophagy_screen_6slides/2.3_B004/single_cells.h5',\n",
    "              '/dss/dssfs02/lwp-dss-0001/pn36po/pn36po-dss-0001/di93kux/231004_autophagy_screen_6slides/2.3_D001/single_cells.h5',\n",
    "              '/dss/dssfs02/lwp-dss-0001/pn36po/pn36po-dss-0001/di93kux/231004_autophagy_screen_6slides/2.3_F003/single_cells.h5',\n",
    "              '/dss/dssfs02/lwp-dss-0001/pn36po/pn36po-dss-0001/di93kux/231004_autophagy_screen_6slides/2.3_H002/single_cells.h5',\n",
    "              '/dss/dssfs02/lwp-dss-0001/pn36po/pn36po-dss-0001/di93kux/231004_autophagy_screen_6slides/2.3_K001/single_cells.h5',\n",
    "              '/dss/dssfs02/lwp-dss-0001/pn36po/pn36po-dss-0001/di93kux/230714_autophagy_training_data_sample/T_01_stim_Cr203_C6_filtered.h5',\n",
    "              '/dss/dssfs02/lwp-dss-0001/pn36po/pn36po-dss-0001/di93kux/230714_autophagy_training_data_sample/T_02_stim_Cr203_C6_filtered.h5',\n",
    "              '/dss/dssfs02/lwp-dss-0001/pn36po/pn36po-dss-0001/di93kux/230714_autophagy_training_data_sample/T_2.2_stim_Cr203_filtered.h5',\n",
    "              '/dss/dssfs02/lwp-dss-0001/pn36po/pn36po-dss-0001/di93kux/230714_autophagy_training_data_sample/T_2.3_stim_Cr203_filtered.h5',\n",
    "              '/dss/dssfs02/lwp-dss-0001/pn36po/pn36po-dss-0001/di93kux/230714_autophagy_training_data_sample/T_01_stim_wt_filtered.h5',\n",
    "              '/dss/dssfs02/lwp-dss-0001/pn36po/pn36po-dss-0001/di93kux/230714_autophagy_training_data_sample/T_2.2_stim_wt_filtered.h5',\n",
    "              '/dss/dssfs02/lwp-dss-0001/pn36po/pn36po-dss-0001/di93kux/230714_autophagy_training_data_sample/T_2.3_stim_wt_filtered.h5',\n",
    "              '/dss/dssfs02/lwp-dss-0001/pn36po/pn36po-dss-0001/di93kux/230714_autophagy_training_data_sample/T_02_stim_wt_filtered.h5',\n",
    "              '/dss/dssfs02/lwp-dss-0001/pn36po/pn36po-dss-0001/di93kux/231018_EI24_timecourse_phenix/231018_0316_EI24_fixed_tc/231018_0316_EI24_fixed_tc_WT_1_14h.h5',\n",
    "              '/dss/dssfs02/lwp-dss-0001/pn36po/pn36po-dss-0001/di93kux/231018_EI24_timecourse_phenix/231018_0316_EI24_fixed_tc/231018_0316_EI24_fixed_tc_WT_2_14h.h5',\n",
    "              '/dss/dssfs02/lwp-dss-0001/pn36po/pn36po-dss-0001/di93kux/231018_EI24_timecourse_phenix/231018_0317_EI24_fixed_tc/231018_0317_EI24_fixed_tc_WT_1_14h.h5',\n",
    "              '/dss/dssfs02/lwp-dss-0001/pn36po/pn36po-dss-0001/di93kux/231018_EI24_timecourse_phenix/231018_0317_EI24_fixed_tc/231018_0317_EI24_fixed_tc_WT_2_14h.h5',\n",
    "              '/dss/dssfs02/lwp-dss-0001/pn36po/pn36po-dss-0001/di93kux/231018_EI24_timecourse_phenix/231018_0318_EI24_fixed_tc/231018_0318_EI24_fixed_tc_WT_1_14h.h5',\n",
    "              '/dss/dssfs02/lwp-dss-0001/pn36po/pn36po-dss-0001/di93kux/231018_EI24_timecourse_phenix/231018_0318_EI24_fixed_tc/231018_0318_EI24_fixed_tc_WT_2_14h.h5',\n",
    "              '/dss/dssfs02/lwp-dss-0001/pn36po/pn36po-dss-0001/di93kux/230714_autophagy_training_data_sample/T_01_unstim_wt_filtered.h5',\n",
    "              '/dss/dssfs02/lwp-dss-0001/pn36po/pn36po-dss-0001/di93kux/230714_autophagy_training_data_sample/T_02_unstim_wt_filtered.h5',\n",
    "              '/dss/dssfs02/lwp-dss-0001/pn36po/pn36po-dss-0001/di93kux/231018_EI24_timecourse_phenix/231018_0316_EI24_fixed_tc/231018_0316_EI24_fixed_tc_WT_1_0d.h5',\n",
    "              '/dss/dssfs02/lwp-dss-0001/pn36po/pn36po-dss-0001/di93kux/231018_EI24_timecourse_phenix/231018_0316_EI24_fixed_tc/231018_0316_EI24_fixed_tc_WT_2_0d.h5',\n",
    "              '/dss/dssfs02/lwp-dss-0001/pn36po/pn36po-dss-0001/di93kux/231018_EI24_timecourse_phenix/231018_0317_EI24_fixed_tc/231018_0317_EI24_fixed_tc_WT_1_0d.h5',\n",
    "              '/dss/dssfs02/lwp-dss-0001/pn36po/pn36po-dss-0001/di93kux/231018_EI24_timecourse_phenix/231018_0317_EI24_fixed_tc/231018_0317_EI24_fixed_tc_WT_2_0d.h5',\n",
    "              '/dss/dssfs02/lwp-dss-0001/pn36po/pn36po-dss-0001/di93kux/231018_EI24_timecourse_phenix/231018_0318_EI24_fixed_tc/231018_0318_EI24_fixed_tc_WT_1_0d.h5',\n",
    "              '/dss/dssfs02/lwp-dss-0001/pn36po/pn36po-dss-0001/di93kux/231018_EI24_timecourse_phenix/231018_0318_EI24_fixed_tc/231018_0318_EI24_fixed_tc_WT_2_0d.h5',\n",
    "             '/dss/dssfs02/lwp-dss-0001/pn36po/pn36po-dss-0001/di93kux/231018_EI24_timecourse_phenix/231018_0316_EI24_fixed_tc/231018_0316_EI24_fixed_tc_WT_1_4h.h5',\n",
    "             '/dss/dssfs02/lwp-dss-0001/pn36po/pn36po-dss-0001/di93kux/231018_EI24_timecourse_phenix/231018_0316_EI24_fixed_tc/231018_0316_EI24_fixed_tc_WT_2_4h.h5',\n",
    "             '/dss/dssfs02/lwp-dss-0001/pn36po/pn36po-dss-0001/di93kux/231018_EI24_timecourse_phenix/231018_0317_EI24_fixed_tc/231018_0317_EI24_fixed_tc_WT_1_4h.h5',\n",
    "             '/dss/dssfs02/lwp-dss-0001/pn36po/pn36po-dss-0001/di93kux/231018_EI24_timecourse_phenix/231018_0317_EI24_fixed_tc/231018_0317_EI24_fixed_tc_WT_2_4h.h5',\n",
    "             '/dss/dssfs02/lwp-dss-0001/pn36po/pn36po-dss-0001/di93kux/231018_EI24_timecourse_phenix/231018_0318_EI24_fixed_tc/231018_0318_EI24_fixed_tc_WT_1_4h.h5',\n",
    "             '/dss/dssfs02/lwp-dss-0001/pn36po/pn36po-dss-0001/di93kux/231018_EI24_timecourse_phenix/231018_0318_EI24_fixed_tc/231018_0318_EI24_fixed_tc_WT_2_4h.h5'],\n",
    "    dir_labels=[4, 4, 4, 4, 4, 4, 5, 5, 5, 5, 5, 5, 2, 2, 2, 2, 0, 0, 0, 0, 0, 0, 0, 0, 0, 0, 1, 1, 1, 1, 1, 1, 1, 1, 3, 3, 3, 3, 3, 3], \n",
    "    root_dir='/dss/dssfs02/lwp-dss-0001/pn36po/pn36po-dss-0001/di93kux/230714_autophagy_training_data_sample/',\n",
    "    select_channel=4,  # Select the 5th channel (channel index 4)\n",
    "    return_id=False\n",
    ")"
   ]
  },
  {
   "cell_type": "code",
   "execution_count": 2,
   "id": "a27ce01a",
   "metadata": {},
   "outputs": [],
   "source": [
    "class HDF5SingleCellDataset(Dataset):\n",
    "    \"\"\"\n",
    "    Class for handling SPARCSpy single cell datasets stored in HDF5 files.\n",
    "\n",
    "    This class provides a convenient interface for SPARCSpy formated hdf5 files containing single cell datasets. It supports loading data\n",
    "    from multiple hdf5 files within specified directories, applying transformations on the data, and returning\n",
    "    the required information, such as label or id, along with the single cell data.\n",
    "\n",
    "    Attributes\n",
    "    ----------\n",
    "    root_dir : str\n",
    "        Root directory where the hdf5 files are located.\n",
    "    dir_labels : list of int\n",
    "        List of labels corresponding to the directories in dir_list.\n",
    "    dir_list : list of str\n",
    "        List of path(s) where the hdf5 files are stored. Supports specifying a path to a specific hdf5 file or directory\n",
    "        containing hdf5 files.\n",
    "    transform : callable, optional\n",
    "        A optional user-defined function to apply transformations to the data. Default is None.\n",
    "    max_level : int, optional\n",
    "        Maximum levels of directory to search for hdf5 files. Default is 5.\n",
    "    return_id : bool, optional\n",
    "        Whether to return the index of the cell with the data. Default is False.\n",
    "    return_fake_id : bool, optional\n",
    "        Whether to return a fake index (0) with the data. Default is False.\n",
    "    select_channel : int, optional\n",
    "        Specify a specific channel to select from the data. Default is None, which returns all channels.\n",
    "\n",
    "    Methods\n",
    "    -------\n",
    "    add_hdf_to_index(current_label, path)\n",
    "        Adds single cell data from the hdf5 file located at ‘path’ with the specified ‘current_label’ to the index.\n",
    "    scan_directory(path, current_label, levels_left)\n",
    "        Scans directories for hdf5 files and adds their data to the index with the specified ‘current_label’.\n",
    "    stats()\n",
    "        Prints dataset statistics including total count and count per label.\n",
    "    len()\n",
    "        Returns the total number of single cells in the dataset.\n",
    "    getitem(idx)\n",
    "        Returns the data, label, and optional id/fake_id of the single cell specified by the index ‘idx’.\n",
    "\n",
    "    Examples\n",
    "    --------\n",
    "    >>> hdf5_data = HDF5SingleCellDataset(dir_list=[‘data1.hdf5’, ‘data2.hdf5’],\n",
    "    dir_labels=[0, 1],\n",
    "    root_dir=‘/path/to/data’,\n",
    "    transform=None,\n",
    "    return_id=True)\n",
    "    >>> len(hdf5_data)\n",
    "    2000\n",
    "    >>> sample = hdf5_data[0]\n",
    "    >>> sample[0].shape\n",
    "    torch.Size([1, 128, 128])\n",
    "    >>> sample[1]\n",
    "    tensor(0)\n",
    "    >>> sample[2]\n",
    "    tensor(0)\n",
    "\n",
    "    \"\"\"\n",
    "    \n",
    "    HDF_FILETYPES = [\"hdf\", \"hf\", \"h5\", \"hdf5\"]\n",
    "    def __init__(self, dir_list, \n",
    "                 dir_labels, \n",
    "                 root_dir, \n",
    "                 max_level=5, \n",
    "                 transform=None, \n",
    "                 return_id=False, \n",
    "                 return_fake_id=False,\n",
    "                 select_channel=None):\n",
    "        \n",
    "        self.root_dir = root_dir\n",
    "        self.dir_labels = dir_labels\n",
    "        self.dir_list = dir_list\n",
    "        self.transform = transform\n",
    "        \n",
    "        self.handle_list = []\n",
    "        self.data_locator = []\n",
    "        \n",
    "        self.select_channel = select_channel\n",
    "        \n",
    "        # scan all directoreis\n",
    "        for i, directory in enumerate(dir_list):\n",
    "            path = os.path.join(self.root_dir, directory)  \n",
    "            current_label = self.dir_labels[i]\n",
    "\n",
    "            #check if \"directory\" is a path to specific hdf5\n",
    "            filetype = directory.split(\".\")[-1]\n",
    "            filename = directory.split(\".\")[0]\n",
    "                \n",
    "            if filetype in self.HDF_FILETYPES:\n",
    "                self.add_hdf_to_index(current_label, directory)\n",
    "\n",
    "            else:\n",
    "                # recursively scan for files\n",
    "                self.scan_directory(path, current_label, max_level)\n",
    "        \n",
    "        # print dataset stats at the end\n",
    "        \n",
    "        self.return_id = return_id\n",
    "        self.return_fake_id = return_fake_id\n",
    "        self.stats()\n",
    "        \n",
    "        \n",
    "    def add_hdf_to_index(self, current_label, path):       \n",
    "        try:\n",
    "            input_hdf = h5py.File(path, 'r')\n",
    "            index_handle = input_hdf.get('single_cell_index')\n",
    "            handle_id = len(self.handle_list)\n",
    "            self.handle_list.append(input_hdf.get('single_cell_data'))\n",
    "\n",
    "            # Track the size of the dataset (number of single cells)\n",
    "            dataset_size = input_hdf.get('single_cell_data').shape[0]\n",
    "\n",
    "            # Append the label, handle ID, and index range (from 0 to dataset_size-1)\n",
    "            for row in index_handle:\n",
    "                self.data_locator.append([current_label, handle_id, row[0]])  # row[0] = single cell index\n",
    "                # Store additional boundary info if needed (e.g., start_idx, end_idx per dataset)\n",
    "        except Exception as e:\n",
    "            print(f\"Error reading HDF5 file {path}: {e}\")\n",
    "            return\n",
    "\n",
    "             \n",
    "    def inspect_data_locator(self):\n",
    "        print(\"Data Locator Contents:\")\n",
    "        for i, entry in enumerate(self.data_locator):\n",
    "            print(f\"Entry {i}: {entry}\")\n",
    "\n",
    "        \n",
    "    def scan_directory(self, path, current_label, levels_left):\n",
    "        \n",
    "        # iterates over all files and folders in a directory\n",
    "        # hdf5 files are added to the index\n",
    "        # subfolders are recursively scanned\n",
    "        \n",
    "        if levels_left > 0:\n",
    "            \n",
    "            # get files and directories at current level\n",
    "            input_list = os.listdir(path)\n",
    "            current_level_directories = [os.path.join(path, name) for name in os.listdir(path) if os.path.isdir(os.path.join(path, name))]\n",
    "\n",
    "            current_level_files = [ name for name in os.listdir(path) if os.path.isfile(os.path.join(path, name))]\n",
    "                        \n",
    "            for i, file in enumerate(current_level_files):\n",
    "                filetype = file.split(\".\")[-1]\n",
    "                filename = file.split(\".\")[0]\n",
    "                \n",
    "                if filetype in self.HDF_FILETYPES:\n",
    "                    \n",
    "                    self.add_hdf_to_index(current_label, os.path.join(path, file))\n",
    "                    \n",
    "            # recursively scan subdirectories        \n",
    "            for subdirectory in current_level_directories:\n",
    "                self.scan_directory(subdirectory, current_label, levels_left-1)\n",
    "            \n",
    "        else:\n",
    "            return\n",
    "        \n",
    "    def stats(self):\n",
    "    \n",
    "        labels = [el[0] for el in self.data_locator]\n",
    "        \n",
    "        print(\"Total: {}\".format(len(labels)))\n",
    "        \n",
    "        for l in set(labels):\n",
    "            print(\"{}: {}\".format(l,labels.count(l)))\n",
    "        \n",
    "    def __len__(self):\n",
    "        return len(self.data_locator)\n",
    "    \n",
    "    \n",
    "    def __getitem__(self, idx):\n",
    "        if torch.is_tensor(idx):\n",
    "            idx = idx.tolist()\n",
    "\n",
    "        # Get the handle ID and cell index for the current dataset\n",
    "        data_info = self.data_locator[idx]\n",
    "        handle_id = data_info[1]\n",
    "        cell_index = data_info[2]\n",
    "\n",
    "        # Select the correct channel if needed\n",
    "        if self.select_channel is not None:\n",
    "            cell_tensor = self.handle_list[handle_id][cell_index, self.select_channel]\n",
    "            t = torch.from_numpy(cell_tensor)\n",
    "            t = torch.unsqueeze(t, 0)\n",
    "        else:\n",
    "            cell_tensor = self.handle_list[handle_id][cell_index]\n",
    "            t = torch.from_numpy(cell_tensor)\n",
    "\n",
    "        t = t.float()\n",
    "\n",
    "        # Apply transformations if any\n",
    "        if self.transform:\n",
    "            t = self.transform(t)\n",
    "\n",
    "        # Handle whether to return ID or fake ID\n",
    "        if self.return_id and self.return_fake_id:\n",
    "            raise ValueError(\"Either return_id or return_fake_id should be set, not both.\")\n",
    "        if self.return_id:\n",
    "            sample = (t, torch.tensor(data_info[0]), torch.tensor(data_info[2]))  # Include the cell ID\n",
    "        elif self.return_fake_id:\n",
    "            sample = (t, torch.tensor(data_info[0]), torch.tensor(0))  # Return a fake ID (0)\n",
    "        else:\n",
    "            sample = (t, torch.tensor(data_info[0]))  # Just return the data and label\n",
    "\n",
    "        return sample"
   ]
  },
  {
   "cell_type": "markdown",
   "id": "627612c5",
   "metadata": {},
   "source": [
    "Code for HDF5SingelcellDataset taken from: https://github.com/MannLabs/SPARCSpy/blob/main/src/sparcscore/ml/datasets.py"
   ]
  },
  {
   "cell_type": "markdown",
   "id": "fd3406fc",
   "metadata": {},
   "source": [
    "*Explanation of data_locator structure:*\n",
    "\n",
    "For the example entry [4, 0, 0, 4], it means:\n",
    "\n",
    "* Class Label: The cell belongs to class label 4.\n",
    "* Handle ID: The data for this cell can be found in the first HDF5 file (index 0).\n",
    "* Cell Index: Within that file, this is the first cell (index 0).\n",
    "* Original ID: The original identifier of the cell is 4."
   ]
  },
  {
   "cell_type": "code",
   "execution_count": 7,
   "id": "c13aeb06",
   "metadata": {},
   "outputs": [],
   "source": [
    "def sample_cells(dataset, class_label, n_samples, exclude_indices=[]):\n",
    "    # Get all valid entries for the given class_label\n",
    "    valid_entries = [entry for entry in dataset.data_locator if entry[0] == class_label]\n",
    "    \n",
    "    # entry[2] gives the index within that specific dataset\n",
    "    cell_indices = [(entry[1], entry[2]) for entry in valid_entries]  # (handle_id, cell_index) tuple\n",
    "    \n",
    "    # Remove excluded indices \n",
    "    cell_indices = [ci for ci in cell_indices if ci[1] not in exclude_indices]\n",
    "\n",
    "    # ccheck if the available cells are fewer than requested\n",
    "    if len(cell_indices) < n_samples:\n",
    "        print(f\"Warning: Requested {n_samples} samples, but only {len(cell_indices)} available.\")\n",
    "        n_samples = len(cell_indices)\n",
    "    \n",
    "    sampled_indices = random.sample(cell_indices, n_samples) # Returns (handle_id, cell_index) pairs\n",
    "    \n",
    "    return sampled_indices  "
   ]
  },
  {
   "cell_type": "markdown",
   "id": "e5563bde",
   "metadata": {},
   "source": [
    "#### Balanced Test set"
   ]
  },
  {
   "cell_type": "code",
   "execution_count": 8,
   "id": "9fe90b1c",
   "metadata": {},
   "outputs": [],
   "source": [
    "##### New\n",
    "def create_testset(dataset, test_filename_template, number):\n",
    "    testset_indices = {}\n",
    "\n",
    "    # For each class, sample cells and collect them\n",
    "    for class_label in range(6):  # Assuming 6 classes\n",
    "        print(f\"Sampling for class {class_label}\")\n",
    "        sampled_cell_indices = sample_cells(dataset, class_label, number)\n",
    "        testset_indices[class_label] = sampled_cell_indices\n",
    "\n",
    "        # Save each class test set to a separate HDF5 file\n",
    "        test_filename = test_filename_template.format(label=class_label)\n",
    "\n",
    "        with h5py.File(test_filename, 'w') as f:\n",
    "            # Lists to store data before writing to HDF5\n",
    "            cell_data_list = []\n",
    "            cell_index_list = []\n",
    "            annotation_list = []\n",
    "\n",
    "            # Track local index (starting from 0 for each new file)\n",
    "            local_index = 0\n",
    "\n",
    "            # Loop over the sampled cell indices\n",
    "            for global_cell_id, (handle_id, cell_index) in enumerate(sampled_cell_indices):\n",
    "                # Retrieve the correct entry from data_locator using (handle_id, cell_index) pair\n",
    "                entry = next((entry for entry in dataset.data_locator if entry[1] == handle_id and entry[2] == cell_index), None)\n",
    "\n",
    "                if entry is None:\n",
    "                    print(f\"Warning: No entry found for handle_id {handle_id} and cell_index {cell_index}. Skipping.\")\n",
    "                    continue\n",
    "\n",
    "                try:\n",
    "                    # Retrieve the single-cell data from the correct handle\n",
    "                    data = dataset.handle_list[handle_id][cell_index]\n",
    "                except KeyError:\n",
    "                    print(f\"Error: Data not found for handle_id {handle_id}, cell_index {cell_index}.\")\n",
    "                    continue\n",
    "\n",
    "                # The class label (from the data locator)\n",
    "                label = entry[0]\n",
    "\n",
    "                # Append data and the corresponding local index for this file\n",
    "                cell_data_list.append(data)\n",
    "                \n",
    "                # Use local_index (for the new test file) and the original cell_index from the HDF5 file\n",
    "                cell_index_list.append([local_index, local_index])  # Use local_index and the global cell_index\n",
    "                \n",
    "                # Annotation: store local_index, original cell_index, and class label as encoded strings\n",
    "                annotation_list.append([str(local_index).encode(), str(cell_index).encode(), str(label).encode()])\n",
    "\n",
    "                local_index += 1  # Increment the local index for each cell\n",
    "\n",
    "            # Convert lists to numpy arrays before saving\n",
    "            if len(cell_data_list) > 0:\n",
    "                single_cell_data = np.array(cell_data_list, dtype='float16')  # Shape: (n_cells, channels, height, width)\n",
    "                single_cell_index = np.array(cell_index_list, dtype=np.uint64)  # Shape: (n_cells, 2)\n",
    "                annotation = np.array(annotation_list, dtype='S')  # Shape: (n_cells, 3), string-encoded data\n",
    "\n",
    "                # Write to HDF5\n",
    "                f.create_dataset('single_cell_data', data=single_cell_data, dtype='float16')\n",
    "                f.create_dataset('single_cell_index', data=single_cell_index, dtype='uint64')\n",
    "                f.create_dataset('annotation', data=annotation, dtype=h5py.special_dtype(vlen=bytes))\n",
    "            else:\n",
    "                print(f\"Warning: No valid data found for class {class_label}.\")\n",
    "    \n",
    "    return testset_indices"
   ]
  },
  {
   "cell_type": "markdown",
   "id": "a9860d2c",
   "metadata": {},
   "source": [
    "##### Create big balanced testset with instances from all biological classes"
   ]
  },
  {
   "cell_type": "code",
   "execution_count": 3,
   "id": "693f9172",
   "metadata": {},
   "outputs": [
    {
     "name": "stdout",
     "output_type": "stream",
     "text": [
      "balanced_testset.pt\n",
      "testset_0.h5\n",
      "testset_1.h5\n",
      "testset_indices.pkl\n",
      "testset_5.h5\n",
      "testset_3.h5\n",
      "testset_4.h5\n",
      "testset_2.h5\n",
      "\n",
      "\n"
     ]
    }
   ],
   "source": [
    "import os\n",
    "os.chdir('/dss/dssfs02/lwp-dss-0001/pn36po/pn36po-dss-0001/di93quv/balanced_testset_all_classes/')\n",
    "files = os.listdir()\n",
    "for file in files:\n",
    "    print(file)\n",
    "print(\"\\n\")"
   ]
  },
  {
   "cell_type": "code",
   "execution_count": 17,
   "id": "4f769e6c",
   "metadata": {},
   "outputs": [
    {
     "name": "stdout",
     "output_type": "stream",
     "text": [
      "Deleted: /dss/dssfs02/lwp-dss-0001/pn36po/pn36po-dss-0001/di93quv/balanced_testset_all_classes/testset_0.h5\n",
      "Deleted: /dss/dssfs02/lwp-dss-0001/pn36po/pn36po-dss-0001/di93quv/balanced_testset_all_classes/testset_1.h5\n",
      "Deleted: /dss/dssfs02/lwp-dss-0001/pn36po/pn36po-dss-0001/di93quv/balanced_testset_all_classes/testset_5.h5\n",
      "Deleted: /dss/dssfs02/lwp-dss-0001/pn36po/pn36po-dss-0001/di93quv/balanced_testset_all_classes/testset_3.h5\n",
      "Deleted: /dss/dssfs02/lwp-dss-0001/pn36po/pn36po-dss-0001/di93quv/balanced_testset_all_classes/testset_4.h5\n",
      "Deleted: /dss/dssfs02/lwp-dss-0001/pn36po/pn36po-dss-0001/di93quv/balanced_testset_all_classes/testset_2.h5\n",
      "All files deleted successfully.\n"
     ]
    }
   ],
   "source": [
    "directory = '/dss/dssfs02/lwp-dss-0001/pn36po/pn36po-dss-0001/di93quv/balanced_testset_all_classes/'\n",
    "file_pattern = os.path.join(directory, 'testset_*.h5')\n",
    "\n",
    "# Get a list of all matching files\n",
    "files_to_delete = glob.glob(file_pattern)\n",
    "\n",
    "# Loop through files and delete them\n",
    "for file_path in files_to_delete:\n",
    "    try:\n",
    "        os.remove(file_path)\n",
    "        print(f\"Deleted: {file_path}\")\n",
    "    except OSError as e:\n",
    "        print(f\"Error deleting file {file_path}: {e}\")\n",
    "\n",
    "# checking if any files remain\n",
    "remaining_files = glob.glob(file_pattern)\n",
    "if not remaining_files:\n",
    "    print(\"All files deleted successfully.\")\n",
    "else:\n",
    "    print(f\"Remaining files: {remaining_files}\")"
   ]
  },
  {
   "cell_type": "code",
   "execution_count": 18,
   "id": "82cf0dfe",
   "metadata": {},
   "outputs": [
    {
     "name": "stdout",
     "output_type": "stream",
     "text": [
      "Sampling for class 0\n",
      "Sampling for class 1\n",
      "Sampling for class 2\n",
      "Sampling for class 3\n",
      "Sampling for class 4\n",
      "Sampling for class 5\n"
     ]
    }
   ],
   "source": [
    "test_filename_template = '/dss/dssfs02/lwp-dss-0001/pn36po/pn36po-dss-0001/di93quv/balanced_testset_all_classes/testset_{label}.h5'\n",
    "\n",
    "# Create test set with separate files for each class\n",
    "testset_indices = create_testset(full_hdf5_data, test_filename_template, 7000)"
   ]
  },
  {
   "cell_type": "code",
   "execution_count": null,
   "id": "1052a6aa",
   "metadata": {},
   "outputs": [],
   "source": [
    "#Having a look if the test set has been created properly by looking into he h5 file\n",
    "#import nexusformat.nexus as nx\n",
    "#f = nx.nxload('./testset_0.h5')\n",
    "#print(f.tree)"
   ]
  },
  {
   "cell_type": "code",
   "execution_count": 19,
   "id": "5251eb4a",
   "metadata": {},
   "outputs": [
    {
     "name": "stdout",
     "output_type": "stream",
     "text": [
      "Total: 42000\n",
      "0: 7000\n",
      "1: 7000\n",
      "2: 7000\n",
      "3: 7000\n",
      "4: 7000\n",
      "5: 7000\n"
     ]
    }
   ],
   "source": [
    "# Now, create balanced dataset from the saved files\n",
    "balanced_testset_all_classes = HDF5SingleCellDataset(\n",
    "    dir_list=[f'/dss/dssfs02/lwp-dss-0001/pn36po/pn36po-dss-0001/di93quv/balanced_testset_all_classes/testset_{label}.h5' for label in range(6)],\n",
    "    dir_labels=[0, 1, 2, 3, 4, 5],  # class labels\n",
    "    root_dir='/dss/dssfs02/lwp-dss-0001/pn36po/pn36po-dss-0001/di93quv/balanced_testset_all_classes/',  \n",
    "    select_channel=4,  # Select the 5th channel\n",
    "    return_id=False\n",
    ")"
   ]
  },
  {
   "cell_type": "code",
   "execution_count": 20,
   "id": "94fa881c",
   "metadata": {},
   "outputs": [],
   "source": [
    "# Save the testset_indices to a file\n",
    "with open('/dss/dssfs02/lwp-dss-0001/pn36po/pn36po-dss-0001/di93quv/balanced_testset_all_classes/testset_indices.pkl', 'wb') as f:\n",
    "    pickle.dump(testset_indices, f)"
   ]
  },
  {
   "cell_type": "code",
   "execution_count": 16,
   "id": "04eb1d70",
   "metadata": {},
   "outputs": [],
   "source": [
    "# Load the testset_indices from the file\n",
    "with open('/dss/dssfs02/lwp-dss-0001/pn36po/pn36po-dss-0001/di93quv/balanced_testset_all_classes/testset_indices.pkl', 'rb') as f:\n",
    "    testset_indices = pickle.load(f)"
   ]
  },
  {
   "cell_type": "markdown",
   "id": "6d932dbd",
   "metadata": {},
   "source": [
    "##### Create small balanced testset with instances from all biological classes"
   ]
  },
  {
   "cell_type": "code",
   "execution_count": 6,
   "id": "9752c2d6",
   "metadata": {},
   "outputs": [
    {
     "name": "stdout",
     "output_type": "stream",
     "text": [
      "Deleted: /dss/dssfs02/lwp-dss-0001/pn36po/pn36po-dss-0001/di93quv/balanced_testset_all_classes_small/testset_0.h5\n",
      "Deleted: /dss/dssfs02/lwp-dss-0001/pn36po/pn36po-dss-0001/di93quv/balanced_testset_all_classes_small/testset_1.h5\n",
      "Deleted: /dss/dssfs02/lwp-dss-0001/pn36po/pn36po-dss-0001/di93quv/balanced_testset_all_classes_small/testset_5.h5\n",
      "Deleted: /dss/dssfs02/lwp-dss-0001/pn36po/pn36po-dss-0001/di93quv/balanced_testset_all_classes_small/testset_3.h5\n",
      "Deleted: /dss/dssfs02/lwp-dss-0001/pn36po/pn36po-dss-0001/di93quv/balanced_testset_all_classes_small/testset_4.h5\n",
      "Deleted: /dss/dssfs02/lwp-dss-0001/pn36po/pn36po-dss-0001/di93quv/balanced_testset_all_classes_small/testset_2.h5\n",
      "All files deleted successfully.\n"
     ]
    }
   ],
   "source": [
    "directory = '/dss/dssfs02/lwp-dss-0001/pn36po/pn36po-dss-0001/di93quv/balanced_testset_all_classes_small/'\n",
    "file_pattern = os.path.join(directory, 'testset_*.h5')\n",
    "\n",
    "# Get a list of all matching files\n",
    "files_to_delete = glob.glob(file_pattern)\n",
    "\n",
    "# Loop through the files and delete them\n",
    "for file_path in files_to_delete:\n",
    "    try:\n",
    "        os.remove(file_path)\n",
    "        print(f\"Deleted: {file_path}\")\n",
    "    except OSError as e:\n",
    "        print(f\"Error deleting file {file_path}: {e}\")\n",
    "\n",
    "# checking if any files remain\n",
    "remaining_files = glob.glob(file_pattern)\n",
    "if not remaining_files:\n",
    "    print(\"All files deleted successfully.\")\n",
    "else:\n",
    "    print(f\"Remaining files: {remaining_files}\")"
   ]
  },
  {
   "cell_type": "code",
   "execution_count": 7,
   "id": "d065c650",
   "metadata": {},
   "outputs": [
    {
     "name": "stdout",
     "output_type": "stream",
     "text": [
      "Sampling for class 0\n",
      "Sampling for class 1\n",
      "Sampling for class 2\n",
      "Sampling for class 3\n",
      "Sampling for class 4\n",
      "Sampling for class 5\n"
     ]
    }
   ],
   "source": [
    "# Define the template for the testset filenames\n",
    "test_filename_template = '/dss/dssfs02/lwp-dss-0001/pn36po/pn36po-dss-0001/di93quv/balanced_testset_all_classes_small/testset_{label}.h5'\n",
    "\n",
    "# Create test set with separate files for each class\n",
    "testset_indices = create_testset(full_hdf5_data, test_filename_template, 50)"
   ]
  },
  {
   "cell_type": "code",
   "execution_count": 8,
   "id": "c3d54704",
   "metadata": {},
   "outputs": [
    {
     "name": "stdout",
     "output_type": "stream",
     "text": [
      "Total: 300\n",
      "0: 50\n",
      "1: 50\n",
      "2: 50\n",
      "3: 50\n",
      "4: 50\n",
      "5: 50\n"
     ]
    }
   ],
   "source": [
    "# Now, create balanced dataset from the saved files\n",
    "balanced_testset_all_classes = HDF5SingleCellDataset(\n",
    "    dir_list=[f'/dss/dssfs02/lwp-dss-0001/pn36po/pn36po-dss-0001/di93quv/balanced_testset_all_classes_small/testset_{label}.h5' for label in range(6)],\n",
    "    dir_labels=[0, 1, 2, 3, 4, 5],  # class labels\n",
    "    root_dir='/dss/dssfs02/lwp-dss-0001/pn36po/pn36po-dss-0001/di93quv/balanced_testset_all_classes_small/',  \n",
    "    select_channel=4,  # Select the 5th channel\n",
    "    return_id=False\n",
    ")"
   ]
  },
  {
   "cell_type": "code",
   "execution_count": 9,
   "id": "9a67985d",
   "metadata": {},
   "outputs": [
    {
     "name": "stdout",
     "output_type": "stream",
     "text": [
      "Key: single_cell_index\n",
      "Shape: (50, 2)\n",
      "Data type: uint64\n",
      "Sample data (first 5 rows):\n",
      "[0 0]  # Local index 0, cell index 0\n",
      "[1 1]  # Local index 1, cell index 1\n",
      "[2 2]  # Local index 2, cell index 2\n",
      "[3 3]  # Local index 3, cell index 3\n",
      "[4 4]  # Local index 4, cell index 4\n"
     ]
    }
   ],
   "source": [
    "def print_dataset_info(hdf5_filename):\n",
    "    with h5py.File(hdf5_filename, 'r') as f:\n",
    "        # Get the dataset\n",
    "        single_cell_index = f['single_cell_index']\n",
    "\n",
    "        # Print dataset details\n",
    "        print(f\"Key: single_cell_index\")\n",
    "        print(f\"Shape: {single_cell_index.shape}\")\n",
    "        print(f\"Data type: {single_cell_index.dtype}\")\n",
    "\n",
    "        # Print the first 5 rows of data as a sample\n",
    "        sample_data = single_cell_index[:5]  # Slice first 5 rows\n",
    "        print(f\"Sample data (first 5 rows):\")\n",
    "        for row in sample_data:\n",
    "            print(f\"[{row[0]} {row[1]}]  # Local index {row[0]}, cell index {row[1]}\")\n",
    "\n",
    "# Example usage:\n",
    "test_filename = \"/dss/dssfs02/lwp-dss-0001/pn36po/pn36po-dss-0001/di93quv/balanced_testset_all_classes_small/testset_1.h5\"  # Replace this with the actual filename\n",
    "print_dataset_info(test_filename)"
   ]
  },
  {
   "cell_type": "code",
   "execution_count": 10,
   "id": "72e3a317",
   "metadata": {},
   "outputs": [
    {
     "name": "stdout",
     "output_type": "stream",
     "text": [
      "Unique labels in /dss/dssfs02/lwp-dss-0001/pn36po/pn36po-dss-0001/di93quv/balanced_testset_all_classes_small/testset_1.h5:\n",
      "1\n"
     ]
    }
   ],
   "source": [
    "def print_unique_labels(hdf5_filename):\n",
    "    with h5py.File(hdf5_filename, 'r') as f:\n",
    "        # Access the 'annotation' dataset\n",
    "        annotation = f['annotation']\n",
    "\n",
    "        # Extract the labels (3rd column), and decode them from bytes to strings\n",
    "        labels = [entry[2].decode() for entry in annotation[:]]\n",
    "\n",
    "        # Find unique labels using numpy\n",
    "        unique_labels = np.unique(labels)\n",
    "\n",
    "        # Print the unique labels\n",
    "        print(f\"Unique labels in {hdf5_filename}:\")\n",
    "        for label in unique_labels:\n",
    "            print(label)\n",
    "\n",
    "# Example usage:\n",
    "test_filename = \"/dss/dssfs02/lwp-dss-0001/pn36po/pn36po-dss-0001/di93quv/balanced_testset_all_classes_small/testset_1.h5\"\n",
    "print_unique_labels(test_filename)"
   ]
  },
  {
   "cell_type": "code",
   "execution_count": 11,
   "id": "3cca1812",
   "metadata": {},
   "outputs": [],
   "source": [
    "# Save the testset_indices to a file\n",
    "with open('/dss/dssfs02/lwp-dss-0001/pn36po/pn36po-dss-0001/di93quv/balanced_testset_all_classes_small/testset_indices.pkl', 'wb') as f:\n",
    "    pickle.dump(testset_indices, f)"
   ]
  },
  {
   "cell_type": "code",
   "execution_count": 52,
   "id": "15f29a6c",
   "metadata": {},
   "outputs": [],
   "source": [
    "# Load the testset_indices from the file\n",
    "with open('/dss/dssfs02/lwp-dss-0001/pn36po/pn36po-dss-0001/di93quv/balanced_testset_all_classes_small/testset_indices.pkl', 'rb') as f:\n",
    "    testset_indices = pickle.load(f)"
   ]
  },
  {
   "cell_type": "markdown",
   "id": "d7f33339",
   "metadata": {},
   "source": [
    "Check if we can iterte through resulting dataset and visualize images properly"
   ]
  },
  {
   "cell_type": "code",
   "execution_count": 12,
   "id": "cd297017",
   "metadata": {},
   "outputs": [
    {
     "name": "stdout",
     "output_type": "stream",
     "text": [
      "<KeysViewHDF5 ['annotation', 'single_cell_data', 'single_cell_index']>\n",
      "(50, 5, 128, 128)\n",
      "(50, 2)\n",
      "[[b'0' b'27029' b'0']\n",
      " [b'1' b'84429' b'0']\n",
      " [b'2' b'80504' b'0']\n",
      " [b'3' b'68885' b'0']\n",
      " [b'4' b'98243' b'0']]\n"
     ]
    }
   ],
   "source": [
    "test_filename = '/dss/dssfs02/lwp-dss-0001/pn36po/pn36po-dss-0001/di93quv/balanced_testset_all_classes_small/testset_0.h5'\n",
    "with h5py.File(test_filename, 'r') as f:\n",
    "    print(f.keys())\n",
    "    print(f['single_cell_data'].shape)\n",
    "    print(f['single_cell_index'].shape)\n",
    "    print(f['annotation'][:5])  "
   ]
  },
  {
   "cell_type": "code",
   "execution_count": 13,
   "id": "eeb039a0",
   "metadata": {},
   "outputs": [
    {
     "name": "stdout",
     "output_type": "stream",
     "text": [
      "tensor([[[0., 0., 0.,  ..., 0., 0., 0.],\n",
      "         [0., 0., 0.,  ..., 0., 0., 0.],\n",
      "         [0., 0., 0.,  ..., 0., 0., 0.],\n",
      "         ...,\n",
      "         [0., 0., 0.,  ..., 0., 0., 0.],\n",
      "         [0., 0., 0.,  ..., 0., 0., 0.],\n",
      "         [0., 0., 0.,  ..., 0., 0., 0.]]])\n",
      "tensor(0)\n",
      "Image data shape: torch.Size([1, 128, 128]), Label: 0\n"
     ]
    }
   ],
   "source": [
    "image_data, label = balanced_testset_all_classes[0] \n",
    "print(image_data)\n",
    "print(label)\n",
    "print(f\"Image data shape: {image_data.shape}, Label: {label}\")"
   ]
  },
  {
   "cell_type": "code",
   "execution_count": 14,
   "id": "4f5f6e95",
   "metadata": {},
   "outputs": [
    {
     "data": {
      "image/png": "[encoded data removed]",
      "text/plain": [
       "<Figure size 300x300 with 1 Axes>"
      ]
     },
     "metadata": {},
     "output_type": "display_data"
    }
   ],
   "source": [
    "image_data, label = balanced_testset_all_classes[50]  # Unpack image data, label from tupel\n",
    "num_channels = image_data.shape[0]  # number of channels\n",
    "\n",
    "if num_channels == 1:\n",
    "    fig, ax = plt.subplots(1, 1, figsize=(3, 3))\n",
    "    ax.imshow(image_data[0]) \n",
    "    ax.set_title(f\"Single Channel Image - Label {label}\", fontsize=10)\n",
    "    ax.axis('off')\n",
    "\n",
    "else:\n",
    "    # create a subplot for each channel\n",
    "    fig, axes = plt.subplots(1, num_channels, figsize=(10, 5))\n",
    "    \n",
    "    for channel in range(num_channels):\n",
    "        axes[channel].imshow(image_data[channel])\n",
    "        axes[channel].set_title(f\"Channel {channel + 1}\")\n",
    "        axes[channel].axis('off')\n",
    "        \n",
    "plt.tight_layout()\n",
    "plt.suptitle(f\"Balanced Testset Image - Label {label}\", fontsize=10, y=1.05)\n",
    "plt.show()"
   ]
  },
  {
   "cell_type": "markdown",
   "id": "736ffc65",
   "metadata": {},
   "source": [
    "#### Balanced Training sets"
   ]
  },
  {
   "cell_type": "code",
   "execution_count": 34,
   "id": "9d0b1e1b",
   "metadata": {},
   "outputs": [],
   "source": [
    "\"\"\"def create_trainset(dataset, train_filename_template, testset_indices, class_labels, n_samples_per_class=100000):\n",
    "    trainset_indices = {}\n",
    "\n",
    "    # Flatten testset indices so that we can exclude them from the training set\n",
    "    testset_all_indices = set([(entry[0], entry[1]) for entries in testset_indices.values() for entry in entries])\n",
    "\n",
    "    # Sample cells from the selected classes, excluding testset indices\n",
    "    for class_label in class_labels:\n",
    "        print(class_label)\n",
    "        # Sample cells and exclude those that are already in the test set\n",
    "        sampled_cell_indices = sample_cells(dataset, class_label, n_samples_per_class, exclude_indices=testset_all_indices)\n",
    "        trainset_indices[class_label] = sampled_cell_indices\n",
    "        \n",
    "        # Save each class' training set to a separate HDF5 file\n",
    "        train_filename = train_filename_template.format(label=class_label)\n",
    "        \n",
    "        with h5py.File(train_filename, 'w') as f:\n",
    "            # Create lists to store data before writing to HDF5\n",
    "            cell_data_list = []\n",
    "            cell_index_list = []\n",
    "            annotation_list = []\n",
    "            \n",
    "            # Loop over the sampled cell indices\n",
    "            for global_cell_id, (handle_id, cell_index) in enumerate(sampled_cell_indices):\n",
    "                # Retrieve the correct entry from data_locator using (handle_id, cell_index) pair\n",
    "                entry = next((entry for entry in dataset.data_locator if entry[1] == handle_id and entry[2] == cell_index), None)\n",
    "                \n",
    "                if entry is not None:\n",
    "                    # Get the actual data from the dataset handle list\n",
    "                    data = dataset.handle_list[handle_id][cell_index] \n",
    "                    label = entry[0]  # Class label from the entry\n",
    "                    \n",
    "                    # Create annotation: (global_cell_id, original cell index, class label)\n",
    "                    annotation_list.append([str(global_cell_id).encode(), str(cell_index).encode(), str(label).encode()])\n",
    "                    \n",
    "                    # Append data and index\n",
    "                    cell_data_list.append(data)\n",
    "                    cell_index_list.append([handle_id, cell_index])  # (handle_id, cell_index)\n",
    "            \n",
    "            # Convert lists to numpy arrays\n",
    "            if cell_data_list:  \n",
    "                single_cell_data = np.array(cell_data_list, dtype='float16')  # Shape: (n_cells, channels, height, width)\n",
    "                single_cell_index = np.array(cell_index_list, dtype=np.uint64)  # Shape: (n_cells, 2)\n",
    "                annotation = np.array(annotation_list, dtype='S')  # Shape: (n_cells, 3), string-encoded data\n",
    "                \n",
    "                # Write to HDF5\n",
    "                f.create_dataset('single_cell_data', data=single_cell_data, dtype='float16')\n",
    "                f.create_dataset('single_cell_index', data=single_cell_index, dtype='uint64')\n",
    "                f.create_dataset('annotation', data=annotation, dtype=h5py.special_dtype(vlen=bytes))\n",
    "            else:\n",
    "                print(f\"Warning: No data found for class label {class_label}.\")\n",
    "    \n",
    "    return trainset_indices\"\"\""
   ]
  },
  {
   "cell_type": "code",
   "execution_count": null,
   "id": "b1ba7428",
   "metadata": {},
   "outputs": [],
   "source": [
    "def create_trainset(dataset, train_filename_template, testset_indices, class_labels, n_samples_per_class=100000):\n",
    "    trainset_indices = {}\n",
    "\n",
    "    # Flatten testset indices so that we can exclude them from the training set\n",
    "    testset_all_indices = set([(entry[0], entry[1]) for entries in testset_indices.values() for entry in entries])\n",
    "\n",
    "    # Sample cells from the selected classes, excluding testset indices\n",
    "    for class_label in class_labels:\n",
    "        print(f\"Sampling for class {class_label}\")\n",
    "        \n",
    "        # Sample cells and exclude those that are already in the test set\n",
    "        sampled_cell_indices = sample_cells(dataset, class_label, n_samples_per_class, exclude_indices=testset_all_indices)\n",
    "        trainset_indices[class_label] = sampled_cell_indices\n",
    "        \n",
    "        # Save each class' training set to a separate HDF5 file\n",
    "        train_filename = train_filename_template.format(label=class_label)\n",
    "        \n",
    "        with h5py.File(train_filename, 'w') as f:\n",
    "            # Create lists to store data before writing to HDF5\n",
    "            cell_data_list = []\n",
    "            cell_index_list = []\n",
    "            annotation_list = []\n",
    "            \n",
    "            # Track local index (starting from 0 for each new file)\n",
    "            local_index = 0\n",
    "            \n",
    "            # Loop over the sampled cell indices\n",
    "            for global_cell_id, (handle_id, cell_index) in enumerate(sampled_cell_indices):\n",
    "                # Retrieve the correct entry from data_locator using (handle_id, cell_index) pair\n",
    "                entry = next((entry for entry in dataset.data_locator if entry[1] == handle_id and entry[2] == cell_index), None)\n",
    "                \n",
    "                if entry is None:\n",
    "                    print(f\"Warning: No entry found for handle_id {handle_id} and cell_index {cell_index}. Skipping.\")\n",
    "                    continue\n",
    "\n",
    "                try:\n",
    "                    # Retrieve the single-cell data from the correct handle\n",
    "                    data = dataset.handle_list[handle_id][cell_index] \n",
    "                except KeyError:\n",
    "                    print(f\"Error: Data not found for handle_id {handle_id}, cell_index {cell_index}.\")\n",
    "                    continue\n",
    "\n",
    "                # The class label (from the data locator)\n",
    "                label = entry[0]  # Class label from the entry\n",
    "\n",
    "                # Append data and the corresponding local index for this file\n",
    "                cell_data_list.append(data)\n",
    "                \n",
    "                # Use local_index (for the new train file) and the original cell_index\n",
    "                cell_index_list.append([local_index, local_index])  # Use local_index and the original cell_index\n",
    "                \n",
    "                # Annotation: store local_index, original cell_index, and class label as encoded strings\n",
    "                annotation_list.append([str(local_index).encode(), str(cell_index).encode(), str(label).encode()])\n",
    "\n",
    "                local_index += 1  # Increment the local index for each cell\n",
    "\n",
    "            # Convert lists to numpy arrays before saving\n",
    "            if len(cell_data_list) > 0:\n",
    "                single_cell_data = np.array(cell_data_list, dtype='float16')  # Shape: (n_cells, channels, height, width)\n",
    "                single_cell_index = np.array(cell_index_list, dtype=np.uint64)  # Shape: (n_cells, 2)\n",
    "                annotation = np.array(annotation_list, dtype='S')  # Shape: (n_cells, 3), string-encoded data\n",
    "\n",
    "                # Write to HDF5\n",
    "                f.create_dataset('single_cell_data', data=single_cell_data, dtype='float16')\n",
    "                f.create_dataset('single_cell_index', data=single_cell_index, dtype='uint64')\n",
    "                f.create_dataset('annotation', data=annotation, dtype=h5py.special_dtype(vlen=bytes))\n",
    "            else:\n",
    "                print(f\"Warning: No valid data found for class {class_label}.\")\n",
    "    \n",
    "    return trainset_indices"
   ]
  },
  {
   "cell_type": "code",
   "execution_count": null,
   "id": "cdd46e1b",
   "metadata": {},
   "outputs": [],
   "source": [
    "# Check for overlap between testset and trainset indices\n",
    "def check_overlap(testset_indices, trainset_indices):\n",
    "    testset_all_indices = set([idx for indices in testset_indices.values() for idx in indices])  # Flatten testset indices\n",
    "    trainset_all_indices = set([idx for indices in trainset_indices.values() for idx in indices])  # Flatten trainset indices\n",
    "    overlap = testset_all_indices.intersection(trainset_all_indices)\n",
    "    \n",
    "    if overlap:\n",
    "        print(f\"Warning: Overlapping indices found between testset and trainset: {overlap}\")\n",
    "    else:\n",
    "        print(\"No overlap between testset and trainset.\")"
   ]
  },
  {
   "cell_type": "markdown",
   "id": "a002615c",
   "metadata": {},
   "source": [
    "##### Case 1 Big training set balanced"
   ]
  },
  {
   "cell_type": "code",
   "execution_count": null,
   "id": "eb89b041",
   "metadata": {},
   "outputs": [],
   "source": [
    "os.chdir('/dss/dssfs02/lwp-dss-0001/pn36po/pn36po-dss-0001/di93quv/training_sets/case1_balanced_trainingset/')\n",
    "files = os.listdir()\n",
    "print(\"Files:\")\n",
    "for file in files:\n",
    "    print(file)\n",
    "print(\"\\n\")"
   ]
  },
  {
   "cell_type": "code",
   "execution_count": null,
   "id": "27a7f1e8",
   "metadata": {},
   "outputs": [],
   "source": [
    "# Load the testset_indices from the file\n",
    "with open('/dss/dssfs02/lwp-dss-0001/pn36po/pn36po-dss-0001/di93quv/balanced_testset_all_classes/testset_indices.pkl', 'rb') as f:\n",
    "    testset_indices = pickle.load(f)"
   ]
  },
  {
   "cell_type": "code",
   "execution_count": null,
   "id": "0a6c5158",
   "metadata": {},
   "outputs": [],
   "source": [
    "# Define the class labels to include in the training set\n",
    "train_class_labels = [0, 2] \n",
    "\n",
    "# Create training set with separate files for selected class labels\n",
    "train_filename_template = '/dss/dssfs02/lwp-dss-0001/pn36po/pn36po-dss-0001/di93quv/training_sets/case1_balanced_trainingset/trainset_{label}.h5'\n",
    "trainset_indices = create_trainset(full_hdf5_data, train_filename_template, testset_indices, class_labels=train_class_labels, n_samples_per_class = 100000)\n",
    "check_overlap(testset_indices, trainset_indices)"
   ]
  },
  {
   "cell_type": "code",
   "execution_count": null,
   "id": "c8ccdbf5",
   "metadata": {},
   "outputs": [],
   "source": [
    "balanced_trainset_class_0_and_2 = HDF5SingleCellDataset(\n",
    "    dir_list=[f'/dss/dssfs02/lwp-dss-0001/pn36po/pn36po-dss-0001/di93quv/training_sets/case1_balanced_trainingset/trainset_{label}.h5' for label in train_class_labels],\n",
    "    dir_labels=train_class_labels,  # The class labels\n",
    "    root_dir='/dss/dssfs02/lwp-dss-0001/pn36po/pn36po-dss-0001/di93quv/training_sets/case1_balanced_trainingset/',  \n",
    "    select_channel=4,  # Select the 5th channel\n",
    "    return_id=False\n",
    ")"
   ]
  },
  {
   "cell_type": "code",
   "execution_count": null,
   "id": "e6626084",
   "metadata": {},
   "outputs": [],
   "source": [
    "# Save the trainset_indices to a file\n",
    "with open('/dss/dssfs02/lwp-dss-0001/pn36po/pn36po-dss-0001/di93quv/training_sets/case1_balanced_trainingset/trainset_indices.pkl', 'wb') as f:\n",
    "    pickle.dump(trainset_indices, f)"
   ]
  },
  {
   "cell_type": "code",
   "execution_count": null,
   "id": "83f75ad1",
   "metadata": {},
   "outputs": [],
   "source": [
    "# Load the trainset_indices from the file\n",
    "with open('/dss/dssfs02/lwp-dss-0001/pn36po/pn36po-dss-0001/di93quv/training_sets/case1_balanced_trainingset/trainset_indices.pkl', 'rb') as f:\n",
    "    trainset_indices = pickle.load(f)"
   ]
  },
  {
   "cell_type": "markdown",
   "id": "5a047183",
   "metadata": {},
   "source": [
    "##### Case 1 Small training set balanced"
   ]
  },
  {
   "cell_type": "code",
   "execution_count": null,
   "id": "b4659b5f",
   "metadata": {},
   "outputs": [],
   "source": [
    "directory = '/dss/dssfs02/lwp-dss-0001/pn36po/pn36po-dss-0001/di93quv/training_sets/case1_balanced_trainingset_small/'\n",
    "file_pattern = os.path.join(directory, 'trainset_*.h5')\n",
    "\n",
    "# Get a list of all matching files\n",
    "files_to_delete = glob.glob(file_pattern)\n",
    "\n",
    "# Loop through the files and delete them\n",
    "for file_path in files_to_delete:\n",
    "    try:\n",
    "        os.remove(file_path)\n",
    "        print(f\"Deleted: {file_path}\")\n",
    "    except OSError as e:\n",
    "        print(f\"Error deleting file {file_path}: {e}\")\n",
    "\n",
    "# checking if any files remain\n",
    "remaining_files = glob.glob(file_pattern)\n",
    "if not remaining_files:\n",
    "    print(\"All files deleted successfully.\")\n",
    "else:\n",
    "    print(f\"Remaining files: {remaining_files}\")"
   ]
  },
  {
   "cell_type": "code",
   "execution_count": 56,
   "id": "c015d98f",
   "metadata": {},
   "outputs": [],
   "source": [
    "# Load the testset_indices from the file\n",
    "with open('/dss/dssfs02/lwp-dss-0001/pn36po/pn36po-dss-0001/di93quv/balanced_testset_all_classes_small/testset_indices.pkl', 'rb') as f:\n",
    "    testset_indices = pickle.load(f)"
   ]
  },
  {
   "cell_type": "code",
   "execution_count": null,
   "id": "8b727e9d",
   "metadata": {},
   "outputs": [],
   "source": [
    "# Define the class labels to include in the training set\n",
    "train_class_labels = [0, 2] "
   ]
  },
  {
   "cell_type": "code",
   "execution_count": null,
   "id": "cfaa2b46",
   "metadata": {},
   "outputs": [],
   "source": [
    "# Create training set with separate files for selected class labels\n",
    "train_filename_template = '/dss/dssfs02/lwp-dss-0001/pn36po/pn36po-dss-0001/di93quv/training_sets/case1_balanced_trainingset_small/trainset_{label}.h5'\n",
    "trainset_indices = create_trainset(full_hdf5_data, train_filename_template, testset_indices, class_labels=train_class_labels, n_samples_per_class = 100)\n",
    "check_overlap(testset_indices, trainset_indices)"
   ]
  },
  {
   "cell_type": "code",
   "execution_count": null,
   "id": "663ad4ee",
   "metadata": {},
   "outputs": [],
   "source": [
    "balanced_trainset_class_0_and_2 = HDF5SingleCellDataset(\n",
    "    dir_list=[f'/dss/dssfs02/lwp-dss-0001/pn36po/pn36po-dss-0001/di93quv/training_sets/case1_balanced_trainingset_small/trainset_{label}.h5' for label in train_class_labels],\n",
    "    dir_labels=train_class_labels,  # The class labels\n",
    "    root_dir='/dss/dssfs02/lwp-dss-0001/pn36po/pn36po-dss-0001/di93quv/training_sets/case1_balanced_trainingset_small/',  \n",
    "    select_channel=4,  # Select the 5th channel\n",
    "    return_id=False\n",
    ")"
   ]
  },
  {
   "cell_type": "code",
   "execution_count": null,
   "id": "8181625c",
   "metadata": {},
   "outputs": [],
   "source": [
    "# Save the trainset_indices to a file\n",
    "with open('/dss/dssfs02/lwp-dss-0001/pn36po/pn36po-dss-0001/di93quv/training_sets/case1_balanced_trainingset_small/trainset_indices.pkl', 'wb') as f:\n",
    "    pickle.dump(trainset_indices, f)"
   ]
  },
  {
   "cell_type": "code",
   "execution_count": 5,
   "id": "d6672e7b",
   "metadata": {},
   "outputs": [],
   "source": [
    "# Load the trainset_indices from the file\n",
    "with open('/dss/dssfs02/lwp-dss-0001/pn36po/pn36po-dss-0001/di93quv/training_sets/case1_balanced_trainingset_small/trainset_indices.pkl', 'rb') as f:\n",
    "    trainset_indices = pickle.load(f)"
   ]
  },
  {
   "cell_type": "code",
   "execution_count": null,
   "id": "794abba2",
   "metadata": {},
   "outputs": [],
   "source": [
    "image_data, label = balanced_trainset_class_0_and_2[0]  # Unpack image data, label from tupel\n",
    "num_channels = image_data.shape[0]  # number of channels\n",
    "\n",
    "if num_channels == 1:\n",
    "    fig, ax = plt.subplots(1, 1, figsize=(3, 3))\n",
    "    ax.imshow(image_data[0]) \n",
    "    ax.set_title(f\"Single Channel Image - Label {label}\", fontsize=10)\n",
    "    ax.axis('off')\n",
    "\n",
    "else:\n",
    "    # create a subplot for each channel\n",
    "    fig, axes = plt.subplots(1, num_channels, figsize=(10, 5))\n",
    "    \n",
    "    for channel in range(num_channels):\n",
    "        axes[channel].imshow(image_data[channel])\n",
    "        axes[channel].set_title(f\"Channel {channel + 1}\")\n",
    "        axes[channel].axis('off')\n",
    "        \n",
    "plt.tight_layout()\n",
    "plt.suptitle(f\"Balanced Trainset Image - Label {label}\", fontsize=10, y=1.05)\n",
    "plt.show()"
   ]
  },
  {
   "cell_type": "markdown",
   "id": "fff8e76a",
   "metadata": {},
   "source": [
    "We do a big and small testset and training set where the small sets are used to test the ensemble code before running on the bigger sets."
   ]
  },
  {
   "cell_type": "markdown",
   "id": "f8557018",
   "metadata": {},
   "source": [
    "# Make SMALL final balanced testset with 2000 instances per biological class WITH return_id = true\n",
    "\n",
    "#### used across de novo model and ConvNeXt inference"
   ]
  },
  {
   "cell_type": "code",
   "execution_count": 3,
   "id": "b1acc8be",
   "metadata": {},
   "outputs": [],
   "source": [
    "# Rename current old balanced_testset.pt as a backup\n",
    "import os\n",
    "\n",
    "old_path = \"/dss/dssfs02/lwp-dss-0001/pn36po/pn36po-dss-0001/di93quv/balanced_testset_all_classes/balanced_testset.pt\"\n",
    "new_path = \"/dss/dssfs02/lwp-dss-0001/pn36po/pn36po-dss-0001/di93quv/balanced_testset_all_classes/balanced_testset_old.pt\"\n",
    "\n",
    "os.rename(old_path, new_path)"
   ]
  },
  {
   "cell_type": "code",
   "execution_count": 34,
   "id": "fadbcdc4",
   "metadata": {},
   "outputs": [
    {
     "name": "stdout",
     "output_type": "stream",
     "text": [
      "total 7495296\n",
      "-rw-rw---- 1 di93quv pn36po     394712 Jan 30 16:29 balanced_testset.pt\n",
      "-rw-rw---- 1 di93quv pn36po  786529235 Nov 12 18:04 balanced_testset_old.pt\n",
      "-rw-rw---- 1 di93quv pn36po 1147854336 Nov 10 15:28 testset_0.h5\n",
      "-rw-rw---- 1 di93quv pn36po 1147854336 Nov 10 15:49 testset_1.h5\n",
      "-rw-rw---- 1 di93quv pn36po 1147854336 Nov 10 16:06 testset_2.h5\n",
      "-rw-rw---- 1 di93quv pn36po 1147854336 Nov 10 16:24 testset_3.h5\n",
      "-rw-rw---- 1 di93quv pn36po 1147854336 Nov 10 16:26 testset_4.h5\n",
      "-rw-rw---- 1 di93quv pn36po 1147854336 Nov 10 16:42 testset_5.h5\n",
      "-rw-rw---- 1 di93quv pn36po     959366 Nov 10 16:42 testset_indices.pkl\n"
     ]
    }
   ],
   "source": [
    "!ls -l \"/dss/dssfs02/lwp-dss-0001/pn36po/pn36po-dss-0001/di93quv/balanced_testset_all_classes/\""
   ]
  },
  {
   "cell_type": "code",
   "execution_count": 9,
   "id": "29224424",
   "metadata": {},
   "outputs": [
    {
     "name": "stdout",
     "output_type": "stream",
     "text": [
      "Total: 789105\n",
      "0: 100000\n",
      "1: 100000\n",
      "2: 100000\n",
      "3: 5019\n",
      "4: 3654\n",
      "5: 480432\n"
     ]
    }
   ],
   "source": [
    "full_testset_data = HDF5SingleCellDataset(\n",
    "    dir_list=[\n",
    "        '/dss/dssfs02/lwp-dss-0001/pn36po/pn36po-dss-0001/di93kux/231018_EI24_timecourse_phenix/231018_0316_EI24_fixed_tc/231018_0316_EI24_fixed_tc_EI24KO_1_14h.h5',\n",
    "        '/dss/dssfs02/lwp-dss-0001/pn36po/pn36po-dss-0001/di93kux/231018_EI24_timecourse_phenix/231018_0316_EI24_fixed_tc/231018_0316_EI24_fixed_tc_EI24KO_2_14h.h5',\n",
    "        '/dss/dssfs02/lwp-dss-0001/pn36po/pn36po-dss-0001/di93kux/231018_EI24_timecourse_phenix/231018_0317_EI24_fixed_tc/231018_0317_EI24_fixed_tc_EI24KO_1_14h.h5',\n",
    "        '/dss/dssfs02/lwp-dss-0001/pn36po/pn36po-dss-0001/di93kux/231004_autophagy_screen_6slides/2.3_K001/single_cells.h5',\n",
    "        '/dss/dssfs02/lwp-dss-0001/pn36po/pn36po-dss-0001/di93kux/231018_EI24_timecourse_phenix/231018_0318_EI24_fixed_tc/231018_0318_EI24_fixed_tc_WT_2_4h.h5',\n",
    "        '/dss/dssfs02/lwp-dss-0001/pn36po/pn36po-dss-0001/di93kux/231018_EI24_timecourse_phenix/231018_0316_EI24_fixed_tc/231018_0316_EI24_fixed_tc_WT_1_4h.h5',\n",
    "        '/dss/dssfs02/lwp-dss-0001/pn36po/pn36po-dss-0001/di93kux/231018_EI24_timecourse_phenix/231018_0316_EI24_fixed_tc/231018_0316_EI24_fixed_tc_WT_2_4h.h5',\n",
    "        '/dss/dssfs02/lwp-dss-0001/pn36po/pn36po-dss-0001/di93kux/230714_autophagy_training_data_sample/T_02_stim_wt_filtered.h5',\n",
    "        '/dss/dssfs02/lwp-dss-0001/pn36po/pn36po-dss-0001/di93kux/230714_autophagy_training_data_sample/T_02_unstim_wt_filtered.h5',\n",
    "        '/dss/dssfs02/lwp-dss-0001/pn36po/pn36po-dss-0001/di93kux/230714_autophagy_training_data_sample/T_2.2_stim_Cr203_filtered.h5'\n",
    "    ],\n",
    "    dir_labels=[4, 4, 4, 5, 3, 3, 3, 0, 1, 2], \n",
    "    root_dir='/dss/dssfs02/lwp-dss-0001/pn36po/pn36po-dss-0001/di93kux/230714_autophagy_training_data_sample/',\n",
    "    select_channel=4,  # Selecting the 5th channel (channel index 4)\n",
    "    return_id=True  # Now return_id is True to get the cell ids we want!!\n",
    ")"
   ]
  },
  {
   "cell_type": "code",
   "execution_count": 10,
   "id": "c50a35f1",
   "metadata": {},
   "outputs": [],
   "source": [
    "import torch\n",
    "from torch.utils.data import DataLoader\n",
    "from sklearn.utils import shuffle\n",
    "import numpy as np\n",
    "import matplotlib.pyplot as plt\n",
    "\n",
    "def undersample_dataset(dataset, target_classes, n_instances=None, seed=None):\n",
    "    \"\"\"\n",
    "    Undersamples the dataset so target_classes have equal number of instances.\n",
    "    If n_instances is set, each class will have n_instances samples.\n",
    "    \n",
    "    Parameters:\n",
    "    - dataset: PyTorch Dataset object containing the features (e.g., HDF5SingleCellDataset)\n",
    "    - target_classes: the list of classes to undersample (e.g., [0, 2] for training)\n",
    "    - n_instances: number of samples per class (None means use minimum of class sizes)\n",
    "    - seed: random seed for reproducibility\n",
    "    \n",
    "    Returns:\n",
    "    - undersampled_dataset: the undersampled dataset (list of samples)\n",
    "    \"\"\"\n",
    "    np.random.seed(seed)\n",
    "    undersampled_data = []\n",
    "    \n",
    "    for cls in target_classes:\n",
    "        class_indices = [i for i, (_, label) in enumerate(dataset) if label == cls]\n",
    "        if n_instances is None:\n",
    "            n_instances = len(class_indices)\n",
    "        \n",
    "        # Randomly sample n_instances for each class\n",
    "        sampled_indices = np.random.choice(class_indices, n_instances, replace=False)\n",
    "        undersampled_data.extend([dataset[i] for i in sampled_indices])\n",
    "    \n",
    "    # Shuffle the dataset\n",
    "    undersampled_data = shuffle(undersampled_data, random_state=seed)\n",
    "    return undersampled_data\n",
    "\n",
    "# Function to create balanced testset for classes 0-5\n",
    "def create_balanced_testset(dataset, target_classes, n_instances_per_class):\n",
    "    \"\"\"\n",
    "    Create a balanced testset with n_instances_per_class for each class in target_classes.\n",
    "    \n",
    "    Parameters:\n",
    "    - dataset: HDF5SingleCellDataset\n",
    "    - target_classes: list of classes \n",
    "    - n_instances_per_class: number of instances to sample per class\n",
    "    \n",
    "    Returns:\n",
    "    - balanced_testset: list of (image_tensor, label, cell_id) tuples with balanced instances per class\n",
    "    \"\"\"\n",
    "    balanced_data = []\n",
    "    \n",
    "    for cls in target_classes:\n",
    "        print(f\"Processing class {cls}...\")\n",
    "        class_indices = [i for i, (_, label, _) in enumerate(dataset) if label == cls]\n",
    "        \n",
    "        # Randomly sample n_instances_per_class for each class\n",
    "        sampled_indices = np.random.choice(class_indices, n_instances_per_class, replace=False)\n",
    "        balanced_data.extend([dataset[i] for i in sampled_indices])  # dataset[i] now returns (image, label, cell_id)\n",
    "\n",
    "    # Shuffle balanced testset\n",
    "    balanced_data = shuffle(balanced_data, random_state=42)  \n",
    "    return balanced_data"
   ]
  },
  {
   "cell_type": "code",
   "execution_count": 11,
   "id": "b4829348",
   "metadata": {},
   "outputs": [],
   "source": [
    "batch_size = 64                    # Batch size for DataLoader\n",
    "#batch_size = 1"
   ]
  },
  {
   "cell_type": "code",
   "execution_count": 12,
   "id": "10c94653",
   "metadata": {},
   "outputs": [
    {
     "name": "stdout",
     "output_type": "stream",
     "text": [
      "Processing class 0...\n",
      "Processing class 1...\n",
      "Processing class 2...\n",
      "Processing class 3...\n",
      "Processing class 4...\n",
      "Processing class 5...\n"
     ]
    },
    {
     "name": "stderr",
     "output_type": "stream",
     "text": [
      "/usr/local/lib/python3.10/dist-packages/torch/utils/data/dataloader.py:557: UserWarning: This DataLoader will create 14 worker processes in total. Our suggested max number of worker in current system is 6, which is smaller than what this DataLoader is going to create. Please be aware that excessive worker creation might get DataLoader running slow or even freeze, lower the worker number to avoid potential slowness/freeze if necessary.\n",
      "  warnings.warn(_create_warning_msg(\n"
     ]
    }
   ],
   "source": [
    "# 1. Create balanced testset for classes 0-5 (fixed across all training processes)\n",
    "n_test_instances_per_class = 2000   # Test instances for each class (0-5)\n",
    "\n",
    "target_test_classes = [0, 1, 2, 3, 4, 5]\n",
    "balanced_testset = create_balanced_testset(full_testset_data, target_test_classes, n_test_instances_per_class)\n",
    "\n",
    "# Create test DataLoader (shared for all training processes)\n",
    "test_data_loader = DataLoader(balanced_testset, batch_size=batch_size, shuffle=True, num_workers=14, pin_memory=True)"
   ]
  },
  {
   "cell_type": "code",
   "execution_count": 13,
   "id": "62b38887",
   "metadata": {},
   "outputs": [
    {
     "name": "stdout",
     "output_type": "stream",
     "text": [
      "Test set class distribution (balanced): {0: 2000, 1: 2000, 2: 2000, 3: 2000, 4: 2000, 5: 2000}\n"
     ]
    }
   ],
   "source": [
    "# Extract labels correctly (ignoring image and cell ID)\n",
    "test_labels = [label for _, label, _ in balanced_testset]\n",
    "\n",
    "# Compute class distribution\n",
    "unique, counts = np.unique(test_labels, return_counts=True)\n",
    "\n",
    "# Print results\n",
    "print(f\"Test set class distribution (balanced): {dict(zip(unique, counts))}\")"
   ]
  },
  {
   "cell_type": "code",
   "execution_count": 13,
   "id": "75f4d727",
   "metadata": {},
   "outputs": [],
   "source": [
    "def save_dataset(dataset, save_path):\n",
    "    \"\"\"\n",
    "    Save dataset with images, labels, and cell IDs.\n",
    "\n",
    "    Parameters:\n",
    "    - dataset: List of (image_tensor, label, cell_id) tuples\n",
    "    - save_path: Path where the dataset should be saved\n",
    "    \"\"\"\n",
    "    images_tensor = torch.stack([sample[0] for sample in dataset])  # Stack image tensors\n",
    "    labels_tensor = torch.tensor([sample[1] for sample in dataset])  # Stack labels\n",
    "    cell_ids_tensor = torch.tensor([sample[2] for sample in dataset])  # Stack cell IDs\n",
    "\n",
    "    torch.save((images_tensor, labels_tensor, cell_ids_tensor), save_path)\n",
    "    print(f\"Dataset saved at {save_path}\")"
   ]
  },
  {
   "cell_type": "code",
   "execution_count": null,
   "id": "d28be876",
   "metadata": {},
   "outputs": [],
   "source": [
    "# Save the balanced test dataset\n",
    "save_dataset(\n",
    "    balanced_testset,\n",
    "    \"/dss/dssfs02/lwp-dss-0001/pn36po/pn36po-dss-0001/di93quv/balanced_testset_all_classes/balanced_testset.pt\"\n",
    ")"
   ]
  },
  {
   "cell_type": "code",
   "execution_count": 14,
   "id": "b54f1949",
   "metadata": {},
   "outputs": [],
   "source": [
    "def load_dataset(save_path, batch_size):\n",
    "    \"\"\"\n",
    "    Load dataset with images, labels, and cell IDs.\n",
    "\n",
    "    Parameters:\n",
    "    - save_path: Path where the dataset is stored\n",
    "    - batch_size: Batch size for DataLoader\n",
    "\n",
    "    Returns:\n",
    "    - DataLoader for the dataset\n",
    "    \"\"\"\n",
    "    images_tensor, labels_tensor, cell_ids_tensor = torch.load(save_path)\n",
    "\n",
    "    # Create a TensorDataset from the loaded tensors\n",
    "    dataset = torch.utils.data.TensorDataset(images_tensor, labels_tensor, cell_ids_tensor)\n",
    "    data_loader = torch.utils.data.DataLoader(dataset, batch_size=batch_size, shuffle=True)\n",
    "\n",
    "    print(f\"Loaded dataset from {save_path}\")\n",
    "    return data_loader"
   ]
  },
  {
   "cell_type": "code",
   "execution_count": null,
   "id": "7c2dc3e7",
   "metadata": {},
   "outputs": [],
   "source": [
    "# Load the balanced test dataset\n",
    "test_data_loader = load_dataset(\n",
    "    \"/dss/dssfs02/lwp-dss-0001/pn36po/pn36po-dss-0001/di93quv/balanced_testset_all_classes/balanced_testset.pt\",\n",
    "    batch_size=batch_size\n",
    ")"
   ]
  },
  {
   "cell_type": "code",
   "execution_count": null,
   "id": "e64e3a84",
   "metadata": {},
   "outputs": [],
   "source": [
    "# Function to visualize a batch from DataLoader\n",
    "def visualize_batch(data_loader):\n",
    "    images, labels, cell_ids = next(iter(data_loader))  # Getting first batch\n",
    "\n",
    "    # Convert tensors to numpy\n",
    "    image_data = images[0].numpy()  \n",
    "    label = labels[0].item()  # Convert label tensor to int\n",
    "    cell_id = cell_ids[0].item()  # Convert cell ID tensor to int\n",
    "    \n",
    "    num_channels = image_data.shape[0]  # number of channels\n",
    "    \n",
    "    if num_channels == 1:\n",
    "        fig, ax = plt.subplots(1, 1, figsize=(3, 3))\n",
    "        ax.imshow(image_data[0]) \n",
    "        ax.set_title(f\"Label: {label}, Cell ID: {cell_id}\", fontsize=10)\n",
    "        ax.axis('off')\n",
    "    else:\n",
    "        fig, axes = plt.subplots(1, num_channels, figsize=(10, 5))\n",
    "        for channel in range(num_channels):\n",
    "            axes[channel].imshow(image_data[channel])\n",
    "            axes[channel].set_title(f\"Channel {channel + 1}\")\n",
    "            axes[channel].axis('off')\n",
    "        \n",
    "    plt.tight_layout()\n",
    "    plt.suptitle(f\"Batch Image - Label: {label}, Cell ID: {cell_id}\", fontsize=10, y=1.05)\n",
    "    plt.show()\n",
    "\n",
    "# Visualize a batch from the test DataLoader\n",
    "visualize_batch(test_data_loader)"
   ]
  },
  {
   "cell_type": "markdown",
   "id": "d8ea9af8",
   "metadata": {},
   "source": [
    "# Make BIG final balanced testset with 10000 instances for class 5 and 2000 for all other classes WITH return_id = true\n",
    "\n",
    "#### used across de novo model and ConvNeXt inference"
   ]
  },
  {
   "cell_type": "code",
   "execution_count": 19,
   "id": "4ef2f43f",
   "metadata": {},
   "outputs": [],
   "source": [
    "# Function to create balanced testset with class 5 having 10,000 instances\n",
    "def create_balanced_testset_big(dataset, target_classes, n_instances_per_class, class_5_instances):\n",
    "    \"\"\"\n",
    "    Create a balanced testset where class 5 has 10,000 instances and other classes have n_instances_per_class.\n",
    "    \"\"\"\n",
    "    balanced_data = []\n",
    "    \n",
    "    for cls in target_classes:\n",
    "        print(f\"Processing class {cls}...\")\n",
    "        class_indices = [i for i, (_, label, _) in enumerate(dataset) if label == cls]\n",
    "        \n",
    "        if cls == 5:\n",
    "            sampled_indices = np.random.choice(class_indices, class_5_instances, replace=False)\n",
    "        else:\n",
    "            sampled_indices = np.random.choice(class_indices, n_instances_per_class, replace=False)\n",
    "        \n",
    "        balanced_data.extend([dataset[i] for i in sampled_indices])  # dataset[i] returns (image, label, cell_id)\n",
    "    \n",
    "    # Shuffle the testset\n",
    "    balanced_data = shuffle(balanced_data, random_state=42)  \n",
    "    return balanced_data"
   ]
  },
  {
   "cell_type": "code",
   "execution_count": 28,
   "id": "592d3d20",
   "metadata": {},
   "outputs": [],
   "source": [
    "# Define parameters\n",
    "batch_size = 64\n",
    "n_test_instances_per_class = 2000  # Test instances for classes 0-4\n",
    "class_5_instances = 10000          # Test instances for class 5\n",
    "target_test_classes = [0, 1, 2, 3, 4, 5]"
   ]
  },
  {
   "cell_type": "code",
   "execution_count": 21,
   "id": "927be757",
   "metadata": {},
   "outputs": [
    {
     "name": "stdout",
     "output_type": "stream",
     "text": [
      "Total: 789105\n",
      "0: 100000\n",
      "1: 100000\n",
      "2: 100000\n",
      "3: 5019\n",
      "4: 3654\n",
      "5: 480432\n"
     ]
    }
   ],
   "source": [
    "testset_data = HDF5SingleCellDataset(\n",
    "    dir_list=[\n",
    "        '/dss/dssfs02/lwp-dss-0001/pn36po/pn36po-dss-0001/di93kux/231018_EI24_timecourse_phenix/231018_0316_EI24_fixed_tc/231018_0316_EI24_fixed_tc_EI24KO_1_14h.h5',\n",
    "        '/dss/dssfs02/lwp-dss-0001/pn36po/pn36po-dss-0001/di93kux/231018_EI24_timecourse_phenix/231018_0316_EI24_fixed_tc/231018_0316_EI24_fixed_tc_EI24KO_2_14h.h5',\n",
    "        '/dss/dssfs02/lwp-dss-0001/pn36po/pn36po-dss-0001/di93kux/231018_EI24_timecourse_phenix/231018_0317_EI24_fixed_tc/231018_0317_EI24_fixed_tc_EI24KO_1_14h.h5',\n",
    "        '/dss/dssfs02/lwp-dss-0001/pn36po/pn36po-dss-0001/di93kux/231004_autophagy_screen_6slides/2.3_K001/single_cells.h5',\n",
    "        '/dss/dssfs02/lwp-dss-0001/pn36po/pn36po-dss-0001/di93kux/231018_EI24_timecourse_phenix/231018_0318_EI24_fixed_tc/231018_0318_EI24_fixed_tc_WT_2_4h.h5',\n",
    "        '/dss/dssfs02/lwp-dss-0001/pn36po/pn36po-dss-0001/di93kux/231018_EI24_timecourse_phenix/231018_0316_EI24_fixed_tc/231018_0316_EI24_fixed_tc_WT_1_4h.h5',\n",
    "        '/dss/dssfs02/lwp-dss-0001/pn36po/pn36po-dss-0001/di93kux/231018_EI24_timecourse_phenix/231018_0316_EI24_fixed_tc/231018_0316_EI24_fixed_tc_WT_2_4h.h5',\n",
    "        '/dss/dssfs02/lwp-dss-0001/pn36po/pn36po-dss-0001/di93kux/230714_autophagy_training_data_sample/T_02_stim_wt_filtered.h5',\n",
    "        '/dss/dssfs02/lwp-dss-0001/pn36po/pn36po-dss-0001/di93kux/230714_autophagy_training_data_sample/T_02_unstim_wt_filtered.h5',\n",
    "        '/dss/dssfs02/lwp-dss-0001/pn36po/pn36po-dss-0001/di93kux/230714_autophagy_training_data_sample/T_2.2_stim_Cr203_filtered.h5'\n",
    "    ],\n",
    "    dir_labels=[4, 4, 4, 5, 3, 3, 3, 0, 1, 2], \n",
    "    root_dir='/dss/dssfs02/lwp-dss-0001/pn36po/pn36po-dss-0001/di93kux/230714_autophagy_training_data_sample/',\n",
    "    select_channel=4,  # Selecting the 5th channel (channel index 4)\n",
    "    return_id=True  # Now return_id is True to get the cell ids we want!!\n",
    ")"
   ]
  },
  {
   "cell_type": "code",
   "execution_count": 29,
   "id": "a9c797df",
   "metadata": {},
   "outputs": [
    {
     "name": "stdout",
     "output_type": "stream",
     "text": [
      "Processing class 0...\n",
      "Processing class 1...\n",
      "Processing class 2...\n",
      "Processing class 3...\n",
      "Processing class 4...\n",
      "Processing class 5...\n"
     ]
    }
   ],
   "source": [
    "# Create new balanced testset\n",
    "balanced_testset_big = create_balanced_testset_big(testset_data, target_test_classes, n_test_instances_per_class, class_5_instances)\n",
    "\n",
    "# Create test DataLoader (shared for all training processes)\n",
    "test_data_loader = DataLoader(balanced_testset_big, batch_size=batch_size, shuffle=True, num_workers=14, pin_memory=True)"
   ]
  },
  {
   "cell_type": "code",
   "execution_count": 30,
   "id": "83cdc0a8",
   "metadata": {},
   "outputs": [
    {
     "name": "stdout",
     "output_type": "stream",
     "text": [
      "Test set class distribution (balanced): {0: 2000, 1: 2000, 2: 2000, 3: 2000, 4: 2000, 5: 10000}\n"
     ]
    }
   ],
   "source": [
    "# Extract labels correctly (ignoring image and cell ID)\n",
    "test_labels = [label for _, label, _ in balanced_testset_big]\n",
    "\n",
    "# Compute class distribution\n",
    "unique, counts = np.unique(test_labels, return_counts=True)\n",
    "\n",
    "# Print results\n",
    "print(f\"Test set class distribution (balanced): {dict(zip(unique, counts))}\")"
   ]
  },
  {
   "cell_type": "code",
   "execution_count": 31,
   "id": "57d9077a",
   "metadata": {},
   "outputs": [],
   "source": [
    "# Function to save dataset\n",
    "def save_dataset(dataset, save_path):\n",
    "    images_tensor = torch.stack([sample[0] for sample in dataset])\n",
    "    labels_tensor = torch.tensor([sample[1] for sample in dataset])\n",
    "    cell_ids_tensor = torch.tensor([sample[2] for sample in dataset])\n",
    "    torch.save((images_tensor, labels_tensor, cell_ids_tensor), save_path)\n",
    "    print(f\"Dataset saved at {save_path}\")"
   ]
  },
  {
   "cell_type": "code",
   "execution_count": 32,
   "id": "170a0991",
   "metadata": {},
   "outputs": [
    {
     "name": "stdout",
     "output_type": "stream",
     "text": [
      "Dataset saved at /dss/dssfs02/lwp-dss-0001/pn36po/pn36po-dss-0001/di93quv/balanced_testset_all_classes/balanced_testset_big.pt\n"
     ]
    }
   ],
   "source": [
    "# Save the new test dataset\n",
    "save_dataset(\n",
    "    balanced_testset_big,\n",
    "    \"/dss/dssfs02/lwp-dss-0001/pn36po/pn36po-dss-0001/di93quv/balanced_testset_all_classes/balanced_testset_big.pt\"\n",
    ")"
   ]
  },
  {
   "cell_type": "code",
   "execution_count": 37,
   "id": "522b8d58",
   "metadata": {},
   "outputs": [],
   "source": [
    "import torch\n",
    "from torch.utils.data import DataLoader, TensorDataset\n",
    "from sklearn.utils import shuffle\n",
    "import numpy as np\n",
    "import matplotlib.pyplot as plt\n",
    "\n",
    "# Load function\n",
    "def load_dataset(save_path, batch_size):\n",
    "    images_tensor, labels_tensor, cell_ids_tensor = torch.load(save_path)\n",
    "    dataset = TensorDataset(images_tensor, labels_tensor, cell_ids_tensor)\n",
    "    data_loader = DataLoader(dataset, batch_size=batch_size, shuffle=True)\n",
    "    print(f\"Loaded dataset from {save_path}\")\n",
    "    return data_loader"
   ]
  },
  {
   "cell_type": "code",
   "execution_count": 38,
   "id": "f77cedf2",
   "metadata": {},
   "outputs": [
    {
     "name": "stdout",
     "output_type": "stream",
     "text": [
      "Loaded dataset from /dss/dssfs02/lwp-dss-0001/pn36po/pn36po-dss-0001/di93quv/balanced_testset_all_classes/balanced_testset_big.pt\n"
     ]
    }
   ],
   "source": [
    "# Load the new dataset\n",
    "test_data_loader_big = load_dataset(\n",
    "    \"/dss/dssfs02/lwp-dss-0001/pn36po/pn36po-dss-0001/di93quv/balanced_testset_all_classes/balanced_testset_big.pt\",\n",
    "    batch_size=batch_size\n",
    ")"
   ]
  },
  {
   "cell_type": "code",
   "execution_count": 39,
   "id": "6f0f4a88",
   "metadata": {},
   "outputs": [],
   "source": [
    "# Function to visualize a batch\n",
    "def visualize_batch(data_loader):\n",
    "    images, labels, cell_ids = next(iter(data_loader))\n",
    "    image_data = images[0].numpy()\n",
    "    label = labels[0].item()\n",
    "    cell_id = cell_ids[0].item()\n",
    "    num_channels = image_data.shape[0]\n",
    "    \n",
    "    if num_channels == 1:\n",
    "        fig, ax = plt.subplots(1, 1, figsize=(3, 3))\n",
    "        ax.imshow(image_data[0]) \n",
    "        ax.set_title(f\"Label: {label}, Cell ID: {cell_id}\")\n",
    "        ax.axis('off')\n",
    "    else:\n",
    "        fig, axes = plt.subplots(1, num_channels, figsize=(10, 5))\n",
    "        for channel in range(num_channels):\n",
    "            axes[channel].imshow(image_data[channel])\n",
    "            axes[channel].set_title(f\"Channel {channel + 1}\")\n",
    "            axes[channel].axis('off')\n",
    "        \n",
    "    plt.tight_layout()\n",
    "    plt.suptitle(f\"Batch Image - Label: {label}, Cell ID: {cell_id}\", y=1.05)\n",
    "    plt.show()"
   ]
  },
  {
   "cell_type": "code",
   "execution_count": 40,
   "id": "68ef2f51",
   "metadata": {},
   "outputs": [
    {
     "data": {
      "image/png": "[encoded data removed]",
      "text/plain": [
       "<Figure size 300x300 with 1 Axes>"
      ]
     },
     "metadata": {},
     "output_type": "display_data"
    }
   ],
   "source": [
    "# Visualize a batch\n",
    "visualize_batch(test_data_loader_big)"
   ]
  },
  {
   "cell_type": "code",
   "execution_count": 1,
   "id": "7c20268d",
   "metadata": {},
   "outputs": [
    {
     "name": "stdout",
     "output_type": "stream",
     "text": [
      "balanced_testset.pt\n",
      "testset_0.h5\n",
      "testset_1.h5\n",
      "balanced_testset_big.pt\n",
      "testset_indices.pkl\n",
      "testset_5.h5\n",
      "testset_3.h5\n",
      "testset_4.h5\n",
      "balanced_testset_old.pt\n",
      "testset_2.h5\n",
      "\n",
      "\n"
     ]
    }
   ],
   "source": [
    "import os\n",
    "os.chdir('/dss/dssfs02/lwp-dss-0001/pn36po/pn36po-dss-0001/di93quv/balanced_testset_all_classes/')\n",
    "files = os.listdir()\n",
    "for file in files:\n",
    "    print(file)\n",
    "print(\"\\n\")"
   ]
  },
  {
   "cell_type": "markdown",
   "id": "5ed298cc",
   "metadata": {},
   "source": [
    "# Make BIG final balanced testset with 100000 instances for class 5 and 2000 for all other classes WITH return_id = true (100k testset)\n",
    "\n",
    "#### used across de novo model and ConvNeXt inference"
   ]
  },
  {
   "cell_type": "code",
   "execution_count": 7,
   "id": "20410814",
   "metadata": {},
   "outputs": [],
   "source": [
    "import torch\n",
    "from torch.utils.data import DataLoader, TensorDataset\n",
    "from sklearn.utils import shuffle\n",
    "import numpy as np\n",
    "import matplotlib.pyplot as plt"
   ]
  },
  {
   "cell_type": "code",
   "execution_count": 20,
   "id": "23155abb",
   "metadata": {},
   "outputs": [],
   "source": [
    "# Function to create balanced testset with class 5 having 10,000 instances\n",
    "def create_balanced_testset_big(dataset, target_classes, n_instances_per_class, class_5_instances):\n",
    "    \"\"\"\n",
    "    Create a balanced testset where class 5 has 10,000 instances and other classes have n_instances_per_class.\n",
    "    \"\"\"\n",
    "    balanced_data = []\n",
    "    \n",
    "    for cls in target_classes:\n",
    "        print(f\"Processing class {cls}...\")\n",
    "        class_indices = [i for i, (_, label, _) in enumerate(dataset) if label == cls]\n",
    "        \n",
    "        if cls == 5:\n",
    "            sampled_indices = np.random.choice(class_indices, class_5_instances, replace=False)\n",
    "        else:\n",
    "            sampled_indices = np.random.choice(class_indices, n_instances_per_class, replace=False)\n",
    "        \n",
    "        balanced_data.extend([dataset[i] for i in sampled_indices])  # dataset[i] returns (image, label, cell_id)!\n",
    "    \n",
    "    # Shuffle the testset\n",
    "    balanced_data = shuffle(balanced_data, random_state=42)  \n",
    "    return balanced_data"
   ]
  },
  {
   "cell_type": "code",
   "execution_count": 21,
   "id": "14c85d33",
   "metadata": {},
   "outputs": [],
   "source": [
    "# Define parameters\n",
    "batch_size = 64\n",
    "n_test_instances_per_class = 2000  # Test instances for classes 0-4\n",
    "class_5_instances = 100000          # Test instances for class 5\n",
    "target_test_classes = [0, 1, 2, 3, 4, 5]"
   ]
  },
  {
   "cell_type": "code",
   "execution_count": 22,
   "id": "184d5f25",
   "metadata": {},
   "outputs": [
    {
     "name": "stdout",
     "output_type": "stream",
     "text": [
      "Total: 789105\n",
      "0: 100000\n",
      "1: 100000\n",
      "2: 100000\n",
      "3: 5019\n",
      "4: 3654\n",
      "5: 480432\n"
     ]
    }
   ],
   "source": [
    "testset_data = HDF5SingleCellDataset(\n",
    "    dir_list=[\n",
    "        '/dss/dssfs02/lwp-dss-0001/pn36po/pn36po-dss-0001/di93kux/231018_EI24_timecourse_phenix/231018_0316_EI24_fixed_tc/231018_0316_EI24_fixed_tc_EI24KO_1_14h.h5',\n",
    "        '/dss/dssfs02/lwp-dss-0001/pn36po/pn36po-dss-0001/di93kux/231018_EI24_timecourse_phenix/231018_0316_EI24_fixed_tc/231018_0316_EI24_fixed_tc_EI24KO_2_14h.h5',\n",
    "        '/dss/dssfs02/lwp-dss-0001/pn36po/pn36po-dss-0001/di93kux/231018_EI24_timecourse_phenix/231018_0317_EI24_fixed_tc/231018_0317_EI24_fixed_tc_EI24KO_1_14h.h5',\n",
    "        '/dss/dssfs02/lwp-dss-0001/pn36po/pn36po-dss-0001/di93kux/231004_autophagy_screen_6slides/2.3_K001/single_cells.h5',\n",
    "        '/dss/dssfs02/lwp-dss-0001/pn36po/pn36po-dss-0001/di93kux/231018_EI24_timecourse_phenix/231018_0318_EI24_fixed_tc/231018_0318_EI24_fixed_tc_WT_2_4h.h5',\n",
    "        '/dss/dssfs02/lwp-dss-0001/pn36po/pn36po-dss-0001/di93kux/231018_EI24_timecourse_phenix/231018_0316_EI24_fixed_tc/231018_0316_EI24_fixed_tc_WT_1_4h.h5',\n",
    "        '/dss/dssfs02/lwp-dss-0001/pn36po/pn36po-dss-0001/di93kux/231018_EI24_timecourse_phenix/231018_0316_EI24_fixed_tc/231018_0316_EI24_fixed_tc_WT_2_4h.h5',\n",
    "        '/dss/dssfs02/lwp-dss-0001/pn36po/pn36po-dss-0001/di93kux/230714_autophagy_training_data_sample/T_02_stim_wt_filtered.h5',\n",
    "        '/dss/dssfs02/lwp-dss-0001/pn36po/pn36po-dss-0001/di93kux/230714_autophagy_training_data_sample/T_02_unstim_wt_filtered.h5',\n",
    "        '/dss/dssfs02/lwp-dss-0001/pn36po/pn36po-dss-0001/di93kux/230714_autophagy_training_data_sample/T_2.2_stim_Cr203_filtered.h5'\n",
    "    ],\n",
    "    dir_labels=[4, 4, 4, 5, 3, 3, 3, 0, 1, 2], \n",
    "    root_dir='/dss/dssfs02/lwp-dss-0001/pn36po/pn36po-dss-0001/di93kux/230714_autophagy_training_data_sample/',\n",
    "    select_channel=4,  # Selecting the 5th channel (channel index 4)\n",
    "    return_id=True  # Now return_id is True to get the cell ids we want!!\n",
    ")"
   ]
  },
  {
   "cell_type": "code",
   "execution_count": 23,
   "id": "298ecfa5",
   "metadata": {},
   "outputs": [
    {
     "name": "stdout",
     "output_type": "stream",
     "text": [
      "Processing class 0...\n",
      "Processing class 1...\n",
      "Processing class 2...\n",
      "Processing class 3...\n",
      "Processing class 4...\n",
      "Processing class 5...\n"
     ]
    },
    {
     "name": "stderr",
     "output_type": "stream",
     "text": [
      "/usr/local/lib/python3.10/dist-packages/torch/utils/data/dataloader.py:557: UserWarning: This DataLoader will create 14 worker processes in total. Our suggested max number of worker in current system is 6, which is smaller than what this DataLoader is going to create. Please be aware that excessive worker creation might get DataLoader running slow or even freeze, lower the worker number to avoid potential slowness/freeze if necessary.\n",
      "  warnings.warn(_create_warning_msg(\n"
     ]
    }
   ],
   "source": [
    "# Create new balanced testset\n",
    "balanced_testset_big = create_balanced_testset_big(testset_data, target_test_classes, n_test_instances_per_class, class_5_instances)\n",
    "\n",
    "# Create test DataLoader (shared for all training processes)\n",
    "test_data_loader = DataLoader(balanced_testset_big, batch_size=batch_size, shuffle=True, num_workers=14, pin_memory=True)"
   ]
  },
  {
   "cell_type": "code",
   "execution_count": 30,
   "id": "fa1008cc",
   "metadata": {},
   "outputs": [
    {
     "name": "stdout",
     "output_type": "stream",
     "text": [
      "Filesystem      Size  Used Avail Use% Mounted on\n",
      "/dev/vdb        500G  342G  159G  69% /\n",
      "tmpfs           4.0M     0  4.0M   0% /sys/fs/cgroup\n",
      "tmpfs           126G   20K  126G   1% /dev/shm\n",
      "tmpfs           126G     0  126G   0% /tmp\n",
      "tmpfs           126G     0  126G   0% /run\n",
      "tmpfs           126G     0  126G   0% /run/lock\n",
      "/dev/vda1        39G   15G   24G  39% /dss\n",
      "tmpfs            26G  984K   26G   1% /etc/resolv.conf\n",
      "tmpfs           126G   12K  126G   1% /proc/driver/nvidia\n",
      "dsshome1        563T  199T  364T  36% /dss/dsshome1\n",
      "dsslegfs02       48T   29T   20T  60% /dss/dsslegfs02\n",
      "dssfs04         241T   63T  178T  27% /dss/dssfs04\n",
      "dssmcmlfs01     188T  105T   83T  57% /dss/dssmcmlfs01\n",
      "mcmlscratch     126T   16T  111T  13% /dss/mcmlscratch\n",
      "dssfs02          12P  2.5P  8.7P  22% /dss/dssfs02\n",
      "dssfs03          12P  1.8P  9.4P  16% /dss/dssfs03\n",
      "dsslegfs01      1.9P  802T  1.1P  43% /dss/dsslegfs01\n",
      "dssfs05         6.3P  615G  6.3P   1% /dss/dssfs05\n"
     ]
    }
   ],
   "source": [
    "!df -h"
   ]
  },
  {
   "cell_type": "code",
   "execution_count": 24,
   "id": "56a2d25d",
   "metadata": {},
   "outputs": [
    {
     "name": "stdout",
     "output_type": "stream",
     "text": [
      "Test set class distribution (balanced): {0: 2000, 1: 2000, 2: 2000, 3: 2000, 4: 2000, 5: 100000}\n"
     ]
    }
   ],
   "source": [
    "# Extract labels correctly (ignoring image and cell ID)\n",
    "test_labels = [label for _, label, _ in balanced_testset_big]\n",
    "\n",
    "# Compute class distribution\n",
    "unique, counts = np.unique(test_labels, return_counts=True)\n",
    "print(f\"Test set class distribution (balanced): {dict(zip(unique, counts))}\")"
   ]
  },
  {
   "cell_type": "code",
   "execution_count": 34,
   "id": "b5ccfc76",
   "metadata": {},
   "outputs": [],
   "source": [
    "def save_dataset(dataset, save_path):\n",
    "    images_tensor = torch.stack([sample[0] for sample in dataset])\n",
    "    labels_tensor = torch.tensor([sample[1] for sample in dataset])\n",
    "    cell_ids_tensor = torch.tensor([sample[2] for sample in dataset])\n",
    "    torch.save((images_tensor, labels_tensor, cell_ids_tensor), save_path)\n",
    "    print(f\"Dataset saved at {save_path}\")"
   ]
  },
  {
   "cell_type": "code",
   "execution_count": 36,
   "id": "7356ea6f",
   "metadata": {},
   "outputs": [
    {
     "name": "stdout",
     "output_type": "stream",
     "text": [
      "Dataset saved at /dss/dsshome1/0F/di93quv/balanced_testset_big_100k.pt\n"
     ]
    }
   ],
   "source": [
    "save_dataset(\n",
    "    balanced_testset_big,\n",
    "    \"/dss/dsshome1/0F/di93quv/balanced_testset_big_100k.pt\"\n",
    ")"
   ]
  },
  {
   "cell_type": "code",
   "execution_count": 37,
   "id": "b28c5984",
   "metadata": {},
   "outputs": [],
   "source": [
    "def load_dataset(save_path, batch_size):\n",
    "    images_tensor, labels_tensor, cell_ids_tensor = torch.load(save_path)\n",
    "    dataset = TensorDataset(images_tensor, labels_tensor, cell_ids_tensor)\n",
    "    data_loader = DataLoader(dataset, batch_size=batch_size, shuffle=True)\n",
    "    print(f\"Loaded dataset from {save_path}\")\n",
    "    return data_loader"
   ]
  },
  {
   "cell_type": "code",
   "execution_count": 38,
   "id": "3f9ae3af",
   "metadata": {},
   "outputs": [
    {
     "name": "stdout",
     "output_type": "stream",
     "text": [
      "Loaded dataset from /dss/dsshome1/0F/di93quv/balanced_testset_big_100k.pt\n"
     ]
    }
   ],
   "source": [
    "# Load the new dataset\n",
    "test_data_loader_big = load_dataset(\n",
    "    \"/dss/dsshome1/0F/di93quv/balanced_testset_big_100k.pt\",\n",
    "    batch_size=batch_size\n",
    ")"
   ]
  },
  {
   "cell_type": "code",
   "execution_count": 39,
   "id": "8da2f0b7",
   "metadata": {},
   "outputs": [],
   "source": [
    "# Function to visualize a batch\n",
    "def visualize_batch(data_loader):\n",
    "    images, labels, cell_ids = next(iter(data_loader))\n",
    "    image_data = images[0].numpy()\n",
    "    label = labels[0].item()\n",
    "    cell_id = cell_ids[0].item()\n",
    "    num_channels = image_data.shape[0]\n",
    "    \n",
    "    if num_channels == 1:\n",
    "        fig, ax = plt.subplots(1, 1, figsize=(3, 3))\n",
    "        ax.imshow(image_data[0]) \n",
    "        ax.set_title(f\"Label: {label}, Cell ID: {cell_id}\")\n",
    "        ax.axis('off')\n",
    "    else:\n",
    "        fig, axes = plt.subplots(1, num_channels, figsize=(10, 5))\n",
    "        for channel in range(num_channels):\n",
    "            axes[channel].imshow(image_data[channel])\n",
    "            axes[channel].set_title(f\"Channel {channel + 1}\")\n",
    "            axes[channel].axis('off')\n",
    "        \n",
    "    plt.tight_layout()\n",
    "    plt.suptitle(f\"Batch Image - Label: {label}, Cell ID: {cell_id}\", y=1.05)\n",
    "    plt.show()"
   ]
  },
  {
   "cell_type": "code",
   "execution_count": 40,
   "id": "f984212c",
   "metadata": {},
   "outputs": [
    {
     "data": {
      "image/png": "[encoded data removed]",
      "text/plain": [
       "<Figure size 300x300 with 1 Axes>"
      ]
     },
     "metadata": {},
     "output_type": "display_data"
    }
   ],
   "source": [
    "# Visualize a batch\n",
    "visualize_batch(test_data_loader_big)"
   ]
  },
  {
   "cell_type": "markdown",
   "id": "a9ba26d7",
   "metadata": {},
   "source": [
    "## Make the LRZ Random Subset Screening testset\n",
    "\n",
    "Other classes are not included here, this is used for the active leanring loop!"
   ]
  },
  {
   "cell_type": "code",
   "execution_count": 8,
   "id": "1b21ec26",
   "metadata": {},
   "outputs": [],
   "source": [
    "import torch\n",
    "from torch.utils.data import DataLoader, TensorDataset\n",
    "from sklearn.utils import shuffle\n",
    "import numpy as np\n",
    "import matplotlib.pyplot as plt"
   ]
  },
  {
   "cell_type": "code",
   "execution_count": 9,
   "id": "e9e31f3e",
   "metadata": {},
   "outputs": [],
   "source": [
    "# Function to create balanced testset with class 5 having 10,000 instances\n",
    "def create_balanced_testset_big(dataset, target_classes, n_instances_per_class, class_5_instances):\n",
    "    \"\"\"\n",
    "    Create a balanced testset where class 5 has 10,000 instances and other classes have n_instances_per_class.\n",
    "    \"\"\"\n",
    "    balanced_data = []\n",
    "    \n",
    "    for cls in target_classes:\n",
    "        print(f\"Processing class {cls}...\")\n",
    "        class_indices = [i for i, (_, label, _) in enumerate(dataset) if label == cls]\n",
    "        \n",
    "        if cls == 5:\n",
    "            sampled_indices = np.random.choice(class_indices, class_5_instances, replace=False)\n",
    "        else:\n",
    "            sampled_indices = np.random.choice(class_indices, n_instances_per_class, replace=False)\n",
    "        \n",
    "        balanced_data.extend([dataset[i] for i in sampled_indices])  # dataset[i] returns (image, label, cell_id)!\n",
    "    \n",
    "    # Shuffle the testset\n",
    "    balanced_data = shuffle(balanced_data, random_state=42)  \n",
    "    return balanced_data"
   ]
  },
  {
   "cell_type": "code",
   "execution_count": 10,
   "id": "b639e2fd",
   "metadata": {},
   "outputs": [],
   "source": [
    "# Define parameters\n",
    "batch_size = 64\n",
    "n_test_instances_per_class = 0  # Test instances for classes 0-4\n",
    "class_5_instances = 100000          # Test instances for class 5\n",
    "target_test_classes = [5]"
   ]
  },
  {
   "cell_type": "code",
   "execution_count": 11,
   "id": "f934c48a",
   "metadata": {},
   "outputs": [
    {
     "name": "stdout",
     "output_type": "stream",
     "text": [
      "Total: 480432\n",
      "5: 480432\n"
     ]
    }
   ],
   "source": [
    "testset_data = HDF5SingleCellDataset(\n",
    "    dir_list=[\n",
    "              #'/dss/dssfs02/lwp-dss-0001/pn36po/pn36po-dss-0001/di93kux/231004_autophagy_screen_6slides/2.3_A002/single_cells.h5', \n",
    "              #'/dss/dssfs02/lwp-dss-0001/pn36po/pn36po-dss-0001/di93kux/231004_autophagy_screen_6slides/2.3_B004/single_cells.h5',\n",
    "              #'/dss/dssfs02/lwp-dss-0001/pn36po/pn36po-dss-0001/di93kux/231004_autophagy_screen_6slides/2.3_D001/single_cells.h5',\n",
    "              #'/dss/dssfs02/lwp-dss-0001/pn36po/pn36po-dss-0001/di93kux/231004_autophagy_screen_6slides/2.3_F003/single_cells.h5',\n",
    "              #'/dss/dssfs02/lwp-dss-0001/pn36po/pn36po-dss-0001/di93kux/231004_autophagy_screen_6slides/2.3_H002/single_cells.h5',\n",
    "              '/dss/dssfs02/lwp-dss-0001/pn36po/pn36po-dss-0001/di93kux/231004_autophagy_screen_6slides/2.3_K001/single_cells.h5',\n",
    "    ],\n",
    "    dir_labels=[5], \n",
    "    root_dir='/dss/dssfs02/lwp-dss-0001/pn36po/pn36po-dss-0001/di93kux/231004_autophagy_screen_6slides/',\n",
    "    select_channel=4,  # Selecting the 5th channel (channel index 4)\n",
    "    return_id=True  # Now return_id is True to get the cell ids we want!!\n",
    ")"
   ]
  },
  {
   "cell_type": "code",
   "execution_count": 13,
   "id": "b82a6b72",
   "metadata": {},
   "outputs": [
    {
     "name": "stdout",
     "output_type": "stream",
     "text": [
      "Processing class 5...\n"
     ]
    },
    {
     "name": "stderr",
     "output_type": "stream",
     "text": [
      "/usr/local/lib/python3.10/dist-packages/torch/utils/data/dataloader.py:557: UserWarning: This DataLoader will create 100 worker processes in total. Our suggested max number of worker in current system is 14, which is smaller than what this DataLoader is going to create. Please be aware that excessive worker creation might get DataLoader running slow or even freeze, lower the worker number to avoid potential slowness/freeze if necessary.\n",
      "  warnings.warn(_create_warning_msg(\n"
     ]
    }
   ],
   "source": [
    "# Create new balanced testset\n",
    "balanced_testset_big = create_balanced_testset_big(testset_data, target_test_classes, n_test_instances_per_class, class_5_instances)\n",
    "\n",
    "# Create test DataLoader (shared for all training processes)\n",
    "test_data_loader = DataLoader(balanced_testset_big, batch_size=batch_size, shuffle=True, num_workers=100, pin_memory=True)"
   ]
  },
  {
   "cell_type": "code",
   "execution_count": 14,
   "id": "95770f9b",
   "metadata": {},
   "outputs": [
    {
     "name": "stdout",
     "output_type": "stream",
     "text": [
      "Test set class distribution (balanced): {5: 100000}\n"
     ]
    }
   ],
   "source": [
    "# Extract labels correctly (ignoring image and cell ID)\n",
    "test_labels = [label for _, label, _ in balanced_testset_big]\n",
    "\n",
    "# Compute class distribution\n",
    "unique, counts = np.unique(test_labels, return_counts=True)\n",
    "print(f\"Test set class distribution (balanced): {dict(zip(unique, counts))}\")"
   ]
  },
  {
   "cell_type": "code",
   "execution_count": 15,
   "id": "dbb9b3d7",
   "metadata": {},
   "outputs": [],
   "source": [
    "def save_dataset(dataset, save_path):\n",
    "    images_tensor = torch.stack([sample[0] for sample in dataset])\n",
    "    labels_tensor = torch.tensor([sample[1] for sample in dataset])\n",
    "    cell_ids_tensor = torch.tensor([sample[2] for sample in dataset])\n",
    "    torch.save((images_tensor, labels_tensor, cell_ids_tensor), save_path)\n",
    "    print(f\"Dataset saved at {save_path}\")"
   ]
  },
  {
   "cell_type": "code",
   "execution_count": 17,
   "id": "ca22e027",
   "metadata": {},
   "outputs": [
    {
     "name": "stdout",
     "output_type": "stream",
     "text": [
      "Dataset saved at /dss/dsshome1/0F/di93quv/LRZ_Random_Screening_subset_100k.pt\n"
     ]
    }
   ],
   "source": [
    "save_dataset(\n",
    "    balanced_testset_big,\n",
    "    \"/dss/dsshome1/0F/di93quv/LRZ_Random_Screening_subset_100k.pt\"\n",
    ")"
   ]
  },
  {
   "cell_type": "code",
   "execution_count": 14,
   "id": "f048fc60",
   "metadata": {},
   "outputs": [],
   "source": [
    "def load_dataset(save_path, batch_size):\n",
    "    images_tensor, labels_tensor, cell_ids_tensor = torch.load(save_path)\n",
    "    dataset = TensorDataset(images_tensor, labels_tensor, cell_ids_tensor)\n",
    "    data_loader = DataLoader(dataset, batch_size=batch_size, shuffle=True)\n",
    "    print(f\"Loaded dataset from {save_path}\")\n",
    "    return data_loader"
   ]
  },
  {
   "cell_type": "code",
   "execution_count": 15,
   "id": "285ed19d",
   "metadata": {},
   "outputs": [
    {
     "name": "stdout",
     "output_type": "stream",
     "text": [
      "Loaded dataset from /dss/dsshome1/0F/di93quv/LRZ_Random_Screening_subset_100k.pt\n"
     ]
    }
   ],
   "source": [
    "# Load the new dataset\n",
    "test_data_loader_big = load_dataset(\n",
    "    \"/dss/dsshome1/0F/di93quv/LRZ_Random_Screening_subset_100k.pt\",\n",
    "    batch_size=batch_size\n",
    ")"
   ]
  },
  {
   "cell_type": "code",
   "execution_count": 16,
   "id": "eca00b8d",
   "metadata": {},
   "outputs": [],
   "source": [
    "# Function to visualize a batch\n",
    "def visualize_batch(data_loader):\n",
    "    images, labels, cell_ids = next(iter(data_loader))\n",
    "    image_data = images[0].numpy()\n",
    "    label = labels[0].item()\n",
    "    cell_id = cell_ids[0].item()\n",
    "    num_channels = image_data.shape[0]\n",
    "    \n",
    "    if num_channels == 1:\n",
    "        fig, ax = plt.subplots(1, 1, figsize=(3, 3))\n",
    "        ax.imshow(image_data[0]) \n",
    "        ax.set_title(f\"Label: {label}, Cell ID: {cell_id}\")\n",
    "        ax.axis('off')\n",
    "    else:\n",
    "        fig, axes = plt.subplots(1, num_channels, figsize=(10, 5))\n",
    "        for channel in range(num_channels):\n",
    "            axes[channel].imshow(image_data[channel])\n",
    "            axes[channel].set_title(f\"Channel {channel + 1}\")\n",
    "            axes[channel].axis('off')\n",
    "        \n",
    "    plt.tight_layout()\n",
    "    plt.suptitle(f\"Batch Image - Label: {label}, Cell ID: {cell_id}\", y=1.05)\n",
    "    plt.show()"
   ]
  },
  {
   "cell_type": "code",
   "execution_count": 17,
   "id": "1486e7c1",
   "metadata": {},
   "outputs": [
    {
     "data": {
      "image/png": "[encoded data removed]",
      "text/plain": [
       "<Figure size 300x300 with 1 Axes>"
      ]
     },
     "metadata": {},
     "output_type": "display_data"
    }
   ],
   "source": [
    "# Visualize a batch\n",
    "visualize_batch(test_data_loader_big)"
   ]
  }
 ],
 "metadata": {
  "kernelspec": {
   "display_name": "Python 3 (ipykernel)",
   "language": "python",
   "name": "python3"
  },
  "language_info": {
   "codemirror_mode": {
    "name": "ipython",
    "version": 3
   },
   "file_extension": ".py",
   "mimetype": "text/x-python",
   "name": "python",
   "nbconvert_exporter": "python",
   "pygments_lexer": "ipython3",
   "version": "3.10.6"
  }
 },
 "nbformat": 4,
 "nbformat_minor": 5
}
