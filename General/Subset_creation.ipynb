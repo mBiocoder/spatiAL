{
 "cells": [
  {
   "cell_type": "code",
   "execution_count": null,
   "id": "7d4e4946",
   "metadata": {},
   "outputs": [
    {
     "name": "stdout",
     "output_type": "stream",
     "text": [
      "Cloning into 'SPARCSpy'...\n",
      "remote: Enumerating objects: 1348, done.\u001b[K\n",
      "remote: Counting objects: 100% (569/569), done.\u001b[K\n",
      "remote: Compressing objects: 100% (162/162), done.\u001b[K\n",
      "remote: Total 1348 (delta 481), reused 407 (delta 407), pack-reused 779 (from 1)\u001b[K\n",
      "Receiving objects: 100% (1348/1348), 282.54 MiB | 8.44 MiB/s, done.\n",
      "Resolving deltas: 100% (774/774), done.\n",
      "Updating files:  92% (383/416)"
     ]
    }
   ],
   "source": [
    "!git clone https://github.com/MannLabs/SPARCSpy.git"
   ]
  },
  {
   "cell_type": "code",
   "execution_count": null,
   "id": "48ebde23",
   "metadata": {},
   "outputs": [],
   "source": [
    "!cd SPARCSpy"
   ]
  },
  {
   "cell_type": "code",
   "execution_count": 1,
   "id": "3459c46f",
   "metadata": {},
   "outputs": [
    {
     "name": "stdout",
     "output_type": "stream",
     "text": [
      "Requirement already satisfied: tqdm in /mnt/c/Users/mahim/Documents/Thesis/sparc_env/lib/python3.12/site-packages (4.67.1)\n",
      "\n",
      "\u001b[1m[\u001b[0m\u001b[34;49mnotice\u001b[0m\u001b[1;39;49m]\u001b[0m\u001b[39;49m A new release of pip is available: \u001b[0m\u001b[31;49m24.0\u001b[0m\u001b[39;49m -> \u001b[0m\u001b[32;49m25.0.1\u001b[0m\n",
      "\u001b[1m[\u001b[0m\u001b[34;49mnotice\u001b[0m\u001b[1;39;49m]\u001b[0m\u001b[39;49m To update, run: \u001b[0m\u001b[32;49mpip install --upgrade pip\u001b[0m\n"
     ]
    }
   ],
   "source": [
    "!pip install tqdm"
   ]
  },
  {
   "cell_type": "code",
   "execution_count": 1,
   "id": "b3d94223",
   "metadata": {},
   "outputs": [],
   "source": [
    "from sparcscore.ml.datasets import HDF5SingleCellDataset\n",
    "#from sparcscore.ml.transforms import RandomRotation, GaussianNoise, ChannelReducer, ChannelSelector\n",
    "#from sparcscore.ml.utils import combine_datasets_balanced\n",
    "import h5py\n",
    "import numpy as np\n",
    "import os\n",
    "from tqdm import tqdm\n",
    "import matplotlib.pyplot as plt"
   ]
  },
  {
   "cell_type": "code",
   "execution_count": 2,
   "id": "36623318",
   "metadata": {},
   "outputs": [
    {
     "name": "stdout",
     "output_type": "stream",
     "text": [
      "/mnt/c/Users/mahim/Documents/Thesis/sparc_env/Subset_screen_2.3\n"
     ]
    }
   ],
   "source": [
    "!pwd"
   ]
  },
  {
   "cell_type": "code",
   "execution_count": 4,
   "id": "bef223f9",
   "metadata": {},
   "outputs": [
    {
     "name": "stdout",
     "output_type": "stream",
     "text": [
      "Total: 19516\n",
      "5: 19516\n"
     ]
    }
   ],
   "source": [
    "screen_data = HDF5SingleCellDataset(\n",
    "    dir_list=['/mnt/c/Users/mahim/Documents/Thesis/single_cell_image_datasets/single_cell_image_datasets/bin1/single_cells.h5'],\n",
    "    dir_labels=[5], \n",
    "    root_dir='/mnt/c/Users/mahim/Documents/Thesis/single_cell_image_datasets/single_cell_image_datasets/',\n",
    "    select_channel=4,  # Select the 5th channel (channel index 4)\n",
    "    return_id=True\n",
    ")"
   ]
  },
  {
   "cell_type": "code",
   "execution_count": 6,
   "id": "44fe9f38",
   "metadata": {},
   "outputs": [
    {
     "name": "stdout",
     "output_type": "stream",
     "text": [
      "Inspecting file: /mnt/c/Users/mahim/Documents/Thesis/single_cell_image_datasets/single_cell_image_datasets/bin1/single_cells.h5\n",
      "Keys: ['annotation', 'single_cell_data', 'single_cell_index']\n",
      "\n",
      "Key: annotation\n",
      " - Shape: (19516, 5)\n",
      " - Data type: object\n",
      " - Sample data (first 5 rows): \n",
      "[[b'166249' b'3854' b'2.3_A001' b'bin1' b'True']\n",
      " [b'202580' b'4331' b'2.3_A001' b'bin1' b'True']\n",
      " [b'461255' b'4786' b'2.3_A001' b'bin1' b'True']\n",
      " [b'66709' b'5035' b'2.3_A001' b'bin1' b'True']\n",
      " [b'150729' b'7719' b'2.3_A001' b'bin1' b'True']]\n",
      "\n",
      "\n",
      "Key: single_cell_data\n",
      " - Shape: (19516, 5, 128, 128)\n",
      " - Data type: float16\n",
      "\n",
      "\n",
      "Key: single_cell_index\n",
      " - Shape: (19516, 2)\n",
      " - Data type: uint64\n",
      " - Sample data (first 5 rows): \n",
      "[[     0 166249]\n",
      " [     1 202580]\n",
      " [     2 461255]\n",
      " [     3  66709]\n",
      " [     4 150729]]\n",
      "\n",
      "\n",
      "================================================================================================================================================================\n",
      "\n"
     ]
    }
   ],
   "source": [
    "def inspect_hdf5_file(hdf5_path):\n",
    "    with h5py.File(hdf5_path, \"r\") as hdf5_file:\n",
    "        keys = list(hdf5_file.keys())\n",
    "        print(f\"Keys: {keys}\\n\")\n",
    "\n",
    "        # Iterate over each key\n",
    "        for key in keys:\n",
    "            print(f\"Key: {key}\")\n",
    "            dataset = hdf5_file[key]\n",
    "            print(f\" - Shape: {dataset.shape}\")\n",
    "            print(f\" - Data type: {dataset.dtype}\")\n",
    "            \n",
    "            # Print first 5 elements\n",
    "            if len(dataset.shape) == 1:\n",
    "                print(f\" - Sample data: {dataset[:5]}\")\n",
    "            elif len(dataset.shape) == 2:\n",
    "                print(f\" - Sample data (first 5 rows): \\n{dataset[:5, :]}\")\n",
    "            elif len(dataset.shape) == 3:\n",
    "                print(f\" - Sample data (first 5 rows, first channel): \\n{dataset[:5, :, 0]}\")\n",
    "            print(\"\\n\")\n",
    "\n",
    "# List of HDF5 file paths -> sneak a peak into all biol. class file types\n",
    "hdf5_paths = ['/mnt/c/Users/mahim/Documents/Thesis/single_cell_image_datasets/single_cell_image_datasets/bin1/single_cells.h5']\n",
    "\n",
    "# Inspect each thing\n",
    "for hdf5_path in hdf5_paths:\n",
    "    print(f\"Inspecting file: {hdf5_path}\")\n",
    "    inspect_hdf5_file(hdf5_path)\n",
    "    print(\"=\" * 160 + \"\\n\")"
   ]
  },
  {
   "cell_type": "markdown",
   "id": "aef8c0a9",
   "metadata": {},
   "source": [
    "### Create subset for each bin of bin 1 size"
   ]
  },
  {
   "cell_type": "code",
   "execution_count": 7,
   "id": "35901cd4",
   "metadata": {
    "scrolled": true
   },
   "outputs": [
    {
     "name": "stdout",
     "output_type": "stream",
     "text": [
      "Processing /mnt/c/Users/mahim/Documents/Thesis/single_cell_image_datasets/single_cell_image_datasets/bin1/single_cells.h5\n"
     ]
    },
    {
     "name": "stderr",
     "output_type": "stream",
     "text": [
      "Subsetting bin1: 100%|██████████████████████████████████████████████████████████| 67/67 [03:06<00:00,  2.78s/it]\n"
     ]
    },
    {
     "name": "stdout",
     "output_type": "stream",
     "text": [
      "Saved subsetted file to /mnt/c/Users/mahim/Documents/Thesis/single_cell_image_datasets/single_cell_image_datasets/bin1/single_cells_subsetted.h5\n",
      "====================================================================================================\n",
      "Processing /mnt/c/Users/mahim/Documents/Thesis/single_cell_image_datasets/single_cell_image_datasets/bin2/single_cells.h5\n"
     ]
    },
    {
     "name": "stderr",
     "output_type": "stream",
     "text": [
      "Subsetting bin2: 100%|██████████████████████████████████████████████████████████| 67/67 [02:58<00:00,  2.66s/it]\n"
     ]
    },
    {
     "name": "stdout",
     "output_type": "stream",
     "text": [
      "Saved subsetted file to /mnt/c/Users/mahim/Documents/Thesis/single_cell_image_datasets/single_cell_image_datasets/bin2/single_cells_subsetted.h5\n",
      "====================================================================================================\n",
      "Processing /mnt/c/Users/mahim/Documents/Thesis/single_cell_image_datasets/single_cell_image_datasets/bin3/single_cells.h5\n"
     ]
    },
    {
     "name": "stderr",
     "output_type": "stream",
     "text": [
      "Subsetting bin3: 100%|██████████████████████████████████████████████████████████| 67/67 [02:54<00:00,  2.61s/it]\n"
     ]
    },
    {
     "name": "stdout",
     "output_type": "stream",
     "text": [
      "Saved subsetted file to /mnt/c/Users/mahim/Documents/Thesis/single_cell_image_datasets/single_cell_image_datasets/bin3/single_cells_subsetted.h5\n",
      "====================================================================================================\n",
      "Processing /mnt/c/Users/mahim/Documents/Thesis/single_cell_image_datasets/single_cell_image_datasets/bin4/single_cells.h5\n"
     ]
    },
    {
     "name": "stderr",
     "output_type": "stream",
     "text": [
      "Subsetting bin4: 100%|██████████████████████████████████████████████████████████| 67/67 [02:53<00:00,  2.59s/it]\n"
     ]
    },
    {
     "name": "stdout",
     "output_type": "stream",
     "text": [
      "Saved subsetted file to /mnt/c/Users/mahim/Documents/Thesis/single_cell_image_datasets/single_cell_image_datasets/bin4/single_cells_subsetted.h5\n",
      "====================================================================================================\n",
      "Processing /mnt/c/Users/mahim/Documents/Thesis/single_cell_image_datasets/single_cell_image_datasets/bin5/single_cells.h5\n"
     ]
    },
    {
     "name": "stderr",
     "output_type": "stream",
     "text": [
      "Subsetting bin5: 100%|██████████████████████████████████████████████████████████| 67/67 [02:53<00:00,  2.59s/it]\n"
     ]
    },
    {
     "name": "stdout",
     "output_type": "stream",
     "text": [
      "Saved subsetted file to /mnt/c/Users/mahim/Documents/Thesis/single_cell_image_datasets/single_cell_image_datasets/bin5/single_cells_subsetted.h5\n",
      "====================================================================================================\n",
      "Processing /mnt/c/Users/mahim/Documents/Thesis/single_cell_image_datasets/single_cell_image_datasets/bin6/single_cells.h5\n"
     ]
    },
    {
     "name": "stderr",
     "output_type": "stream",
     "text": [
      "Subsetting bin6: 100%|██████████████████████████████████████████████████████████| 67/67 [02:52<00:00,  2.57s/it]"
     ]
    },
    {
     "name": "stdout",
     "output_type": "stream",
     "text": [
      "Saved subsetted file to /mnt/c/Users/mahim/Documents/Thesis/single_cell_image_datasets/single_cell_image_datasets/bin6/single_cells_subsetted.h5\n",
      "====================================================================================================\n"
     ]
    },
    {
     "name": "stderr",
     "output_type": "stream",
     "text": [
      "\n"
     ]
    }
   ],
   "source": [
    "# Set random seed for reproducibility\n",
    "np.random.seed(42)\n",
    "\n",
    "# Set base path and number of cells from bin1\n",
    "base_path = '/mnt/c/Users/mahim/Documents/Thesis/single_cell_image_datasets/single_cell_image_datasets'\n",
    "target_n_cells = 10000\n",
    "batch_size = 150  \n",
    "\n",
    "# Bins to subset\n",
    "bins = ['bin1', 'bin2', 'bin3', 'bin4', 'bin5', 'bin6']\n",
    "\n",
    "for bin_name in bins:\n",
    "    input_file = os.path.join(base_path, bin_name, 'single_cells.h5')\n",
    "    output_file = os.path.join(base_path, bin_name, 'single_cells_subsetted.h5')\n",
    "\n",
    "    with h5py.File(input_file, 'r') as infile:\n",
    "        print(f\"Processing {input_file}\")\n",
    "\n",
    "        total_cells = infile['single_cell_data'].shape[0]\n",
    "        assert total_cells >= target_n_cells, f\"{bin_name} has fewer than {target_n_cells} cells!\"\n",
    "\n",
    "        subset_indices = np.random.choice(total_cells, size=target_n_cells, replace=False)\n",
    "        subset_indices.sort()\n",
    "\n",
    "        # Create output file and preallocate datasets\n",
    "        with h5py.File(output_file, 'w') as outfile:\n",
    "            # Dataset properties\n",
    "            sample_shape = infile['single_cell_data'].shape[1:]\n",
    "            annotation_dtype = infile['annotation'].dtype\n",
    "            index_dtype = infile['single_cell_index'].dtype\n",
    "            image_dtype = infile['single_cell_data'].dtype\n",
    "\n",
    "            # Preallocate\n",
    "            dset_data = outfile.create_dataset(\n",
    "                'single_cell_data',\n",
    "                shape=(target_n_cells, *sample_shape),\n",
    "                dtype=image_dtype\n",
    "            )\n",
    "            dset_annotation = outfile.create_dataset(\n",
    "                'annotation',\n",
    "                shape=(target_n_cells, infile['annotation'].shape[1]),\n",
    "                dtype=annotation_dtype\n",
    "            )\n",
    "            dset_index = outfile.create_dataset(\n",
    "                'single_cell_index',\n",
    "                shape=(target_n_cells, 2),\n",
    "                dtype=index_dtype\n",
    "            )\n",
    "\n",
    "            # Batched copy with progress bar\n",
    "            for i in tqdm(range(0, target_n_cells, batch_size), desc=f\"Subsetting {bin_name}\"):\n",
    "                batch_idx = subset_indices[i:i + batch_size]\n",
    "                j = len(batch_idx)  # actual batch size (might be <100 at end)\n",
    "\n",
    "                dset_data[i:i + j] = infile['single_cell_data'][batch_idx]\n",
    "                dset_annotation[i:i + j] = infile['annotation'][batch_idx]\n",
    "                dset_index[i:i + j] = infile['single_cell_index'][batch_idx]\n",
    "\n",
    "    print(f\"Saved subsetted file to {output_file}\\n{'=' * 100}\")"
   ]
  },
  {
   "cell_type": "code",
   "execution_count": 2,
   "id": "aecba0a8",
   "metadata": {},
   "outputs": [
    {
     "name": "stdout",
     "output_type": "stream",
     "text": [
      "Processing /mnt/c/Users/mahim/Documents/Thesis/single_cell_image_datasets/single_cell_image_datasets/bin1/single_cells.h5\n"
     ]
    },
    {
     "name": "stderr",
     "output_type": "stream",
     "text": [
      "Subsetting bin1: 100%|██████████████████████████████████████████████████████████████████| 50/50 [00:40<00:00,  1.24it/s]\n"
     ]
    },
    {
     "name": "stdout",
     "output_type": "stream",
     "text": [
      "Saved subsetted file to: /mnt/c/Users/mahim/Documents/Thesis/single_cell_image_datasets/single_cell_image_datasets/bin1/single_cells_subsetted.h5\n",
      "====================================================================================================\n",
      "Processing /mnt/c/Users/mahim/Documents/Thesis/single_cell_image_datasets/single_cell_image_datasets/bin2/single_cells.h5\n"
     ]
    },
    {
     "name": "stderr",
     "output_type": "stream",
     "text": [
      "Subsetting bin2: 100%|██████████████████████████████████████████████████████████████████| 50/50 [01:08<00:00,  1.36s/it]\n"
     ]
    },
    {
     "name": "stdout",
     "output_type": "stream",
     "text": [
      "Saved subsetted file to: /mnt/c/Users/mahim/Documents/Thesis/single_cell_image_datasets/single_cell_image_datasets/bin2/single_cells_subsetted.h5\n",
      "====================================================================================================\n",
      "Processing /mnt/c/Users/mahim/Documents/Thesis/single_cell_image_datasets/single_cell_image_datasets/bin3/single_cells.h5\n"
     ]
    },
    {
     "name": "stderr",
     "output_type": "stream",
     "text": [
      "Subsetting bin3: 100%|██████████████████████████████████████████████████████████████████| 50/50 [01:16<00:00,  1.54s/it]\n"
     ]
    },
    {
     "name": "stdout",
     "output_type": "stream",
     "text": [
      "Saved subsetted file to: /mnt/c/Users/mahim/Documents/Thesis/single_cell_image_datasets/single_cell_image_datasets/bin3/single_cells_subsetted.h5\n",
      "====================================================================================================\n",
      "Processing /mnt/c/Users/mahim/Documents/Thesis/single_cell_image_datasets/single_cell_image_datasets/bin4/single_cells.h5\n"
     ]
    },
    {
     "name": "stderr",
     "output_type": "stream",
     "text": [
      "Subsetting bin4: 100%|██████████████████████████████████████████████████████████████████| 50/50 [01:11<00:00,  1.43s/it]\n"
     ]
    },
    {
     "name": "stdout",
     "output_type": "stream",
     "text": [
      "Saved subsetted file to: /mnt/c/Users/mahim/Documents/Thesis/single_cell_image_datasets/single_cell_image_datasets/bin4/single_cells_subsetted.h5\n",
      "====================================================================================================\n",
      "Processing /mnt/c/Users/mahim/Documents/Thesis/single_cell_image_datasets/single_cell_image_datasets/bin5/single_cells.h5\n"
     ]
    },
    {
     "name": "stderr",
     "output_type": "stream",
     "text": [
      "Subsetting bin5: 100%|██████████████████████████████████████████████████████████████████| 50/50 [01:17<00:00,  1.55s/it]\n"
     ]
    },
    {
     "name": "stdout",
     "output_type": "stream",
     "text": [
      "Saved subsetted file to: /mnt/c/Users/mahim/Documents/Thesis/single_cell_image_datasets/single_cell_image_datasets/bin5/single_cells_subsetted.h5\n",
      "====================================================================================================\n",
      "Processing /mnt/c/Users/mahim/Documents/Thesis/single_cell_image_datasets/single_cell_image_datasets/bin6/single_cells.h5\n"
     ]
    },
    {
     "name": "stderr",
     "output_type": "stream",
     "text": [
      "Subsetting bin6: 100%|██████████████████████████████████████████████████████████████████| 50/50 [01:30<00:00,  1.81s/it]"
     ]
    },
    {
     "name": "stdout",
     "output_type": "stream",
     "text": [
      "Saved subsetted file to: /mnt/c/Users/mahim/Documents/Thesis/single_cell_image_datasets/single_cell_image_datasets/bin6/single_cells_subsetted.h5\n",
      "====================================================================================================\n"
     ]
    },
    {
     "name": "stderr",
     "output_type": "stream",
     "text": [
      "\n"
     ]
    }
   ],
   "source": [
    "import os\n",
    "import h5py\n",
    "import numpy as np\n",
    "from tqdm import tqdm\n",
    "\n",
    "# Set base path and number of cells from each bin\n",
    "base_path = '/mnt/c/Users/mahim/Documents/Thesis/single_cell_image_datasets/single_cell_image_datasets'\n",
    "target_n_cells = 10000\n",
    "batch_size = 200  \n",
    "\n",
    "# Bins to subset\n",
    "bins = ['bin1', 'bin2', 'bin3', 'bin4', 'bin5', 'bin6']\n",
    "\n",
    "for bin_name in bins:\n",
    "    input_file = os.path.join(base_path, bin_name, 'single_cells.h5')\n",
    "    output_file = os.path.join(base_path, bin_name, 'single_cells_subsetted.h5')\n",
    "\n",
    "    with h5py.File(input_file, 'r') as infile:\n",
    "        print(f\"Processing {input_file}\")\n",
    "\n",
    "        total_cells = infile['single_cell_data'].shape[0]\n",
    "        assert total_cells >= target_n_cells, f\"{bin_name} has fewer than {target_n_cells} cells!\"\n",
    "\n",
    "        #Select the first 10,000 cells deterministically\n",
    "        subset_indices = np.arange(target_n_cells)\n",
    "\n",
    "        # Create output file and preallocate datasets\n",
    "        with h5py.File(output_file, 'w') as outfile:\n",
    "            # Dataset properties\n",
    "            sample_shape = infile['single_cell_data'].shape[1:]\n",
    "            annotation_dtype = infile['annotation'].dtype\n",
    "            index_dtype = infile['single_cell_index'].dtype\n",
    "            image_dtype = infile['single_cell_data'].dtype\n",
    "\n",
    "            # Preallocate\n",
    "            dset_data = outfile.create_dataset(\n",
    "                'single_cell_data',\n",
    "                shape=(target_n_cells, *sample_shape),\n",
    "                dtype=image_dtype\n",
    "            )\n",
    "            dset_annotation = outfile.create_dataset(\n",
    "                'annotation',\n",
    "                shape=(target_n_cells, infile['annotation'].shape[1]),\n",
    "                dtype=annotation_dtype\n",
    "            )\n",
    "            dset_index = outfile.create_dataset(\n",
    "                'single_cell_index',\n",
    "                shape=(target_n_cells, 2),\n",
    "                dtype=index_dtype\n",
    "            )\n",
    "\n",
    "            # Batched copy with progress bar\n",
    "            for i in tqdm(range(0, target_n_cells, batch_size), desc=f\"Subsetting {bin_name}\"):\n",
    "                batch_idx = subset_indices[i:i + batch_size]\n",
    "                j = len(batch_idx)  # actual batch size (might be <150 at end)\n",
    "\n",
    "                dset_data[i:i + j] = infile['single_cell_data'][batch_idx]\n",
    "                dset_annotation[i:i + j] = infile['annotation'][batch_idx]\n",
    "                dset_index[i:i + j] = infile['single_cell_index'][batch_idx]\n",
    "\n",
    "    print(f\"Saved subsetted file to: {output_file}\\n{'=' * 100}\")"
   ]
  },
  {
   "cell_type": "markdown",
   "id": "b8808f9f",
   "metadata": {},
   "source": [
    "### Inspect resulting files and images"
   ]
  },
  {
   "cell_type": "code",
   "execution_count": 2,
   "id": "0bcbfbe9",
   "metadata": {},
   "outputs": [],
   "source": [
    "# Function to inspect HDF5 files\n",
    "def inspect_hdf5_file(hdf5_path):\n",
    "    with h5py.File(hdf5_path, \"r\") as hdf5_file:\n",
    "        keys = list(hdf5_file.keys())\n",
    "        print(f\"Keys: {keys}\\n\")\n",
    "\n",
    "        # Iterate over each key\n",
    "        for key in keys:\n",
    "            print(f\"Key: {key}\")\n",
    "            dataset = hdf5_file[key]\n",
    "            print(f\" - Shape: {dataset.shape}\")\n",
    "            print(f\" - Data type: {dataset.dtype}\")\n",
    "            \n",
    "            # Print first 5 elements\n",
    "            if len(dataset.shape) == 1:\n",
    "                print(f\" - Sample data: {dataset[:5]}\")\n",
    "            elif len(dataset.shape) == 2:\n",
    "                print(f\" - Sample data (first 5 rows): \\n{dataset[:5, :]}\")\n",
    "            elif len(dataset.shape) == 3:\n",
    "                print(f\" - Sample data (first 5 rows, first channel): \\n{dataset[:5, :, 0]}\")\n",
    "            print(\"\\n\")"
   ]
  },
  {
   "cell_type": "code",
   "execution_count": 3,
   "id": "7c36eb8e",
   "metadata": {},
   "outputs": [],
   "source": [
    "# Function to plot images from HDF5 files\n",
    "def plot_images_from_hdf5(hdf5_path):\n",
    "    with h5py.File(hdf5_path, \"r\") as hdf5_file:\n",
    "        # Assuming the 5th channel is the LC3 channel\n",
    "        single_cell_data = hdf5_file['single_cell_data'][:]\n",
    "        \n",
    "        # Select the first 4 images (adjust if the dataset is smaller)\n",
    "        for i in range(min(4, single_cell_data.shape[0])):\n",
    "            fig, ax = plt.subplots(figsize=(6, 6))\n",
    "            # The 5th channel corresponds to index 4 (0-based indexing)\n",
    "            ax.imshow(single_cell_data[i, :, :, 4], cmap='viridis')  # Channel 5 (LC3)\n",
    "            ax.set_title(f\"Image {i + 1} - LC3 Channel\")\n",
    "            ax.axis('off')\n",
    "            plt.show()"
   ]
  },
  {
   "cell_type": "code",
   "execution_count": 5,
   "id": "98db6582",
   "metadata": {},
   "outputs": [
    {
     "name": "stdout",
     "output_type": "stream",
     "text": [
      "Inspecting file: /mnt/c/Users/mahim/Documents/Thesis/single_cell_image_datasets/single_cell_image_datasets/bin1/single_cells.h5\n",
      "Keys: ['annotation', 'single_cell_data', 'single_cell_index']\n",
      "\n",
      "Key: annotation\n",
      " - Shape: (19516, 5)\n",
      " - Data type: object\n",
      " - Sample data (first 5 rows): \n",
      "[[b'166249' b'3854' b'2.3_A001' b'bin1' b'True']\n",
      " [b'202580' b'4331' b'2.3_A001' b'bin1' b'True']\n",
      " [b'461255' b'4786' b'2.3_A001' b'bin1' b'True']\n",
      " [b'66709' b'5035' b'2.3_A001' b'bin1' b'True']\n",
      " [b'150729' b'7719' b'2.3_A001' b'bin1' b'True']]\n",
      "\n",
      "\n",
      "Key: single_cell_data\n",
      " - Shape: (19516, 5, 128, 128)\n",
      " - Data type: float16\n",
      "\n",
      "\n",
      "Key: single_cell_index\n",
      " - Shape: (19516, 2)\n",
      " - Data type: uint64\n",
      " - Sample data (first 5 rows): \n",
      "[[     0 166249]\n",
      " [     1 202580]\n",
      " [     2 461255]\n",
      " [     3  66709]\n",
      " [     4 150729]]\n",
      "\n",
      "\n",
      "================================================================================================================================================================\n",
      "\n",
      "Plotting images for file: /mnt/c/Users/mahim/Documents/Thesis/single_cell_image_datasets/single_cell_image_datasets/bin1/single_cells.h5\n"
     ]
    },
    {
     "data": {
      "image/png": "[encoded data removed]",
      "text/plain": [
       "<Figure size 600x600 with 1 Axes>"
      ]
     },
     "metadata": {},
     "output_type": "display_data"
    },
    {
     "data": {
      "image/png": "[encoded data removed]",
      "text/plain": [
       "<Figure size 600x600 with 1 Axes>"
      ]
     },
     "metadata": {},
     "output_type": "display_data"
    },
    {
     "data": {
      "image/png": "[encoded data removed]",
      "text/plain": [
       "<Figure size 600x600 with 1 Axes>"
      ]
     },
     "metadata": {},
     "output_type": "display_data"
    },
    {
     "data": {
      "image/png": "[encoded data removed]",
      "text/plain": [
       "<Figure size 600x600 with 1 Axes>"
      ]
     },
     "metadata": {},
     "output_type": "display_data"
    },
    {
     "name": "stdout",
     "output_type": "stream",
     "text": [
      "================================================================================================================================================================\n",
      "\n",
      "Inspecting file: /mnt/c/Users/mahim/Documents/Thesis/single_cell_image_datasets/single_cell_image_datasets/bin2/single_cells_subsetted.h5\n",
      "Keys: ['annotation', 'single_cell_data', 'single_cell_index']\n",
      "\n",
      "Key: annotation\n",
      " - Shape: (19516, 5)\n",
      " - Data type: object\n",
      " - Sample data (first 5 rows): \n",
      "[[b'331484' b'349' b'2.3_A001' b'bin2' b'True']\n",
      " [b'11442' b'516' b'2.3_A001' b'bin2' b'True']\n",
      " [b'53377' b'777' b'2.3_A001' b'bin2' b'True']\n",
      " [b'209980' b'2334' b'2.3_A001' b'bin2' b'True']\n",
      " [b'195789' b'3664' b'2.3_A001' b'bin2' b'True']]\n",
      "\n",
      "\n",
      "Key: single_cell_data\n",
      " - Shape: (19516, 5, 128, 128)\n",
      " - Data type: float16\n",
      "\n",
      "\n",
      "Key: single_cell_index\n",
      " - Shape: (19516, 2)\n",
      " - Data type: uint64\n",
      " - Sample data (first 5 rows): \n",
      "[[     4 331484]\n",
      " [     6  11442]\n",
      " [    12  53377]\n",
      " [    24 209980]\n",
      " [    33 195789]]\n",
      "\n",
      "\n",
      "================================================================================================================================================================\n",
      "\n",
      "Plotting images for file: /mnt/c/Users/mahim/Documents/Thesis/single_cell_image_datasets/single_cell_image_datasets/bin2/single_cells_subsetted.h5\n"
     ]
    },
    {
     "data": {
      "image/png": "[encoded data removed]",
      "text/plain": [
       "<Figure size 600x600 with 1 Axes>"
      ]
     },
     "metadata": {},
     "output_type": "display_data"
    },
    {
     "data": {
      "image/png": "[encoded data removed]",
      "text/plain": [
       "<Figure size 600x600 with 1 Axes>"
      ]
     },
     "metadata": {},
     "output_type": "display_data"
    },
    {
     "data": {
      "image/png": "[encoded data removed]",
      "text/plain": [
       "<Figure size 600x600 with 1 Axes>"
      ]
     },
     "metadata": {},
     "output_type": "display_data"
    },
    {
     "data": {
      "image/png": "[encoded data removed]",
      "text/plain": [
       "<Figure size 600x600 with 1 Axes>"
      ]
     },
     "metadata": {},
     "output_type": "display_data"
    },
    {
     "name": "stdout",
     "output_type": "stream",
     "text": [
      "================================================================================================================================================================\n",
      "\n",
      "Inspecting file: /mnt/c/Users/mahim/Documents/Thesis/single_cell_image_datasets/single_cell_image_datasets/bin3/single_cells_subsetted.h5\n",
      "Keys: ['annotation', 'single_cell_data', 'single_cell_index']\n",
      "\n",
      "Key: annotation\n",
      " - Shape: (19516, 5)\n",
      " - Data type: object\n",
      " - Sample data (first 5 rows): \n",
      "[[b'401456' b'1767' b'2.3_A001' b'bin3' b'True']\n",
      " [b'226432' b'1973' b'2.3_A001' b'bin3' b'True']\n",
      " [b'70773' b'3339' b'2.3_A001' b'bin3' b'True']\n",
      " [b'405087' b'3552' b'2.3_A001' b'bin3' b'True']\n",
      " [b'58079' b'6005' b'2.3_A001' b'bin3' b'False']]\n",
      "\n",
      "\n",
      "Key: single_cell_data\n",
      " - Shape: (19516, 5, 128, 128)\n",
      " - Data type: float16\n",
      "\n",
      "\n",
      "Key: single_cell_index\n",
      " - Shape: (19516, 2)\n",
      " - Data type: uint64\n",
      " - Sample data (first 5 rows): \n",
      "[[     0 401456]\n",
      " [     2 226432]\n",
      " [     7  70773]\n",
      " [     8 405087]\n",
      " [    13  58079]]\n",
      "\n",
      "\n",
      "================================================================================================================================================================\n",
      "\n",
      "Plotting images for file: /mnt/c/Users/mahim/Documents/Thesis/single_cell_image_datasets/single_cell_image_datasets/bin3/single_cells_subsetted.h5\n"
     ]
    },
    {
     "data": {
      "image/png": "[encoded data removed]",
      "text/plain": [
       "<Figure size 600x600 with 1 Axes>"
      ]
     },
     "metadata": {},
     "output_type": "display_data"
    },
    {
     "data": {
      "image/png": "[encoded data removed]",
      "text/plain": [
       "<Figure size 600x600 with 1 Axes>"
      ]
     },
     "metadata": {},
     "output_type": "display_data"
    },
    {
     "data": {
      "image/png": "[encoded data removed]",
      "text/plain": [
       "<Figure size 600x600 with 1 Axes>"
      ]
     },
     "metadata": {},
     "output_type": "display_data"
    },
    {
     "data": {
      "image/png": "[encoded data removed]",
      "text/plain": [
       "<Figure size 600x600 with 1 Axes>"
      ]
     },
     "metadata": {},
     "output_type": "display_data"
    },
    {
     "name": "stdout",
     "output_type": "stream",
     "text": [
      "================================================================================================================================================================\n",
      "\n",
      "Inspecting file: /mnt/c/Users/mahim/Documents/Thesis/single_cell_image_datasets/single_cell_image_datasets/bin4/single_cells_subsetted.h5\n",
      "Keys: ['annotation', 'single_cell_data', 'single_cell_index']\n",
      "\n",
      "Key: annotation\n",
      " - Shape: (19516, 5)\n",
      " - Data type: object\n",
      " - Sample data (first 5 rows): \n",
      "[[b'49245' b'1244' b'2.3_A001' b'bin4' b'False']\n",
      " [b'352336' b'1805' b'2.3_A001' b'bin4' b'True']\n",
      " [b'259954' b'2857' b'2.3_A001' b'bin4' b'False']\n",
      " [b'78984' b'3717' b'2.3_A001' b'bin4' b'True']\n",
      " [b'403468' b'3809' b'2.3_A001' b'bin4' b'False']]\n",
      "\n",
      "\n",
      "Key: single_cell_data\n",
      " - Shape: (19516, 5, 128, 128)\n",
      " - Data type: float16\n",
      "\n",
      "\n",
      "Key: single_cell_index\n",
      " - Shape: (19516, 2)\n",
      " - Data type: uint64\n",
      " - Sample data (first 5 rows): \n",
      "[[     2  49245]\n",
      " [     3 352336]\n",
      " [     7 259954]\n",
      " [    10  78984]\n",
      " [    11 403468]]\n",
      "\n",
      "\n",
      "================================================================================================================================================================\n",
      "\n",
      "Plotting images for file: /mnt/c/Users/mahim/Documents/Thesis/single_cell_image_datasets/single_cell_image_datasets/bin4/single_cells_subsetted.h5\n"
     ]
    },
    {
     "data": {
      "image/png": "[encoded data removed]",
      "text/plain": [
       "<Figure size 600x600 with 1 Axes>"
      ]
     },
     "metadata": {},
     "output_type": "display_data"
    },
    {
     "data": {
      "image/png": "[encoded data removed]",
      "text/plain": [
       "<Figure size 600x600 with 1 Axes>"
      ]
     },
     "metadata": {},
     "output_type": "display_data"
    },
    {
     "data": {
      "image/png": "[encoded data removed]",
      "text/plain": [
       "<Figure size 600x600 with 1 Axes>"
      ]
     },
     "metadata": {},
     "output_type": "display_data"
    },
    {
     "data": {
      "image/png": "[encoded data removed]",
      "text/plain": [
       "<Figure size 600x600 with 1 Axes>"
      ]
     },
     "metadata": {},
     "output_type": "display_data"
    },
    {
     "name": "stdout",
     "output_type": "stream",
     "text": [
      "================================================================================================================================================================\n",
      "\n",
      "Inspecting file: /mnt/c/Users/mahim/Documents/Thesis/single_cell_image_datasets/single_cell_image_datasets/bin5/single_cells_subsetted.h5\n",
      "Keys: ['annotation', 'single_cell_data', 'single_cell_index']\n",
      "\n",
      "Key: annotation\n",
      " - Shape: (19516, 5)\n",
      " - Data type: object\n",
      " - Sample data (first 5 rows): \n",
      "[[b'58163' b'4114' b'2.3_A001' b'bin5' b'True']\n",
      " [b'167757' b'8122' b'2.3_A001' b'bin5' b'True']\n",
      " [b'137375' b'10336' b'2.3_A001' b'bin5' b'False']\n",
      " [b'59897' b'11026' b'2.3_A001' b'bin5' b'True']\n",
      " [b'13961' b'12494' b'2.3_A001' b'bin5' b'True']]\n",
      "\n",
      "\n",
      "Key: single_cell_data\n",
      " - Shape: (19516, 5, 128, 128)\n",
      " - Data type: float16\n",
      "\n",
      "\n",
      "Key: single_cell_index\n",
      " - Shape: (19516, 2)\n",
      " - Data type: uint64\n",
      " - Sample data (first 5 rows): \n",
      "[[     9  58163]\n",
      " [    16 167757]\n",
      " [    22 137375]\n",
      " [    25  59897]\n",
      " [    26  13961]]\n",
      "\n",
      "\n",
      "================================================================================================================================================================\n",
      "\n",
      "Plotting images for file: /mnt/c/Users/mahim/Documents/Thesis/single_cell_image_datasets/single_cell_image_datasets/bin5/single_cells_subsetted.h5\n"
     ]
    },
    {
     "data": {
      "image/png": "[encoded data removed]",
      "text/plain": [
       "<Figure size 600x600 with 1 Axes>"
      ]
     },
     "metadata": {},
     "output_type": "display_data"
    },
    {
     "data": {
      "image/png": "[encoded data removed]",
      "text/plain": [
       "<Figure size 600x600 with 1 Axes>"
      ]
     },
     "metadata": {},
     "output_type": "display_data"
    },
    {
     "data": {
      "image/png": "[encoded data removed]",
      "text/plain": [
       "<Figure size 600x600 with 1 Axes>"
      ]
     },
     "metadata": {},
     "output_type": "display_data"
    },
    {
     "data": {
      "image/png": "[encoded data removed]",
      "text/plain": [
       "<Figure size 600x600 with 1 Axes>"
      ]
     },
     "metadata": {},
     "output_type": "display_data"
    },
    {
     "name": "stdout",
     "output_type": "stream",
     "text": [
      "================================================================================================================================================================\n",
      "\n",
      "Inspecting file: /mnt/c/Users/mahim/Documents/Thesis/single_cell_image_datasets/single_cell_image_datasets/bin6/single_cells_subsetted.h5\n",
      "Keys: ['annotation', 'single_cell_data', 'single_cell_index']\n",
      "\n",
      "Key: annotation\n",
      " - Shape: (19516, 5)\n",
      " - Data type: object\n",
      " - Sample data (first 5 rows): \n",
      "[[b'177884' b'467' b'2.3_A001' b'bin6' b'True']\n",
      " [b'49649' b'3589' b'2.3_A001' b'bin6' b'False']\n",
      " [b'387800' b'4311' b'2.3_A001' b'bin6' b'True']\n",
      " [b'256806' b'4505' b'2.3_A001' b'bin6' b'True']\n",
      " [b'136039' b'4863' b'2.3_A001' b'bin6' b'False']]\n",
      "\n",
      "\n",
      "Key: single_cell_data\n",
      " - Shape: (19516, 5, 128, 128)\n",
      " - Data type: float16\n",
      "\n",
      "\n",
      "Key: single_cell_index\n",
      " - Shape: (19516, 2)\n",
      " - Data type: uint64\n",
      " - Sample data (first 5 rows): \n",
      "[[     0 177884]\n",
      " [     5  49649]\n",
      " [     6 387800]\n",
      " [     7 256806]\n",
      " [     8 136039]]\n",
      "\n",
      "\n",
      "================================================================================================================================================================\n",
      "\n",
      "Plotting images for file: /mnt/c/Users/mahim/Documents/Thesis/single_cell_image_datasets/single_cell_image_datasets/bin6/single_cells_subsetted.h5\n"
     ]
    },
    {
     "data": {
      "image/png": "[encoded data removed]",
      "text/plain": [
       "<Figure size 600x600 with 1 Axes>"
      ]
     },
     "metadata": {},
     "output_type": "display_data"
    },
    {
     "data": {
      "image/png": "[encoded data removed]",
      "text/plain": [
       "<Figure size 600x600 with 1 Axes>"
      ]
     },
     "metadata": {},
     "output_type": "display_data"
    },
    {
     "data": {
      "image/png": "[encoded data removed]",
      "text/plain": [
       "<Figure size 600x600 with 1 Axes>"
      ]
     },
     "metadata": {},
     "output_type": "display_data"
    },
    {
     "data": {
      "image/png": "[encoded data removed]",
      "text/plain": [
       "<Figure size 600x600 with 1 Axes>"
      ]
     },
     "metadata": {},
     "output_type": "display_data"
    },
    {
     "name": "stdout",
     "output_type": "stream",
     "text": [
      "================================================================================================================================================================\n",
      "\n"
     ]
    }
   ],
   "source": [
    "# List of HDF5 file paths (those that were subsetted)\n",
    "hdf5_paths = [\n",
    "    '/mnt/c/Users/mahim/Documents/Thesis/single_cell_image_datasets/single_cell_image_datasets/bin1/single_cells.h5',\n",
    "    '/mnt/c/Users/mahim/Documents/Thesis/single_cell_image_datasets/single_cell_image_datasets/bin2/single_cells_subsetted.h5',\n",
    "    '/mnt/c/Users/mahim/Documents/Thesis/single_cell_image_datasets/single_cell_image_datasets/bin3/single_cells_subsetted.h5',\n",
    "    '/mnt/c/Users/mahim/Documents/Thesis/single_cell_image_datasets/single_cell_image_datasets/bin4/single_cells_subsetted.h5',\n",
    "    '/mnt/c/Users/mahim/Documents/Thesis/single_cell_image_datasets/single_cell_image_datasets/bin5/single_cells_subsetted.h5',\n",
    "    '/mnt/c/Users/mahim/Documents/Thesis/single_cell_image_datasets/single_cell_image_datasets/bin6/single_cells_subsetted.h5'\n",
    "]\n",
    "\n",
    "# Inspect and plot each file\n",
    "for hdf5_path in hdf5_paths:\n",
    "    print(f\"Inspecting file: {hdf5_path}\")\n",
    "    inspect_hdf5_file(hdf5_path)\n",
    "    print(\"=\" * 160 + \"\\n\")\n",
    "    \n",
    "    print(f\"Plotting images for file: {hdf5_path}\")\n",
    "    plot_images_from_hdf5(hdf5_path)\n",
    "    print(\"=\" * 160 + \"\\n\")"
   ]
  },
  {
   "cell_type": "code",
   "execution_count": null,
   "id": "661534d1",
   "metadata": {},
   "outputs": [],
   "source": []
  }
 ],
 "metadata": {
  "kernelspec": {
   "display_name": "Python 3 (ipykernel)",
   "language": "python",
   "name": "python3"
  },
  "language_info": {
   "codemirror_mode": {
    "name": "ipython",
    "version": 3
   },
   "file_extension": ".py",
   "mimetype": "text/x-python",
   "name": "python",
   "nbconvert_exporter": "python",
   "pygments_lexer": "ipython3",
   "version": "3.10.6"
  }
 },
 "nbformat": 4,
 "nbformat_minor": 5
}
