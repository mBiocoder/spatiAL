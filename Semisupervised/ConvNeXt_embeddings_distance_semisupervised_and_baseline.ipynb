{
 "cells": [
  {
   "cell_type": "markdown",
   "id": "537661ef",
   "metadata": {},
   "source": [
    "# Evaluating Model Learning Beyond Accuracy: A Baseline Comparison Using ImageNet-Pretrained ConvNeXt with our Semisupervised Model\n",
    "\n",
    "\n",
    "<b> What is being done here? <b>\n",
    "\n",
    "1. Load mebeddings from baseline convnext and our semisupervised model\n",
    "2. Calculate cosine similarity for ATG5 KO vs Unstimulated for both the baseline (ImageNet) and fine-tuned (semi-supervised) models\n",
    "3. Compare the cosine similarity values between the two models\n",
    "4. Quantify the difference in cosine similarity using statistical test to determine if the fine-tuned model provides significantly better similarity\n",
    "\n",
    "\n",
    "Cosine similarity focuses on the direction of the vectors rather than their absolute distance, making it more robust to differences in magnitude and better suited for high-dimensional data like embeddings, where absolute distances may not always reflect true semantic similarity.\n",
    "\n",
    "\n",
    "If cosine similarity is higher in the fine-tuned model compared to the ImageNet ConvNeXt, then it has learned biologically relevant relationships between cell types.\n",
    "If the similarity is not significantly better, then the model may not have learned useful features, and fine-tuning needs re-evaluation.\n",
    "The triangulation approach (ATG5 KO vs. Unstimulated, with Stimulated as reference) helps validate if the embeddings capture expected biological relationships.\n",
    "\n",
    "\n",
    "Accuracy only measures correct classifications, but in imbalanced datasets or cases where classes are not perfectly separable, it does not reflect how well the model understands the structure of the data.\n",
    "Embedding distances capture relationships between classes, which provides richer insights than just correct/incorrect predictions."
   ]
  },
  {
   "cell_type": "code",
   "execution_count": 3,
   "id": "36160102",
   "metadata": {},
   "outputs": [
    {
     "name": "stdout",
     "output_type": "stream",
     "text": [
      "Looking in indexes: https://pypi.org/simple, https://pypi.ngc.nvidia.com\n",
      "Collecting numpy==1.26.4\n",
      "  Downloading numpy-1.26.4-cp310-cp310-manylinux_2_17_x86_64.manylinux2014_x86_64.whl (18.2 MB)\n",
      "\u001b[K     |████████████████████████████████| 18.2 MB 1.8 MB/s eta 0:00:01\n",
      "\u001b[?25hCollecting torch==2.1.0\n",
      "  Downloading torch-2.1.0-cp310-cp310-manylinux1_x86_64.whl (670.2 MB)\n",
      "\u001b[K     |████████████████████████████████| 670.2 MB 3.4 MB/s eta 0:00:0101   |██                              | 40.5 MB 43.5 MB/s eta 0:00:15     |██                              | 41.6 MB 43.5 MB/s eta 0:00:15     |██▊                             | 56.1 MB 43.5 MB/s eta 0:00:15     |██▉                             | 59.5 MB 43.5 MB/s eta 0:00:15     |███▏                            | 66.3 MB 43.5 MB/s eta 0:00:14     |███▍                            | 71.5 MB 43.5 MB/s eta 0:00:14     |███▋                            | 74.8 MB 30.1 MB/s eta 0:00:20     |███▋                            | 76.6 MB 30.1 MB/s eta 0:00:20     |███▊                            | 78.3 MB 30.1 MB/s eta 0:00:20     |████                            | 81.6 MB 30.1 MB/s eta 0:00:20     |████                            | 83.3 MB 30.1 MB/s eta 0:00:20     |████▌                           | 93.6 MB 30.1 MB/s eta 0:00:20     |█████                           | 104.4 MB 30.1 MB/s eta 0:00:19     |█████▌                          | 115.0 MB 36.0 MB/s eta 0:00:16     |██████                          | 126.1 MB 36.0 MB/s eta 0:00:16     |██████▎                         | 132.5 MB 36.0 MB/s eta 0:00:15     |██████▉                         | 143.5 MB 36.0 MB/s eta 0:00:15     |███████                         | 148.1 MB 36.0 MB/s eta 0:00:15     |███████▋                        | 159.7 MB 93.0 MB/s eta 0:00:06     |███████▉                        | 164.4 MB 93.0 MB/s eta 0:00:06     |████████▍                       | 175.7 MB 93.0 MB/s eta 0:00:06     |█████████▍                      | 196.0 MB 46.0 MB/s eta 0:00:11     |█████████▌                      | 198.2 MB 46.0 MB/s eta 0:00:11     |██████████▎                     | 216.4 MB 46.0 MB/s eta 0:00:10     |██████████▌                     | 218.8 MB 46.0 MB/s eta 0:00:10     |██████████▉                     | 227.7 MB 46.0 MB/s eta 0:00:10     |███████████▎                    | 237.0 MB 46.0 MB/s eta 0:00:10     |████████████▎                   | 257.1 MB 23.9 MB/s eta 0:00:18     |█████████████                   | 274.5 MB 23.9 MB/s eta 0:00:17     |█████████████▎                  | 278.9 MB 23.9 MB/s eta 0:00:17     |█████████████▍                  | 281.1 MB 40.3 MB/s eta 0:00:10     |█████████████▋                  | 285.5 MB 40.3 MB/s eta 0:00:10     |██████████████                  | 294.2 MB 40.3 MB/s eta 0:00:10     |██████████████▎                 | 298.7 MB 40.3 MB/s eta 0:00:10     |██████████████▋                 | 305.2 MB 40.3 MB/s eta 0:00:10     |██████████████▊                 | 307.4 MB 40.3 MB/s eta 0:00:10     |███████████████▏                | 318.3 MB 40.3 MB/s eta 0:00:09     |███████████████▎                | 320.5 MB 40.3 MB/s eta 0:00:09     |███████████████▌                | 324.9 MB 41.5 MB/s eta 0:00:09     |████████████████▏               | 337.9 MB 41.5 MB/s eta 0:00:09     |█████████████████               | 357.3 MB 41.5 MB/s eta 0:00:08     |█████████████████▏              | 359.6 MB 41.5 MB/s eta 0:00:08     |█████████████████▌              | 366.5 MB 41.7 MB/s eta 0:00:08     |██████████████████              | 375.9 MB 41.7 MB/s eta 0:00:08     |██████████████████▍             | 385.0 MB 41.7 MB/s eta 0:00:07     |██████████████████▋             | 389.5 MB 41.7 MB/s eta 0:00:07     |███████████████████             | 396.1 MB 41.7 MB/s eta 0:00:07     |███████████████████▎            | 404.4 MB 41.7 MB/s eta 0:00:07     |███████████████████▌            | 408.2 MB 35.9 MB/s eta 0:00:08     |███████████████████▋            | 410.0 MB 35.9 MB/s eta 0:00:08     |████████████████████▎           | 425.3 MB 35.9 MB/s eta 0:00:07     |████████████████████▍           | 427.3 MB 35.9 MB/s eta 0:00:07     |████████████████████▌           | 429.1 MB 35.9 MB/s eta 0:00:07     |█████████████████████           | 439.6 MB 35.9 MB/s eta 0:00:07     |█████████████████████▏          | 443.3 MB 22.3 MB/s eta 0:00:11     |█████████████████████▎          | 445.2 MB 22.3 MB/s eta 0:00:11     |██████████████████████▊         | 476.6 MB 22.3 MB/s eta 0:00:09     |███████████████████████▏        | 486.1 MB 36.4 MB/s eta 0:00:06     |███████████████████████▍        | 490.0 MB 36.4 MB/s eta 0:00:05     |███████████████████████▌        | 492.0 MB 36.4 MB/s eta 0:00:05     |███████████████████████▋        | 494.0 MB 36.4 MB/s eta 0:00:05     |███████████████████████▊        | 495.9 MB 36.4 MB/s eta 0:00:05██████████████████████▊       | 518.3 MB 36.4 MB/s eta 0:00:052 MB 3.4 MB/s eta 0:00:07661.0 MB 3.4 MB/s eta 0:00:03\n",
      "\u001b[?25hCollecting torchvision==0.16.0\n",
      "  Downloading torchvision-0.16.0-cp310-cp310-manylinux1_x86_64.whl (6.9 MB)\n",
      "\u001b[K     |████████████████████████████████| 6.9 MB 41.4 MB/s eta 0:00:01\n",
      "\u001b[?25hCollecting transformers==4.48.1\n",
      "  Downloading transformers-4.48.1-py3-none-any.whl (9.7 MB)\n",
      "\u001b[K     |████████████████████████████████| 9.7 MB 46.3 MB/s eta 0:00:01\n",
      "\u001b[?25hRequirement already satisfied: pillow==9.2.0 in /usr/local/lib/python3.10/dist-packages (9.2.0)\n",
      "Collecting anndata==0.10.3\n",
      "  Downloading anndata-0.10.3-py3-none-any.whl (119 kB)\n",
      "\u001b[K     |████████████████████████████████| 119 kB 8.5 MB/s eta 0:00:01\n",
      "\u001b[?25hCollecting scanpy==1.9.6\n",
      "  Downloading scanpy-1.9.6-py3-none-any.whl (2.0 MB)\n",
      "\u001b[K     |████████████████████████████████| 2.0 MB 41.3 MB/s eta 0:00:01\n",
      "\u001b[?25hRequirement already satisfied: matplotlib in /usr/local/lib/python3.10/dist-packages (3.7.1)\n",
      "Collecting gputil\n",
      "  Downloading GPUtil-1.4.0.tar.gz (5.5 kB)\n",
      "Collecting leidenalg\n",
      "  Downloading leidenalg-0.10.2-cp38-abi3-manylinux_2_17_x86_64.manylinux2014_x86_64.whl (2.0 MB)\n",
      "\u001b[K     |████████████████████████████████| 2.0 MB 43.4 MB/s eta 0:00:01\n",
      "\u001b[?25hCollecting umap-learn\n",
      "  Downloading umap_learn-0.5.7-py3-none-any.whl (88 kB)\n",
      "\u001b[K     |████████████████████████████████| 88 kB 42.5 MB/s eta 0:00:01\n",
      "\u001b[?25hRequirement already satisfied: h5py in /usr/local/lib/python3.10/dist-packages (3.9.0)\n",
      "Requirement already satisfied: requests in /usr/local/lib/python3.10/dist-packages (2.31.0)\n",
      "Requirement already satisfied: scikit-learn>=0.24 in /usr/local/lib/python3.10/dist-packages (1.2.0)\n",
      "Collecting statsmodels==0.14.4\n",
      "  Downloading statsmodels-0.14.4-cp310-cp310-manylinux_2_17_x86_64.manylinux2014_x86_64.whl (10.8 MB)\n",
      "\u001b[K     |████████████████████████████████| 10.8 MB 47.6 MB/s eta 0:00:01\n",
      "\u001b[?25hCollecting session-info\n",
      "  Downloading session_info-1.0.0.tar.gz (24 kB)\n",
      "Collecting patsy\n",
      "  Downloading patsy-1.0.1-py2.py3-none-any.whl (232 kB)\n",
      "\u001b[K     |████████████████████████████████| 232 kB 47.8 MB/s eta 0:00:01\n",
      "\u001b[?25hCollecting safetensors==0.5.2\n",
      "  Downloading safetensors-0.5.2-cp38-abi3-manylinux_2_17_x86_64.manylinux2014_x86_64.whl (461 kB)\n",
      "\u001b[K     |████████████████████████████████| 461 kB 28.9 MB/s eta 0:00:01\n",
      "\u001b[?25hCollecting tokenizers==0.21.0\n",
      "  Downloading tokenizers-0.21.0-cp39-abi3-manylinux_2_17_x86_64.manylinux2014_x86_64.whl (3.0 MB)\n",
      "\u001b[K     |████████████████████████████████| 3.0 MB 43.7 MB/s eta 0:00:01\n",
      "\u001b[?25hCollecting huggingface-hub==0.27.1\n",
      "  Downloading huggingface_hub-0.27.1-py3-none-any.whl (450 kB)\n",
      "\u001b[K     |████████████████████████████████| 450 kB 74.8 MB/s eta 0:00:01\n",
      "\u001b[?25hCollecting llvmlite==0.44.0\n",
      "  Downloading llvmlite-0.44.0-cp310-cp310-manylinux_2_17_x86_64.manylinux2014_x86_64.whl (42.4 MB)\n",
      "\u001b[K     |████████████████████████████████| 42.4 MB 44.2 MB/s eta 0:00:01███████████████▏| 41.2 MB 44.2 MB/s eta 0:00:01\n",
      "\u001b[?25hCollecting numba==0.61.0\n",
      "  Downloading numba-0.61.0-cp310-cp310-manylinux2014_x86_64.manylinux_2_17_x86_64.whl (3.8 MB)\n",
      "\u001b[K     |████████████████████████████████| 3.8 MB 41.3 MB/s eta 0:00:01\n",
      "\u001b[?25hCollecting stdlib-list==0.11.0\n",
      "  Downloading stdlib_list-0.11.0-py3-none-any.whl (83 kB)\n",
      "\u001b[K     |████████████████████████████████| 83 kB 30.6 MB/s eta 0:00:01\n",
      "\u001b[?25hCollecting nvidia-cublas-cu12==12.1.3.1\n",
      "  Downloading nvidia_cublas_cu12-12.1.3.1-py3-none-manylinux1_x86_64.whl (410.6 MB)\n",
      "\u001b[K     |██████████████████████▊         | 291.7 MB 96.8 MB/s eta 0:00:020:06██                    | 153.5 MB 94.7 MB/s eta 0:00:03��█▎                  | 170.5 MB 94.7 MB/s eta 0:00:03�█▏                 | 181.5 MB 94.7 MB/s eta 0:00:03/s eta 0:00:03��▊               | 215.2 MB 96.8 MB/s eta 0:00:03��██████████████              | 231.8 MB 96.8 MB/s eta 0:00:02██████████████▏           | 259.4 MB 96.8 MB/s eta 0:00:02:00:02"
     ]
    },
    {
     "name": "stderr",
     "output_type": "stream",
     "text": [
      "IOPub data rate exceeded.\n",
      "The notebook server will temporarily stop sending output\n",
      "to the client in order to avoid crashing it.\n",
      "To change this limit, set the config variable\n",
      "`--NotebookApp.iopub_data_rate_limit`.\n",
      "\n",
      "Current values:\n",
      "NotebookApp.iopub_data_rate_limit=1000000.0 (bytes/sec)\n",
      "NotebookApp.rate_limit_window=3.0 (secs)\n",
      "\n"
     ]
    },
    {
     "name": "stdout",
     "output_type": "stream",
     "text": [
      "\u001b[K     |████████████████████████████████| 410.6 MB 93.9 MB/s eta 0:00:011\n",
      "\u001b[?25hCollecting nvidia-curand-cu12==10.3.2.106\n",
      "  Downloading nvidia_curand_cu12-10.3.2.106-py3-none-manylinux1_x86_64.whl (56.5 MB)\n",
      "\u001b[K     |████████████████████████████████| 56.5 MB 51.5 MB/s eta 0:00:01[K     |██████████████████▌             | 32.6 MB 51.5 MB/s eta 0:00:01\n",
      "\u001b[?25hCollecting nvidia-nccl-cu12==2.18.1\n",
      "  Downloading nvidia_nccl_cu12-2.18.1-py3-none-manylinux1_x86_64.whl (209.8 MB)\n",
      "\u001b[K     |████████████████████████████████| 209.8 MB 86.4 MB/s eta 0:00:011   |████▎                           | 28.4 MB 20.1 MB/s eta 0:00:10     |███████▌                        | 49.3 MB 102.6 MB/s eta 0:00:02B 102.6 MB/s eta 0:00:02    | 75.4 MB 102.6 MB/s eta 0:00:02██████████████████████▌       | 160.3 MB 86.4 MB/s eta 0:00:01��██▋     | 174.8 MB 86.4 MB/s eta 0:00:01\n",
      "\u001b[?25hCollecting nvidia-cusparse-cu12==12.1.0.106\n",
      "  Downloading nvidia_cusparse_cu12-12.1.0.106-py3-none-manylinux1_x86_64.whl (196.0 MB)\n",
      "\u001b[K     |████████████████████████████████| 196.0 MB 106.8 MB/s eta 0:00:01██████████████                | 98.0 MB 80.3 MB/s eta 0:00:02167.1 MB 80.3 MB/s eta 0:00:01\n",
      "\u001b[?25hCollecting nvidia-cusolver-cu12==11.4.5.107\n",
      "  Downloading nvidia_cusolver_cu12-11.4.5.107-py3-none-manylinux1_x86_64.whl (124.2 MB)\n",
      "\u001b[K     |████████████████████████████████| 124.2 MB 103.6 MB/s eta 0:00:01█████████████▊                | 61.0 MB 65.1 MB/s eta 0:00:01\n",
      "\u001b[?25hRequirement already satisfied: sympy in /usr/local/lib/python3.10/dist-packages (from torch==2.1.0) (1.12)\n",
      "Collecting nvidia-cuda-runtime-cu12==12.1.105\n",
      "  Downloading nvidia_cuda_runtime_cu12-12.1.105-py3-none-manylinux1_x86_64.whl (823 kB)\n",
      "\u001b[K     |████████████████████████████████| 823 kB 47.6 MB/s eta 0:00:01\n",
      "\u001b[?25hCollecting nvidia-cuda-cupti-cu12==12.1.105\n",
      "  Downloading nvidia_cuda_cupti_cu12-12.1.105-py3-none-manylinux1_x86_64.whl (14.1 MB)\n",
      "\u001b[K     |████████████████████████████████| 14.1 MB 68.8 MB/s eta 0:00:01\n",
      "\u001b[?25hCollecting nvidia-cuda-nvrtc-cu12==12.1.105\n",
      "  Downloading nvidia_cuda_nvrtc_cu12-12.1.105-py3-none-manylinux1_x86_64.whl (23.7 MB)\n",
      "\u001b[K     |████████████████████████████████| 23.7 MB 47.1 MB/s eta 0:00:01\n",
      "\u001b[?25hCollecting nvidia-nvtx-cu12==12.1.105\n",
      "  Downloading nvidia_nvtx_cu12-12.1.105-py3-none-manylinux1_x86_64.whl (99 kB)\n",
      "\u001b[K     |████████████████████████████████| 99 kB 43.7 MB/s eta 0:00:01\n",
      "\u001b[?25hRequirement already satisfied: jinja2 in /usr/local/lib/python3.10/dist-packages (from torch==2.1.0) (3.1.2)\n",
      "Requirement already satisfied: filelock in /usr/local/lib/python3.10/dist-packages (from torch==2.1.0) (3.12.2)\n",
      "Collecting nvidia-cufft-cu12==11.0.2.54\n",
      "  Downloading nvidia_cufft_cu12-11.0.2.54-py3-none-manylinux1_x86_64.whl (121.6 MB)\n",
      "\u001b[K     |████████████████████████████████| 121.6 MB 33.4 MB/s eta 0:00:01.2 MB/s eta 0:00:02\n",
      "\u001b[?25hRequirement already satisfied: networkx in /usr/local/lib/python3.10/dist-packages (from torch==2.1.0) (3.1)\n",
      "Requirement already satisfied: fsspec in /usr/local/lib/python3.10/dist-packages (from torch==2.1.0) (2023.5.0)\n",
      "Collecting nvidia-cudnn-cu12==8.9.2.26\n",
      "  Downloading nvidia_cudnn_cu12-8.9.2.26-py3-none-manylinux1_x86_64.whl (731.7 MB)\n",
      "\u001b[K     |████████████████████████████████| 731.7 MB 62.3 MB/s eta 0:00:015     |██████████████████████████████▊ | 702.8 MB 71.9 MB/s eta 0:00:01\n",
      "\u001b[?25hRequirement already satisfied: triton==2.1.0 in /usr/local/lib/python3.10/dist-packages (from torch==2.1.0) (2.1.0)\n",
      "Requirement already satisfied: typing-extensions in /usr/local/lib/python3.10/dist-packages (from torch==2.1.0) (4.6.3)\n",
      "Requirement already satisfied: tqdm>=4.27 in /usr/local/lib/python3.10/dist-packages (from transformers==4.48.1) (4.65.0)\n",
      "Requirement already satisfied: regex!=2019.12.17 in /usr/local/lib/python3.10/dist-packages (from transformers==4.48.1) (2023.6.3)\n",
      "Requirement already satisfied: packaging>=20.0 in /usr/local/lib/python3.10/dist-packages (from transformers==4.48.1) (23.1)\n",
      "Requirement already satisfied: pyyaml>=5.1 in /usr/local/lib/python3.10/dist-packages (from transformers==4.48.1) (6.0)\n",
      "Requirement already satisfied: exceptiongroup in /usr/local/lib/python3.10/dist-packages (from anndata==0.10.3) (1.1.1)\n",
      "Collecting array-api-compat\n",
      "  Downloading array_api_compat-1.11.1-py3-none-any.whl (53 kB)\n",
      "\u001b[K     |████████████████████████████████| 53 kB 27.9 MB/s eta 0:00:01\n",
      "\u001b[?25hRequirement already satisfied: scipy>1.4 in /usr/local/lib/python3.10/dist-packages (from anndata==0.10.3) (1.10.1)\n",
      "Requirement already satisfied: natsort in /usr/local/lib/python3.10/dist-packages (from anndata==0.10.3) (8.4.0)\n",
      "Requirement already satisfied: pandas!=2.1.0rc0,!=2.1.2,>=1.1.1 in /usr/local/lib/python3.10/dist-packages (from anndata==0.10.3) (1.5.2)\n",
      "Requirement already satisfied: joblib in /usr/local/lib/python3.10/dist-packages (from scanpy==1.9.6) (1.2.0)\n",
      "Requirement already satisfied: seaborn!=0.13.0 in /usr/local/lib/python3.10/dist-packages (from scanpy==1.9.6) (0.12.2)\n",
      "Collecting nvidia-nvjitlink-cu12\n",
      "  Downloading nvidia_nvjitlink_cu12-12.8.93-py3-none-manylinux2010_x86_64.manylinux_2_12_x86_64.whl (39.3 MB)\n",
      "\u001b[K     |████████████████████████████████| 39.3 MB 44.6 MB/s eta 0:00:01.2 MB 44.6 MB/s eta 0:00:01\n",
      "\u001b[?25hRequirement already satisfied: contourpy>=1.0.1 in /usr/local/lib/python3.10/dist-packages (from matplotlib) (1.0.7)\n",
      "Requirement already satisfied: pyparsing>=2.3.1 in /usr/local/lib/python3.10/dist-packages (from matplotlib) (3.0.9)\n",
      "Requirement already satisfied: python-dateutil>=2.7 in /usr/local/lib/python3.10/dist-packages (from matplotlib) (2.8.2)\n",
      "Requirement already satisfied: kiwisolver>=1.0.1 in /usr/local/lib/python3.10/dist-packages (from matplotlib) (1.4.4)\n",
      "Requirement already satisfied: fonttools>=4.22.0 in /usr/local/lib/python3.10/dist-packages (from matplotlib) (4.39.4)\n",
      "Requirement already satisfied: cycler>=0.10 in /usr/local/lib/python3.10/dist-packages (from matplotlib) (0.11.0)\n",
      "Collecting igraph<0.12,>=0.10.0\n",
      "  Downloading igraph-0.11.8-cp39-abi3-manylinux_2_17_x86_64.manylinux2014_x86_64.whl (3.1 MB)\n",
      "\u001b[K     |████████████████████████████████| 3.1 MB 46.1 MB/s eta 0:00:01\n",
      "\u001b[?25hCollecting pynndescent>=0.5\n",
      "  Downloading pynndescent-0.5.13-py3-none-any.whl (56 kB)\n",
      "\u001b[K     |████████████████████████████████| 56 kB 55.7 MB/s eta 0:00:01\n",
      "\u001b[?25hRequirement already satisfied: charset-normalizer<4,>=2 in /usr/local/lib/python3.10/dist-packages (from requests) (3.1.0)\n",
      "Requirement already satisfied: idna<4,>=2.5 in /usr/local/lib/python3.10/dist-packages (from requests) (3.4)\n",
      "Requirement already satisfied: certifi>=2017.4.17 in /usr/local/lib/python3.10/dist-packages (from requests) (2023.5.7)\n",
      "Requirement already satisfied: urllib3<3,>=1.21.1 in /usr/local/lib/python3.10/dist-packages (from requests) (1.26.16)\n",
      "Requirement already satisfied: threadpoolctl>=2.0.0 in /usr/local/lib/python3.10/dist-packages (from scikit-learn>=0.24) (3.1.0)\n",
      "Collecting texttable>=1.6.2\n",
      "  Downloading texttable-1.7.0-py2.py3-none-any.whl (10 kB)\n",
      "Requirement already satisfied: pytz>=2020.1 in /usr/local/lib/python3.10/dist-packages (from pandas!=2.1.0rc0,!=2.1.2,>=1.1.1->anndata==0.10.3) (2023.3)\n",
      "Requirement already satisfied: six>=1.5 in /usr/local/lib/python3.10/dist-packages (from python-dateutil>=2.7->matplotlib) (1.16.0)\n",
      "Requirement already satisfied: MarkupSafe>=2.0 in /usr/local/lib/python3.10/dist-packages (from jinja2->torch==2.1.0) (2.1.3)\n",
      "Requirement already satisfied: mpmath>=0.19 in /usr/local/lib/python3.10/dist-packages (from sympy->torch==2.1.0) (1.3.0)\n",
      "Building wheels for collected packages: gputil, session-info\n",
      "  Building wheel for gputil (setup.py) ... \u001b[?25ldone\n",
      "\u001b[?25h  Created wheel for gputil: filename=GPUtil-1.4.0-py3-none-any.whl size=7408 sha256=fa8f3e43a370d02e67c3a3b8fa33974895c608dd81ddb60abfd8c78faad2c10b\n",
      "  Stored in directory: /tmp/pip-ephem-wheel-cache-cjlot1k5/wheels/a9/8a/bd/81082387151853ab8b6b3ef33426e98f5cbfebc3c397a9d4d0\n",
      "  Building wheel for session-info (setup.py) ... \u001b[?25ldone\n",
      "\u001b[?25h  Created wheel for session-info: filename=session_info-1.0.0-py3-none-any.whl size=8042 sha256=b413d5efa6ad822da7a1f363b52c1ec58a997318ce2e6657ac5e402d611cb583\n",
      "  Stored in directory: /tmp/pip-ephem-wheel-cache-cjlot1k5/wheels/6a/aa/b9/eb5d4031476ec10802795b97ccf937b9bd998d68a9b268765a\n",
      "Successfully built gputil session-info\n",
      "Installing collected packages: numpy, nvidia-nvjitlink-cu12, llvmlite, nvidia-cusparse-cu12, nvidia-cublas-cu12, numba, texttable, stdlib-list, pynndescent, patsy, nvidia-nvtx-cu12, nvidia-nccl-cu12, nvidia-cusolver-cu12, nvidia-curand-cu12, nvidia-cufft-cu12, nvidia-cudnn-cu12, nvidia-cuda-runtime-cu12, nvidia-cuda-nvrtc-cu12, nvidia-cuda-cupti-cu12, huggingface-hub, array-api-compat, umap-learn, torch, tokenizers, statsmodels, session-info, safetensors, igraph, anndata, transformers, torchvision, scanpy, leidenalg, gputil\n",
      "  Attempting uninstall: numpy\n",
      "    Found existing installation: numpy 1.22.2\n",
      "\u001b[33m    WARNING: Value for bin_prefix does not match. Please report this to <https://github.com/pypa/pip/issues/10151>\n",
      "    distutils: /usr/bin\n",
      "    sysconfig: /usr/local/bin\u001b[0m\n",
      "\u001b[33m    WARNING: Additional context:\n",
      "    user = False\n",
      "    home = None\n",
      "    root = None\n",
      "    prefix = None\u001b[0m\n",
      "    Uninstalling numpy-1.22.2:\n",
      "      Successfully uninstalled numpy-1.22.2\n",
      "  Attempting uninstall: llvmlite\n",
      "    Found existing installation: llvmlite 0.39.1\n",
      "    Uninstalling llvmlite-0.39.1:\n",
      "      Successfully uninstalled llvmlite-0.39.1\n",
      "  Attempting uninstall: numba\n",
      "    Found existing installation: numba 0.56.4+1.g5f1bc7084\n",
      "    Uninstalling numba-0.56.4+1.g5f1bc7084:\n",
      "      Successfully uninstalled numba-0.56.4+1.g5f1bc7084\n",
      "  Attempting uninstall: torch\n",
      "    Found existing installation: torch 2.1.0a0+4136153\n",
      "    Uninstalling torch-2.1.0a0+4136153:\n",
      "      Successfully uninstalled torch-2.1.0a0+4136153\n",
      "  Attempting uninstall: torchvision\n",
      "    Found existing installation: torchvision 0.16.0a0\n",
      "    Uninstalling torchvision-0.16.0a0:\n",
      "      Successfully uninstalled torchvision-0.16.0a0\n",
      "\u001b[31mERROR: pip's dependency resolver does not currently take into account all the packages that are installed. This behaviour is the source of the following dependency conflicts.\n",
      "torchtext 0.16.0a0 requires torch==2.1.0a0+4136153, but you have torch 2.1.0 which is incompatible.\n",
      "torchdata 0.7.0a0 requires torch==2.1.0a0+4136153, but you have torch 2.1.0 which is incompatible.\n",
      "cupy-cuda12x 12.0.0b3 requires numpy<1.26,>=1.20, but you have numpy 1.26.4 which is incompatible.\n",
      "cudf 23.4.0 requires numba<0.57,>=0.56.4, but you have numba 0.61.0 which is incompatible.\u001b[0m\n",
      "Successfully installed anndata-0.10.3 array-api-compat-1.11.1 gputil-1.4.0 huggingface-hub-0.27.1 igraph-0.11.8 leidenalg-0.10.2 llvmlite-0.44.0 numba-0.61.0 numpy-1.26.4 nvidia-cublas-cu12-12.1.3.1 nvidia-cuda-cupti-cu12-12.1.105 nvidia-cuda-nvrtc-cu12-12.1.105 nvidia-cuda-runtime-cu12-12.1.105 nvidia-cudnn-cu12-8.9.2.26 nvidia-cufft-cu12-11.0.2.54 nvidia-curand-cu12-10.3.2.106 nvidia-cusolver-cu12-11.4.5.107 nvidia-cusparse-cu12-12.1.0.106 nvidia-nccl-cu12-2.18.1 nvidia-nvjitlink-cu12-12.8.93 nvidia-nvtx-cu12-12.1.105 patsy-1.0.1 pynndescent-0.5.13 safetensors-0.5.2 scanpy-1.9.6 session-info-1.0.0 statsmodels-0.14.4 stdlib-list-0.11.0 texttable-1.7.0 tokenizers-0.21.0 torch-2.1.0 torchvision-0.16.0 transformers-4.48.1 umap-learn-0.5.7\n",
      "\u001b[33mWARNING: You are using pip version 21.2.4; however, version 25.0.1 is available.\n",
      "You should consider upgrading via the '/usr/bin/python -m pip install --upgrade pip' command.\u001b[0m\n"
     ]
    }
   ],
   "source": [
    "!pip install numpy==1.26.4 torch==2.1.0 torchvision==0.16.0 \\\n",
    "    transformers==4.48.1 pillow==9.2.0 anndata==0.10.3 scanpy==1.9.6 \\\n",
    "    matplotlib gputil leidenalg umap-learn h5py requests \\\n",
    "    \"scikit-learn>=0.24\" statsmodels==0.14.4 session-info patsy \\\n",
    "    safetensors==0.5.2 tokenizers==0.21.0 huggingface-hub==0.27.1 \\\n",
    "    llvmlite==0.44.0 numba==0.61.0 stdlib-list==0.11.0"
   ]
  },
  {
   "cell_type": "code",
   "execution_count": 2,
   "id": "c84a9bb8",
   "metadata": {},
   "outputs": [],
   "source": [
    "import os\n",
    "import re\n",
    "import glob\n",
    "import random\n",
    "import pickle\n",
    "from collections import Counter\n",
    "import numpy as np\n",
    "import pandas as pd\n",
    "import h5py\n",
    "import umap\n",
    "#import anndata as ad\n",
    "#import scanpy as sc\n",
    "import seaborn as sns\n",
    "import matplotlib.pyplot as plt\n",
    "from matplotlib.colors import ListedColormap\n",
    "from PIL import Image\n",
    "import requests\n",
    "import seaborn as sns\n",
    "from scipy import stats\n",
    "\n",
    "import torch\n",
    "import torch.nn as nn\n",
    "import torch.nn.functional as F\n",
    "import torch.optim as optim\n",
    "from torch.optim import Adam\n",
    "from torch.utils.data import DataLoader, Subset, TensorDataset\n",
    "from torch.utils.tensorboard import SummaryWriter\n",
    "import torchvision\n",
    "from torchvision import transforms, utils\n",
    "\n",
    "from sklearn.metrics import (\n",
    "    accuracy_score,\n",
    "    f1_score,\n",
    "    precision_score,\n",
    "    recall_score,\n",
    "    balanced_accuracy_score,\n",
    "    confusion_matrix\n",
    ")\n",
    "from sklearn.neighbors import NearestNeighbors\n",
    "from transformers import AutoImageProcessor, ConvNextModel, ConvNextConfig\n",
    "from sklearn.metrics.pairwise import cosine_similarity\n",
    "\n",
    "\n",
    "from sparcscore.ml.datasets import HDF5SingleCellDataset\n",
    "from sparcscore.ml.transforms import RandomRotation, GaussianNoise, ChannelReducer, ChannelSelector\n",
    "from sparcscore.ml.utils import combine_datasets_balanced"
   ]
  },
  {
   "cell_type": "code",
   "execution_count": 3,
   "id": "0a1d4b56",
   "metadata": {},
   "outputs": [
    {
     "name": "stdout",
     "output_type": "stream",
     "text": [
      "Loaded embeddings shape: (20000, 2048)\n",
      "Loaded labels shape: (20000,)\n",
      "Loaded cell_ids shape: (20000,)\n"
     ]
    }
   ],
   "source": [
    "#Load the semisupervised embeddings\n",
    "save_path = \"/dss/dssfs02/lwp-dss-0001/pn36po/pn36po-dss-0001/di93quv/semisupervised_convnext/\"\n",
    "file_name = \"semisupervised_case3.pkl\"\n",
    "file_path = os.path.join(save_path, file_name)\n",
    "\n",
    "# Load the data\n",
    "with open(file_path, 'rb') as f:\n",
    "    data = pickle.load(f)\n",
    "\n",
    "# Extract embeddings, labels, and cell_ids\n",
    "embeddings = data['embeddings']\n",
    "labels_list = data['labels']\n",
    "cell_ids_list = data['cell_ids']\n",
    "\n",
    "print(f\"Loaded embeddings shape: {embeddings.shape}\")\n",
    "print(f\"Loaded labels shape: {labels_list.shape}\")\n",
    "print(f\"Loaded cell_ids shape: {cell_ids_list.shape}\")"
   ]
  },
  {
   "cell_type": "code",
   "execution_count": 4,
   "id": "79b9a6ec",
   "metadata": {},
   "outputs": [
    {
     "name": "stdout",
     "output_type": "stream",
     "text": [
      "Loaded embeddings shape: (20000, 2048)\n",
      "Loaded labels shape: (20000,)\n",
      "Loaded cell_ids shape: (20000,)\n"
     ]
    }
   ],
   "source": [
    "#Second semisupervised run\n",
    "#Load the semisupervised embeddings\n",
    "save_path = \"/dss/dssfs02/lwp-dss-0001/pn36po/pn36po-dss-0001/di93quv/semisupervised_convnext/\"\n",
    "file_name = \"semisupervised_case3_v2.pkl\"\n",
    "file_path = os.path.join(save_path, file_name)\n",
    "\n",
    "# Load the data\n",
    "with open(file_path, 'rb') as f:\n",
    "    data = pickle.load(f)\n",
    "\n",
    "# Extract embeddings, labels, and cell_ids\n",
    "embeddings = data['embeddings']\n",
    "labels_list = data['labels']\n",
    "cell_ids_list = data['cell_ids']\n",
    "\n",
    "print(f\"Loaded embeddings shape: {embeddings.shape}\")\n",
    "print(f\"Loaded labels shape: {labels_list.shape}\")\n",
    "print(f\"Loaded cell_ids shape: {cell_ids_list.shape}\")"
   ]
  },
  {
   "cell_type": "code",
   "execution_count": 5,
   "id": "fa64334e",
   "metadata": {},
   "outputs": [],
   "source": [
    "# Load the baseline (non finetuned!) Convnext from Imagenet as we get it from Huggingface\n",
    "\n",
    "pool_path = './convnext_output_files/pool.npy'\n",
    "labels_path = './convnext_output_files/labels.npy'\n",
    "class_ids_path = './convnext_output_files/class_ids.npy'\n",
    "\n",
    "# Load the data\n",
    "output_avg = np.load(pool_path)  \n",
    "labels = np.load(labels_path)   \n",
    "class_ids = np.load(class_ids_path)  "
   ]
  },
  {
   "cell_type": "code",
   "execution_count": 6,
   "id": "ea4c1bd4",
   "metadata": {},
   "outputs": [],
   "source": [
    "# Compute cosine similarity matrix for the semi-supervised model embeddings\n",
    "cosine_sim_semisupervised = cosine_similarity(embeddings)\n",
    "\n",
    "# Compute cosine similarity matrix for the ImageNet-pretrained ConvNeXt embeddings\n",
    "cosine_sim_baseline = cosine_similarity(output_avg)\n",
    "\n",
    "# Compare specific class distances\n",
    "def get_class_similarity(similarity_matrix, labels, class_a, class_b):\n",
    "    indices_a = np.where(labels == class_a)[0]\n",
    "    indices_b = np.where(labels == class_b)[0]\n",
    "    \n",
    "    # Compute mean similarity between the two classes\n",
    "    similarity_values = similarity_matrix[np.ix_(indices_a, indices_b)]\n",
    "    return np.mean(similarity_values)\n"
   ]
  },
  {
   "cell_type": "code",
   "execution_count": 16,
   "id": "8a1d7d5f",
   "metadata": {},
   "outputs": [
    {
     "name": "stdout",
     "output_type": "stream",
     "text": [
      "Baseline (ImageNet ConvNeXt) ATG5 KO vs Unstimulated: 0.1649\n",
      "Fine-tuned (Semi-supervised) ATG5 KO vs Unstimulated: 0.3811\n"
     ]
    }
   ],
   "source": [
    "# Compute pairwise similarities (absolute)\n",
    "atg5_unstim_baseline = get_class_similarity(cosine_sim_baseline, labels, class_a=2, class_b=1)\n",
    "atg5_unstim_semisupervised = get_class_similarity(cosine_sim_semisupervised, labels_list, class_a=2, class_b=1)\n",
    "\n",
    "print(f\"Baseline (ImageNet ConvNeXt) ATG5 KO vs Unstimulated: {atg5_unstim_baseline:.4f}\")\n",
    "print(f\"Fine-tuned (Semi-supervised) ATG5 KO vs Unstimulated: {atg5_unstim_semisupervised:.4f}\")"
   ]
  },
  {
   "cell_type": "code",
   "execution_count": 8,
   "id": "f930487f",
   "metadata": {},
   "outputs": [
    {
     "name": "stdout",
     "output_type": "stream",
     "text": [
      "Baseline (ImageNet ConvNeXt) Relative ATG5 KO vs Unstimulated: -2.5478\n",
      "Fine-tuned (Semi-supervised) Relative ATG5 KO vs Unstimulated: 5.9047\n"
     ]
    }
   ],
   "source": [
    "# Compute pairwise similarities (relative first semisupervised run!)\n",
    "atg5_unstim_baseline = get_class_similarity(cosine_sim_baseline, labels, class_a=2, class_b=1)\n",
    "atg5_wt_baseline = get_class_similarity(cosine_sim_baseline, labels, class_a=2, class_b=0)\n",
    "\n",
    "atg5_unstim_semisupervised = get_class_similarity(cosine_sim_semisupervised, labels_list, class_a=2, class_b=1)\n",
    "atg5_wt_semisupervised = get_class_similarity(cosine_sim_semisupervised, labels_list, class_a=2, class_b=0)\n",
    "\n",
    "# Compute relative similarity by normalizing\n",
    "relative_baseline = atg5_unstim_baseline / atg5_wt_baseline\n",
    "relative_semisupervised = atg5_unstim_semisupervised / atg5_wt_semisupervised\n",
    "\n",
    "# Print results\n",
    "print(f\"Baseline (ImageNet ConvNeXt) Relative ATG5 KO vs Unstimulated: {relative_baseline:.4f}\")\n",
    "print(f\"Fine-tuned (Semi-supervised) Relative ATG5 KO vs Unstimulated: {relative_semisupervised:.4f}\")"
   ]
  },
  {
   "cell_type": "code",
   "execution_count": 5,
   "id": "8d3f3daa",
   "metadata": {},
   "outputs": [
    {
     "name": "stdout",
     "output_type": "stream",
     "text": [
      "Baseline (ImageNet ConvNeXt) Relative ATG5 KO vs Unstimulated: -2.5478\n",
      "Fine-tuned (Semi-supervised) Relative ATG5 KO vs Unstimulated: 2.4761\n"
     ]
    }
   ],
   "source": [
    "# Compute pairwise similarities (relative! second semisupervised run)\n",
    "atg5_unstim_baseline = get_class_similarity(cosine_sim_baseline, labels, class_a=2, class_b=1)\n",
    "atg5_wt_baseline = get_class_similarity(cosine_sim_baseline, labels, class_a=2, class_b=0)\n",
    "\n",
    "atg5_unstim_semisupervised = get_class_similarity(cosine_sim_semisupervised, labels_list, class_a=2, class_b=1)\n",
    "atg5_wt_semisupervised = get_class_similarity(cosine_sim_semisupervised, labels_list, class_a=2, class_b=0)\n",
    "\n",
    "# Compute relative similarity by normalizing\n",
    "relative_baseline = atg5_unstim_baseline / atg5_wt_baseline\n",
    "relative_semisupervised = atg5_unstim_semisupervised / atg5_wt_semisupervised\n",
    "\n",
    "# Print results\n",
    "print(f\"Baseline (ImageNet ConvNeXt) Relative ATG5 KO vs Unstimulated: {relative_baseline:.4f}\")\n",
    "print(f\"Fine-tuned (Semi-supervised) Relative ATG5 KO vs Unstimulated: {relative_semisupervised:.4f}\")\n"
   ]
  },
  {
   "cell_type": "markdown",
   "id": "78560468",
   "metadata": {},
   "source": [
    "class similarities by normalizing the ATG5 KO vs Unstimulated (2 vs 1) distance using Unstimulated vs WT (2 vs 0) as a reference"
   ]
  },
  {
   "cell_type": "code",
   "execution_count": 7,
   "id": "4b9474f6",
   "metadata": {},
   "outputs": [
    {
     "name": "stdout",
     "output_type": "stream",
     "text": [
      "Baseline (ImageNet ConvNeXt) Relative ATG5 KO vs Unstimulated: 1.2455\n",
      "Fine-tuned (Semi-supervised) Relative ATG5 KO vs Unstimulated: 1.1866\n"
     ]
    }
   ],
   "source": [
    "# Shift cosine similarity values to be positive\n",
    "cosine_sim_baseline_positive = cosine_sim_baseline + 1\n",
    "cosine_sim_semisupervised_positive = cosine_sim_semisupervised + 1\n",
    "\n",
    "# Now recompute the class similarities using the shifted cosine similarity matrices\n",
    "atg5_unstim_baseline = get_class_similarity(cosine_sim_baseline_positive, labels, class_a=2, class_b=1)\n",
    "atg5_wt_baseline = get_class_similarity(cosine_sim_baseline_positive, labels, class_a=2, class_b=0)\n",
    "\n",
    "atg5_unstim_semisupervised = get_class_similarity(cosine_sim_semisupervised_positive, labels_list, class_a=2, class_b=1)\n",
    "atg5_wt_semisupervised = get_class_similarity(cosine_sim_semisupervised_positive, labels_list, class_a=2, class_b=0)\n",
    "\n",
    "# Compute relative similarity by normalizing\n",
    "relative_baseline = atg5_unstim_baseline / atg5_wt_baseline\n",
    "relative_semisupervised = atg5_unstim_semisupervised / atg5_wt_semisupervised\n",
    "\n",
    "# Print the updated results\n",
    "print(f\"Baseline (ImageNet ConvNeXt) Relative ATG5 KO vs Unstimulated: {relative_baseline:.4f}\")\n",
    "print(f\"Fine-tuned (Semi-supervised) Relative ATG5 KO vs Unstimulated: {relative_semisupervised:.4f}\")"
   ]
  },
  {
   "cell_type": "code",
   "execution_count": 9,
   "id": "4787ec02",
   "metadata": {},
   "outputs": [
    {
     "name": "stdout",
     "output_type": "stream",
     "text": [
      "Wilcoxon test: test-statistic = 0.0000, p-value = 0.5000\n"
     ]
    }
   ],
   "source": [
    "from scipy.stats import wilcoxon\n",
    "\n",
    "# Collect similarity values into arrays\n",
    "baseline_similarities = np.array([atg5_unstim_baseline, atg5_wt_baseline])\n",
    "semisupervised_similarities = np.array([atg5_unstim_semisupervised, atg5_wt_semisupervised])\n",
    "\n",
    "# Perform Wilcoxon signed-rank test\n",
    "stat, p_value = wilcoxon(baseline_similarities, semisupervised_similarities)\n",
    "print(f\"Wilcoxon test: test-statistic = {stat:.4f}, p-value = {p_value:.4f}\")"
   ]
  },
  {
   "cell_type": "code",
   "execution_count": 11,
   "id": "a3285ebd",
   "metadata": {},
   "outputs": [
    {
     "name": "stdout",
     "output_type": "stream",
     "text": [
      "Paired t-test: t-statistic = -25.1029, p-value = 0.0253\n"
     ]
    }
   ],
   "source": [
    "from scipy.stats import ttest_rel\n",
    "\n",
    "# Perform paired t-test\n",
    "t_stat, p_value = ttest_rel(baseline_similarities, semisupervised_similarities)\n",
    "print(f\"Paired t-test: t-statistic = {t_stat:.4f}, p-value = {p_value:.4f}\")"
   ]
  },
  {
   "cell_type": "code",
   "execution_count": 21,
   "id": "e9d210e6",
   "metadata": {},
   "outputs": [
    {
     "name": "stdout",
     "output_type": "stream",
     "text": [
      "Paired t-test: t-statistic = -2.9173, p-value = 0.1002\n"
     ]
    },
    {
     "data": {
      "image/png": "[encoded data removed]",
      "text/plain": [
       "<Figure size 1000x600 with 1 Axes>"
      ]
     },
     "metadata": {},
     "output_type": "display_data"
    }
   ],
   "source": [
    "# Collect all cosine similarity values for comparison\n",
    "baseline_similarities = [get_class_similarity(cosine_sim_baseline, labels, class_a=2, class_b=i) for i in range(3)]  # Compare with different classes\n",
    "semisupervised_similarities = [get_class_similarity(cosine_sim_semisupervised, labels_list, class_a=2, class_b=i) for i in range(3)]\n",
    "\n",
    "# Perform statistical comparison (Paired t-test or Wilcoxon test)\n",
    "t_stat, p_value = stats.ttest_rel(baseline_similarities, semisupervised_similarities)\n",
    "print(f\"Paired t-test: t-statistic = {t_stat:.4f}, p-value = {p_value:.4f}\")\n",
    "\n",
    "# Plot the cosine similarity values for both models\n",
    "plt.figure(figsize=(10, 6))\n",
    "sns.barplot(x=['ATG5 KO vs Unstimulated (Baseline)', 'ATG5 KO vs Unstimulated (Fine-tuned)'],\n",
    "            y=[atg5_unstim_baseline, atg5_unstim_semisupervised],\n",
    "            palette='coolwarm')\n",
    "plt.title('Cosine Similarity for ATG5 KO vs Unstimulated')\n",
    "plt.ylabel('Cosine Similarity')\n",
    "plt.tight_layout()\n",
    "plt.show()"
   ]
  },
  {
   "cell_type": "code",
   "execution_count": 23,
   "id": "e2b95fd0",
   "metadata": {},
   "outputs": [
    {
     "name": "stdout",
     "output_type": "stream",
     "text": [
      "Cohen's d: -1.7441036556237801\n"
     ]
    }
   ],
   "source": [
    "import numpy as np\n",
    "\n",
    "def cohen_d(x, y):\n",
    "    return (np.mean(x) - np.mean(y)) / np.sqrt((np.std(x) ** 2 + np.std(y) ** 2) / 2)\n",
    "\n",
    "d = cohen_d(cosine_sim_baseline.flatten(), cosine_sim_semisupervised.flatten())\n",
    "print(f\"Cohen's d: {d}\")"
   ]
  },
  {
   "cell_type": "code",
   "execution_count": 24,
   "id": "94aad127",
   "metadata": {},
   "outputs": [
    {
     "name": "stdout",
     "output_type": "stream",
     "text": [
      "1764000000 400000000\n"
     ]
    }
   ],
   "source": [
    "cosine_sim_baseline_flattened = cosine_sim_baseline.flatten()\n",
    "cosine_sim_semisupervised_flattened = cosine_sim_semisupervised.flatten()\n",
    "\n",
    "print(len(cosine_sim_baseline_flattened), len(cosine_sim_semisupervised_flattened))"
   ]
  },
  {
   "cell_type": "code",
   "execution_count": 25,
   "id": "2d74a797",
   "metadata": {},
   "outputs": [
    {
     "name": "stdout",
     "output_type": "stream",
     "text": [
      "Wilcoxon test p-value: 0.0\n"
     ]
    }
   ],
   "source": [
    "min_length = min(len(cosine_sim_baseline_flattened), len(cosine_sim_semisupervised_flattened))\n",
    "\n",
    "cosine_sim_baseline_flattened = cosine_sim_baseline_flattened[:min_length]\n",
    "cosine_sim_semisupervised_flattened = cosine_sim_semisupervised_flattened[:min_length]\n",
    "\n",
    "stat, p_value = wilcoxon(cosine_sim_baseline_flattened, cosine_sim_semisupervised_flattened)\n",
    "print(f\"Wilcoxon test p-value: {p_value}\")"
   ]
  },
  {
   "cell_type": "code",
   "execution_count": 17,
   "id": "90ce42fb",
   "metadata": {},
   "outputs": [
    {
     "name": "stdout",
     "output_type": "stream",
     "text": [
      "Silhouette Score (Fine-tuned Semi-supervised): 0.1901\n",
      "Silhouette Score (Baseline ImageNet ConvNeXt): 0.0423\n"
     ]
    }
   ],
   "source": [
    "from sklearn.metrics import silhouette_score\n",
    "\n",
    "# Use the labels from your model or ground truth (use the same labels as you used for cosine similarity)\n",
    "sil_score_semisupervised = silhouette_score(embeddings, labels_list, metric=\"cosine\")\n",
    "sil_score_baseline = silhouette_score(output_avg, labels, metric=\"cosine\")\n",
    "\n",
    "print(f\"Silhouette Score (Fine-tuned Semi-supervised): {sil_score_semisupervised:.4f}\")\n",
    "print(f\"Silhouette Score (Baseline ImageNet ConvNeXt): {sil_score_baseline:.4f}\")"
   ]
  },
  {
   "cell_type": "code",
   "execution_count": null,
   "id": "17f134fe",
   "metadata": {},
   "outputs": [],
   "source": []
  }
 ],
 "metadata": {
  "kernelspec": {
   "display_name": "Python 3 (ipykernel)",
   "language": "python",
   "name": "python3"
  },
  "language_info": {
   "codemirror_mode": {
    "name": "ipython",
    "version": 3
   },
   "file_extension": ".py",
   "mimetype": "text/x-python",
   "name": "python",
   "nbconvert_exporter": "python",
   "pygments_lexer": "ipython3",
   "version": "3.10.6"
  }
 },
 "nbformat": 4,
 "nbformat_minor": 5
}
